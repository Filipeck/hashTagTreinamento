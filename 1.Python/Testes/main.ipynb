{
 "cells": [
  {
   "cell_type": "code",
   "execution_count": 2,
   "metadata": {
    "scrolled": true
   },
   "outputs": [
    {
     "name": "stdout",
     "output_type": "stream",
     "text": [
      "['quarto item', 'terceiro item', 'segundo item']\n",
      "123\n"
     ]
    }
   ],
   "source": [
    "lista_teste = ['primeiro item', 'segundo item', 'terceiro item', 'quarto item', '123', '456', '789', '101112']\n",
    "print(lista_teste[-5:0:-1])\n",
    "\n",
    "i = lista_teste.index('123')\n",
    "print(lista_teste[i])"
   ]
  },
  {
   "cell_type": "code",
   "execution_count": 3,
   "metadata": {},
   "outputs": [
    {
     "name": "stdout",
     "output_type": "stream",
     "text": [
      "Digite o valor procurado: 456\n",
      "5\n"
     ]
    }
   ],
   "source": [
    "procura = input('Digite o valor procurado: ')\n",
    "\n",
    "if not procura in lista_teste:\n",
    "    print('Digite novamente, valor não existe na lista @_@')\n",
    "else:\n",
    "    print(lista_teste.index(procura))"
   ]
  },
  {
   "cell_type": "code",
   "execution_count": 4,
   "metadata": {},
   "outputs": [
    {
     "name": "stdout",
     "output_type": "stream",
     "text": [
      "[2075, 5650, 1959, 3770, 6242, 551, 6452, 6161, 5750, 2767, 4927, 1550, 4422, 923, 6586, 8640, 694, 8587, 2605, 7593, 7664, 9822, 2516, 8947, 4801, 9328, 3333, 7299, 8751, 2633, 2790, 4813, 2823, 4359, 8427, 9949, 4969, 2872, 3060, 4423, 4121, 9474, 8061, 4612, 8811, 8371, 1507, 942, 1575, 8629, 9246, 5340, 657, 5102, 2247, 1269, 8411, 2539, 1988, 8769, 9084, 3330, 5218, 7087, 8451, 875, 9914, 1917, 5904, 8151, 3792, 8823, 7320, 6950, 7442, 8033, 9438, 3005, 3603, 8284, 4156, 1554, 5254, 1786, 6057, 8346, 3637, 7315, 5641, 1103, 6109, 6735, 2996, 3735, 3070, 6509, 8609, 943, 5831, 3184]\n"
     ]
    }
   ],
   "source": [
    "import random\n",
    "\n",
    "lista = [random.randint(500, 10000) for _ in range(100)]\n",
    "print(lista)"
   ]
  }
 ],
 "metadata": {
  "kernelspec": {
   "display_name": "Python 3 (ipykernel)",
   "language": "python",
   "name": "python3"
  },
  "language_info": {
   "codemirror_mode": {
    "name": "ipython",
    "version": 3
   },
   "file_extension": ".py",
   "mimetype": "text/x-python",
   "name": "python",
   "nbconvert_exporter": "python",
   "pygments_lexer": "ipython3",
   "version": "3.10.13"
  }
 },
 "nbformat": 4,
 "nbformat_minor": 2
}
