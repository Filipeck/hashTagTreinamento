{
 "cells": [
  {
   "cell_type": "code",
   "execution_count": 5,
   "metadata": {
    "scrolled": true
   },
   "outputs": [
    {
     "name": "stdout",
     "output_type": "stream",
     "text": [
      "['quarto item', 'terceiro item', 'segundo item']\n",
      "123\n"
     ]
    }
   ],
   "source": [
    "lista_teste = ['primeiro item', 'segundo item', 'terceiro item', 'quarto item', '123', '456', '789', '101112']\n",
    "print(lista_teste[-5:0:-1])\n",
    "\n",
    "i = lista_teste.index('123')\n",
    "print(lista_teste[i])"
   ]
  },
  {
   "cell_type": "code",
   "execution_count": 7,
   "metadata": {},
   "outputs": [
    {
     "name": "stdout",
     "output_type": "stream",
     "text": [
      "Digite o valor procurado: 123\n",
      "4\n"
     ]
    }
   ],
   "source": [
    "procura = input('Digite o valor procurado: ')\n",
    "\n",
    "if not procura in lista_teste:\n",
    "    print('Digite novamente, valor não existe na lista @_@')\n",
    "else:\n",
    "    print(lista_teste.index(procura))"
   ]
  }
 ],
 "metadata": {
  "kernelspec": {
   "display_name": "Python 3 (ipykernel)",
   "language": "python",
   "name": "python3"
  },
  "language_info": {
   "codemirror_mode": {
    "name": "ipython",
    "version": 3
   },
   "file_extension": ".py",
   "mimetype": "text/x-python",
   "name": "python",
   "nbconvert_exporter": "python",
   "pygments_lexer": "ipython3",
   "version": "3.10.13"
  }
 },
 "nbformat": 4,
 "nbformat_minor": 2
}
