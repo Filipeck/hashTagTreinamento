{
 "cells": [
  {
   "cell_type": "markdown",
   "metadata": {},
   "source": [
    "# Exercícios\n",
    "\n",
    "## 1. Faturamento do Melhor e do Pior Mês do Ano\n",
    "\n",
    "Qual foi o valor de vendas do melhor mês do Ano?\n",
    "E valor do pior mês do ano?"
   ]
  },
  {
   "cell_type": "code",
   "execution_count": 23,
   "metadata": {},
   "outputs": [
    {
     "name": "stdout",
     "output_type": "stream",
     "text": [
      "O melhor mês vendeu R$ 49051.00 e o pior mês vendeu R$ 9650.00\n"
     ]
    }
   ],
   "source": [
    "meses = ['jan', 'fev', 'mar', 'abr', 'mai', 'jun', 'jul', 'ago', 'set', 'out', 'nov', 'dez']\n",
    "vendas_1sem = [25000, 29000, 22200, 17750, 15870, 19900]\n",
    "vendas_2sem = [19850, 20120, 17540, 15555, 49051, 9650]\n",
    "\n",
    "vendas_ano = vendas_1sem + vendas_2sem\n",
    "\n",
    "melhor = max(vendas_ano)\n",
    "pior = min(vendas_ano)\n",
    "\n",
    "print(f'O melhor mês vendeu R$ {melhor:.2f} e o pior mês vendeu R$ {pior:.2f}')"
   ]
  },
  {
   "cell_type": "markdown",
   "metadata": {},
   "source": [
    "## 2. Continuação\n",
    "\n",
    "Agora relacione as duas listas para printar 'O melhor mês do ano foi {} com {} vendas' e o mesmo para o pior mês do ano.\n",
    "\n",
    "Calcule também o faturamento total do Ano e quanto que o melhor mês representou do faturamento total.\n",
    "\n",
    "Obs: Para o faturamento total, pode usar a função sum(lista) que soma todos os itens de uma lista"
   ]
  },
  {
   "cell_type": "code",
   "execution_count": 24,
   "metadata": {},
   "outputs": [
    {
     "name": "stdout",
     "output_type": "stream",
     "text": [
      "Tivemos o faturamento total de R$ 261486.00.\n",
      "O melhor mês do ano foi nov com 49051 vendas.\n",
      "O pior mês do ano foi dez com 9650 vendas.\n",
      "O mês de nov correspondeu a 18.76% do total do faturamento anual.\n"
     ]
    }
   ],
   "source": [
    "i_melhor_mes = vendas_ano.index(melhor)\n",
    "i_pior_mes = vendas_ano.index(pior)\n",
    "\n",
    "melhor_mes = meses[i_melhor_mes]\n",
    "pior_mes = meses[i_pior_mes]\n",
    "\n",
    "faturamento = sum(vendas_ano)\n",
    "melhor_mes_faturamento = melhor / faturamento\n",
    "\n",
    "print(f'''Tivemos o faturamento total de R$ {faturamento:.2f}.\n",
    "O melhor mês do ano foi {melhor_mes} com {melhor} vendas.\n",
    "O pior mês do ano foi {pior_mes} com {pior} vendas.\n",
    "O mês de {melhor_mes} correspondeu a {melhor_mes_faturamento:.2%} do total do faturamento anual.''')"
   ]
  },
  {
   "cell_type": "markdown",
   "metadata": {},
   "source": [
    "## 3. Crie uma lista com o top 3 valores de vendas do ano (sem fazer \"no olho\")\n",
    "\n",
    "Dica: o método remove retira um item da lista."
   ]
  },
  {
   "cell_type": "code",
   "execution_count": 26,
   "metadata": {},
   "outputs": [
    {
     "name": "stdout",
     "output_type": "stream",
     "text": [
      "[25000, 29000, 49051]\n",
      "[9650, 15555, 15870, 17540, 17750, 19850, 19900, 20120, 22200, 25000, 29000, 49051]\n"
     ]
    }
   ],
   "source": [
    "top3 = []\n",
    "\n",
    "# # 1ª forma\n",
    "vendas_ano.sort()\n",
    "top3.extend(vendas_ano[-3:])\n",
    "print(top3)\n",
    "print(vendas_ano)\n",
    "\n",
    "# # 2ª forma\n",
    "# maior_valor = max(vendas_ano)\n",
    "# top3.append(maior_valor)\n",
    "# vendas_ano.remove(maior_valor)\n",
    "\n",
    "# maior_valor = max(vendas_ano)\n",
    "# top3.append(maior_valor)\n",
    "# vendas_ano.remove(maior_valor)\n",
    "\n",
    "# maior_valor = max(vendas_ano)\n",
    "# top3.append(maior_valor)\n",
    "# vendas_ano.remove(maior_valor)\n",
    "\n",
    "# top3.sort()\n",
    "# print(top3)\n"
   ]
  }
 ],
 "metadata": {
  "kernelspec": {
   "display_name": "Python 3 (ipykernel)",
   "language": "python",
   "name": "python3"
  },
  "language_info": {
   "codemirror_mode": {
    "name": "ipython",
    "version": 3
   },
   "file_extension": ".py",
   "mimetype": "text/x-python",
   "name": "python",
   "nbconvert_exporter": "python",
   "pygments_lexer": "ipython3",
   "version": "3.10.13"
  }
 },
 "nbformat": 4,
 "nbformat_minor": 4
}
