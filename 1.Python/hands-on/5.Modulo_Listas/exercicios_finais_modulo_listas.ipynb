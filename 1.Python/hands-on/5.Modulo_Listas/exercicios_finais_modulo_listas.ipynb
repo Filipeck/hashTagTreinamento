{
 "cells": [
  {
   "cell_type": "markdown",
   "metadata": {},
   "source": [
    "### Exercício 1\n",
    "### Crie um sistema de cadastro de produtos em uma lista de produtos\n",
    "Seu sistema deve:\n",
    "- Pegar o usuário qual produto vai ser cadastrado por meio de um input\n",
    "- Garantir que se o usuário escrever com letra maiúscula ou minúscula, o produto continua sendo o mesmo produto\n",
    "- Se o usuário inserir um produto que já existe na lista, o programa deve printar a mensagem \"Produto já existente, tente novamente\"\n",
    "- Se o usuário inserir um produto que não existe na lista, o programa deve inserir na lista, printar a mensagem Produto X cadastrado com sucesso e em seguida printar a lista completa"
   ]
  },
  {
   "cell_type": "code",
   "execution_count": 4,
   "metadata": {},
   "outputs": [
    {
     "name": "stdout",
     "output_type": "stream",
     "text": [
      "Digite o nome do produto que será cadastrado: Viola\n",
      "Viola adicionado ao banco de dados!\n",
      "          Os produtos que temos registrados são:\n",
      "          ['celular', 'camera', 'fone de ouvido', 'monitor', 'viola']\n"
     ]
    }
   ],
   "source": [
    "produtos = [\"celular\", \"camera\", \"fone de ouvido\", \"monitor\"]\n",
    "\n",
    "produto_usuario = input('Digite o nome do produto que será cadastrado: ').strip().casefold()\n",
    "\n",
    "if produto_usuario in produtos:\n",
    "    print('Produto já existente em nosso banco de dados, tente novamente.')\n",
    "else:\n",
    "    produtos.append(produto_usuario)\n",
    "    print(f'''{produto_usuario.title()} adicionado ao banco de dados!\n",
    "          Os produtos que temos registrados são:\n",
    "          {produtos}''')"
   ]
  },
  {
   "cell_type": "markdown",
   "metadata": {},
   "source": [
    "### Exercício 2\n",
    "#### Crie um sistema de consulta de preços\n",
    "Seu sistema deve:\n",
    "- Pedir para o usuário o nome de um produto\n",
    "- Caso o produto exista na lista de produtos, o programa deve retornar o preço do produto como resposta\n",
    "       - Ex: O produto celular custa R$1500\n",
    "- Caso o produto não exista na lista de produtos, o programa deve printar uma mensagem para o usuário tentar novamente\n"
   ]
  },
  {
   "cell_type": "code",
   "execution_count": 32,
   "metadata": {},
   "outputs": [
    {
     "name": "stdout",
     "output_type": "stream",
     "text": [
      "Informe o produto que deseja consultar o valor: Açaí\n",
      "O produto AÇAÍ não existe no sistema.\n"
     ]
    }
   ],
   "source": [
    "produtos = [\"celular\", \"camera\", \"fone de ouvido\", \"monitor\"]\n",
    "precos = [1500, 1000, 800, 2000]\n",
    "produto_usuario = input('Informe o produto que deseja consultar o valor: ').strip().casefold()\n",
    "\n",
    "if produto_usuario in produtos:\n",
    "    i_produto = produtos.index(produto_usuario)\n",
    "    preco_produto = f'{precos[i_produto]:_.2f}'\n",
    "    preco_produto = preco_produto.replace('.', ',').replace('_', '.')\n",
    "#     print(preco_produto.replace('.', ',').replace('_', '.'))\n",
    "    print(f'O produto {produto_usuario} está custando R$ {preco_produto}.')\n",
    "else:\n",
    "    print(f'O produto {produto_usuario.upper()} não existe no sistema. Tente novamente')"
   ]
  },
  {
   "cell_type": "markdown",
   "metadata": {},
   "source": [
    "### Exercício 3\n",
    "#### Crie um sistema de consulta de bônus dos funcionários\n",
    "Seu sistema deve:\n",
    "- Pegar o valor de vendas do funcionário por meio de um input\n",
    "- Calcular o bônus do funcionário de acordo com a seguinte regra:\n",
    "      - Se o funcionário vendeu mais de 1000 unidades, ele ganha R$2 de bonus para cada unidade vendida\n",
    "      - Se o funcionário vendeu mais de 5000 unidades, ele ganha R$2 de bônus para cada unidade + um valor fixo de R$1000\n",
    "      - Se o funcionário vendeu menos de 1000 unidades, ele não ganha bônus\n",
    "- Printar no final o valor do bônus do funcionário\n"
   ]
  },
  {
   "cell_type": "code",
   "execution_count": 47,
   "metadata": {},
   "outputs": [
    {
     "name": "stdout",
     "output_type": "stream",
     "text": [
      "Digite a quantidade de unidades vendidas (apenas números): 500\n",
      "Bônus: R$ 0,00\n"
     ]
    }
   ],
   "source": [
    "vendas = input(\"Digite a quantidade de unidades vendidas (apenas números): \")\n",
    "\n",
    "if vendas.isnumeric() == True:\n",
    "    vendas = float(vendas)\n",
    "    if vendas > 5000:\n",
    "        bonus = vendas * 2 + 1000\n",
    "    elif vendas > 1000:\n",
    "        bonus = vendas * 2    \n",
    "    else:\n",
    "        bonus = 0\n",
    "    #tratando a moeda\n",
    "    bonus = f'{bonus:_.2f}'\n",
    "    bonus = bonus.replace('.', ',').replace('_','.')\n",
    "    print(f'Bônus: R$ {bonus}')\n",
    "else:\n",
    "    print('Por favor digite apenas números!')"
   ]
  },
  {
   "cell_type": "markdown",
   "metadata": {},
   "source": [
    "### Exercício 4\n",
    "Crie um programa que consiga descobrir qual dos vendedores vendeu mais\n",
    "<br>As vendas dos vendedores são listas com a quantidade vendida por cada vendedor"
   ]
  },
  {
   "cell_type": "code",
   "execution_count": 34,
   "metadata": {},
   "outputs": [
    {
     "name": "stdout",
     "output_type": "stream",
     "text": [
      "Vendedor 2 vendeu mais\n"
     ]
    }
   ],
   "source": [
    "vendas = [\n",
    "    [10, 20, 100, 80, 90, 100, 20, 30, 44, 55, 33, 34, 100, 90, 80, 39, 87, 45, 50, 50, 50, 50, 40, 30, 3, 93, 39, 49, 88],    \n",
    "    [100, 1, 1, 4, 5, 90, 100, 20, 4, 5, 100, 100, 100, 100, 100, 93, 20, 15, 40, 90, 90, 90, 90, 90, 90, 33, 22, 44, 43, 34],\n",
    "]\n",
    "\n",
    "vendas_vendedor_1 = sum(vendas[0])\n",
    "vendas_vendedor_2 = sum(vendas[1])\n",
    "\n",
    "if vendas_vendedor_1 > vendas_vendedor_2:\n",
    "    print('Vendedor 1 vendeu mais.')\n",
    "else:\n",
    "    print('Vendedor 2 vendeu mais')"
   ]
  }
 ],
 "metadata": {
  "kernelspec": {
   "display_name": "Python 3 (ipykernel)",
   "language": "python",
   "name": "python3"
  },
  "language_info": {
   "codemirror_mode": {
    "name": "ipython",
    "version": 3
   },
   "file_extension": ".py",
   "mimetype": "text/x-python",
   "name": "python",
   "nbconvert_exporter": "python",
   "pygments_lexer": "ipython3",
   "version": "3.10.13"
  }
 },
 "nbformat": 4,
 "nbformat_minor": 2
}
