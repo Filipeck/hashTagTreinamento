{
 "cells": [
  {
   "cell_type": "markdown",
   "id": "ac60394f",
   "metadata": {
    "id": "ac60394f"
   },
   "source": [
    "# Estruturas de repetição\n",
    "\n",
    "<span style=\"color: red;\"><b>Todos os exercícios são feitos partindo-se do pressuposto de que todas as entradas são dadas de forma correta. Casos limite não mencionados no enunciado não são abordados porque não fazem parte do exercício.</b></span>"
   ]
  },
  {
   "cell_type": "markdown",
   "id": "017affd0",
   "metadata": {
    "id": "017affd0"
   },
   "source": [
    "#### 1. Faça um programa que peça uma nota, entre zero e dez. Mostre uma mensagem caso o valor seja inválido e continue pedindo até que o usuário informe um valor válido."
   ]
  },
  {
   "cell_type": "code",
   "execution_count": 6,
   "id": "5f12870d",
   "metadata": {
    "id": "5f12870d"
   },
   "outputs": [
    {
     "name": "stdout",
     "output_type": "stream",
     "text": [
      "Insira uma nota entre 0 e 10: 50\n",
      "Nota inválida!\n",
      "Insira uma nota entre 0 e 10: 50\n",
      "Nota inválida!\n",
      "Insira uma nota entre 0 e 10: 44\n",
      "Nota inválida!\n",
      "Insira uma nota entre 0 e 10: 354\n",
      "Nota inválida!\n",
      "Insira uma nota entre 0 e 10: 5451651\n",
      "Nota inválida!\n",
      "Insira uma nota entre 0 e 10: 1\n",
      "A nota inserida foi 1.0\n"
     ]
    }
   ],
   "source": [
    "nota = input('Insira uma nota entre 0 e 10: ')\n",
    "\n",
    "if nota.isnumeric():\n",
    "    nota = float(nota)\n",
    "    while not (0 <= nota <= 10):\n",
    "        print('Nota inválida!')\n",
    "        nota = float(input('Insira uma nota entre 0 e 10: '))\n",
    "    print(f'A nota inserida foi {nota}')\n",
    "else:\n",
    "    print('Insira apenas números entre 0 e 10')"
   ]
  },
  {
   "cell_type": "markdown",
   "id": "dd0c6d56",
   "metadata": {
    "id": "dd0c6d56"
   },
   "source": [
    "#### 2. Faça um programa que leia um nome de usuário e a sua senha e não aceite a senha igual ao nome do usuário, mostrando uma mensagem de erro e voltando a pedir as informações."
   ]
  },
  {
   "cell_type": "code",
   "execution_count": 8,
   "id": "f6579866",
   "metadata": {
    "id": "f6579866"
   },
   "outputs": [
    {
     "name": "stdout",
     "output_type": "stream",
     "text": [
      "Nome de usuário: Kakaroto\n",
      "Senha: kakaROTO\n",
      "O login não pode ser igual à senha\n",
      "Nome de usuário: Kakaroto\n",
      "Senha: Goku\n"
     ]
    }
   ],
   "source": [
    "username = input('Nome de usuário: ')\n",
    "password = input('Senha: ')\n",
    "\n",
    "while username.upper() == password.upper():\n",
    "    print('O login não pode ser igual à senha')\n",
    "    username = input('Nome de usuário: ')\n",
    "    password = input('Senha: ')\n"
   ]
  },
  {
   "cell_type": "markdown",
   "id": "ed113a82",
   "metadata": {
    "id": "ed113a82"
   },
   "source": [
    "#### 3. Faça um programa que leia e valide as seguintes informações (e para cada uma delas, continue pedindo a informação até o usuário inserir corretamente):\n",
    "##### Nome: maior que 3 caracteres;\n",
    "##### Idade: entre 0 e 150;\n",
    "##### Salário: maior que zero;\n",
    "##### Sexo: 'f' ou 'm';\n",
    "##### Estado Civil: 's', 'c', 'v', 'd';"
   ]
  },
  {
   "cell_type": "code",
   "execution_count": 13,
   "id": "3284f187",
   "metadata": {
    "id": "3284f187"
   },
   "outputs": [
    {
     "name": "stdout",
     "output_type": "stream",
     "text": [
      "Insira o seu nome: Julio\n",
      "Informe a sua idade: 14\n",
      "A idade precisa estar entre 16 e 120 anos!\n",
      "Informe a sua idade: 18\n",
      "Informe o seu salário em R$ 400\n",
      "Salario precisa ser maior que 500\n",
      "Informe o seu salário em R$ 1500\n",
      "Informe seu gênero: Feminino [F], Masculino [M]S\n",
      "Insira um gênero válido!\n",
      "Informe seu gênero: Feminino [F], Masculino [M]m\n",
      "Informe o seu estado civil: Solteiro [S], Casado [C], Viúvo[V], Divorciado[D]: Curtindo\n",
      "Insira um estado civil válido!\n",
      "Informe o seu estado civil: Solteiro [S], Casado [C], Viúvo[V], Divorciado[D]: s\n",
      "Dados cadastrados com sucesso!\n"
     ]
    }
   ],
   "source": [
    "nome = input('Insira o seu nome: ')\n",
    "\n",
    "while len(nome) < 3 or nome.isnumeric():\n",
    "    print('Nome precisa ser maior que 3 caracteres e não conter números!')\n",
    "    nome = input('Insira o seu nome: ')\n",
    "\n",
    "idade = int(input('Informe a sua idade: '))\n",
    "\n",
    "while not (16 <= idade <= 120):\n",
    "    print('A idade precisa estar entre 16 e 120 anos!')\n",
    "    idade = int(input('Informe a sua idade: '))\n",
    "\n",
    "salario = float(input('Informe o seu salário em R$ '))\n",
    "\n",
    "while salario < 500:\n",
    "    print('Salario precisa ser maior que 500')\n",
    "    salario = float(input('Informe o seu salário em R$ '))\n",
    "\n",
    "genero = input('Informe seu gênero: Feminino [F], Masculino [M]')\n",
    "\n",
    "while not genero in 'fFmM':\n",
    "    print('Insira um gênero válido!')\n",
    "    genero = input('Informe seu gênero: Feminino [F], Masculino [M]')\n",
    "\n",
    "est_civil = input('Informe o seu estado civil: Solteiro [S], Casado [C], Viúvo[V], Divorciado[D]: ')\n",
    "\n",
    "while not est_civil in 'SsCcVvDd':\n",
    "    print('Insira um estado civil válido!')\n",
    "    est_civil = input('Informe o seu estado civil: Solteiro [S], Casado [C], Viúvo[V], Divorciado[D]: ')\n",
    "\n",
    "print('Dados cadastrados com sucesso!')"
   ]
  },
  {
   "cell_type": "markdown",
   "id": "2f25dceb",
   "metadata": {
    "id": "2f25dceb"
   },
   "source": [
    "#### 4. Supondo que a população de um país A seja da ordem de 80000 habitantes com uma taxa anual de crescimento de 3% e que a população de B seja 200000 habitantes com uma taxa de crescimento de 1.5%. Faça um programa que calcule e escreva o número de anos necessários para que a população do país A ultrapasse ou iguale a população do país B, mantidas as taxas de crescimento."
   ]
  },
  {
   "cell_type": "code",
   "execution_count": 15,
   "id": "7ad0f5e9",
   "metadata": {
    "id": "7ad0f5e9"
   },
   "outputs": [
    {
     "name": "stdout",
     "output_type": "stream",
     "text": [
      "Serão necessários 63 anos para que a população de A supere a população de B\n"
     ]
    }
   ],
   "source": [
    "A = 80000\n",
    "B = 200000\n",
    "cresce_A = 1.03\n",
    "cresce_B = 1.015\n",
    "anos = 0\n",
    "\n",
    "while A < B:\n",
    "    A = A * cresce_A\n",
    "    B = B * cresce_B\n",
    "    anos += 1\n",
    "\n",
    "print(f'Serão necessários {anos} anos para que a população de A supere ou iguale a população de B')"
   ]
  },
  {
   "cell_type": "markdown",
   "id": "e9626858",
   "metadata": {
    "id": "e9626858"
   },
   "source": [
    "   #### 5. Altere o programa anterior permitindo ao usuário informar as populações e as taxas de crescimento iniciais. Valide a entrada e permita repetir a operação."
   ]
  },
  {
   "cell_type": "code",
   "execution_count": 24,
   "id": "c7e250a4",
   "metadata": {
    "id": "c7e250a4"
   },
   "outputs": [
    {
     "name": "stdout",
     "output_type": "stream",
     "text": [
      "Informe a população do 1º país: 200000\n",
      "Informe a população do 2º país: 80000\n",
      "Informe a taxa de crescimento anual deste país (exemplo: entre 10 para 10%): 1.5\n",
      "Informe a taxa de crescimento anual deste país (exemplo: entre 10 para 10%): 3\n",
      "Serão necessários 63 anos para que o 2º país supere ou iguale a população do primeiro país\n",
      "Deseja analisar outros países? Digite \"s\" para sim, digite qualquer outra letra para finalizar. \n",
      "n\n"
     ]
    }
   ],
   "source": [
    "repete = 's'\n",
    "\n",
    "while repete in 'sS':\n",
    "\n",
    "    A = int(input('Informe a população do 1º país: '))\n",
    "    B = int(input('Informe a população do 2º país: '))\n",
    "    \n",
    "    while A < 0 or B < 0:\n",
    "        print('As populações precisam ser maiores que 0!')\n",
    "        A = int(input('Informe a população do 1º país: '))\n",
    "        B = int(input('Informe a população do 2º país: '))\n",
    "    \n",
    "    cresce_A = float(input('Informe a taxa de crescimento anual deste país (exemplo: entre 10 para 10%): '))    \n",
    "    cresce_B = float(input('Informe a taxa de crescimento anual deste país (exemplo: entre 10 para 10%): '))\n",
    "    \n",
    "    while cresce_A < 0 or cresce_B < 0:\n",
    "        print('As taxas de crescimento precisam ser maiores que 0!')\n",
    "        cresce_A = float(input('Informe a taxa de crescimento anual deste país (exemplo: entre 10 para 10%): '))    \n",
    "        cresce_B = float(input('Informe a taxa de crescimento anual deste país (exemplo: entre 10 para 10%): '))\n",
    "        \n",
    "    cresce_A = cresce_A / 100 + 1\n",
    "    cresce_B = cresce_B / 100 + 1    \n",
    "    anos = 0\n",
    "    \n",
    "    if A < B:\n",
    "        while A < B:\n",
    "            A *= cresce_A\n",
    "            B *= cresce_B\n",
    "            anos += 1\n",
    "        print(f'Serão necessários {anos} anos para que o 1º país supere ou iguale a população do segundo país')\n",
    "    else:\n",
    "        while A > B:\n",
    "            A *= cresce_A\n",
    "            B *= cresce_B\n",
    "            anos += 1\n",
    "        print(f'Serão necessários {anos} anos para que o 2º país supere ou iguale a população do primeiro país')\n",
    "    \n",
    "    repete = input('Deseja analisar outros países? Digite \"s\" para sim, digite qualquer outra letra para finalizar. \\n')\n"
   ]
  },
  {
   "cell_type": "markdown",
   "id": "b3d268b5",
   "metadata": {
    "id": "b3d268b5"
   },
   "source": [
    "#### 6. Faça um programa que peça para o usuário inserir o faturamento dos últimos 5 meses (individualmente) e informe o maior faturamento"
   ]
  },
  {
   "cell_type": "code",
   "execution_count": 27,
   "id": "8078e7a5",
   "metadata": {
    "id": "8078e7a5"
   },
   "outputs": [
    {
     "name": "stdout",
     "output_type": "stream",
     "text": [
      "Informe o faturamento do 1º mês: R$ 45000\n",
      "Informe o faturamento do 2º mês: R$ 55880\n",
      "Informe o faturamento do 3º mês: R$ 67000\n",
      "Informe o faturamento do 4º mês: R$ 75000\n",
      "Informe o faturamento do 5º mês: R$ 12500\n",
      "O 4 mês apresentou o faturamento de R$75000,00. Este é o maior faturamento do período analisado.\n"
     ]
    }
   ],
   "source": [
    "maior = 0\n",
    "mes = 0\n",
    "for i in range(5):\n",
    "    faturamento = float(input(f'Informe o faturamento do {i + 1}º mês: R$ '))\n",
    "    if faturamento > maior:\n",
    "        maior = faturamento\n",
    "        mes = i + 1\n",
    "print(f'O {mes} mês apresentou o faturamento de R${maior:.0f},00. Este é o maior faturamento do período analisado.')"
   ]
  },
  {
   "cell_type": "markdown",
   "id": "6407824c",
   "metadata": {
    "id": "6407824c"
   },
   "source": [
    "#### 7. Faça um programa que peça para o usuário inserir o faturamento dos últimos 5 meses (individualmente) e informe o faturamento total (soma) e o faturamento médio por mês (média)."
   ]
  },
  {
   "cell_type": "code",
   "execution_count": 30,
   "id": "a02320d1",
   "metadata": {
    "id": "a02320d1"
   },
   "outputs": [
    {
     "name": "stdout",
     "output_type": "stream",
     "text": [
      "Informe o faturamento do 1º mês: R$ 1\n",
      "Informe o faturamento do 2º mês: R$ 2\n",
      "Informe o faturamento do 3º mês: R$ 3\n",
      "Informe o faturamento do 4º mês: R$ 4\n",
      "Informe o faturamento do 5º mês: R$ 5\n",
      "O faturamento total foi de R$15,00 com a média mensal de R$3\n"
     ]
    }
   ],
   "source": [
    "total = 0\n",
    "contador = 0\n",
    "\n",
    "for i in range(5):\n",
    "    faturamento = float(input(f'Informe o faturamento do {i + 1}º mês: R$ '))\n",
    "    total += faturamento\n",
    "    contador += 1\n",
    "medio = total / contador\n",
    "\n",
    "print(f'O faturamento total foi de R${total:.0f},00 com a média mensal de R${medio:.0f}')"
   ]
  },
  {
   "cell_type": "markdown",
   "id": "703f3c4d",
   "metadata": {
    "id": "703f3c4d"
   },
   "source": [
    "#### 8. Faça um programa que consiga categorizar a idade das equipes de uma empresa. Faça um programa que peça para n pessoas a sua idade, ao final o programa devera verificar se a média de idade da equipe varia entre 0 e 25 (jovem) ,26 e 60 (sênior) e maior que 60 (idosa); e então, dizer se a equipe é jovem, sênior ou idosa, conforme a média calculada."
   ]
  },
  {
   "cell_type": "code",
   "execution_count": 31,
   "id": "b56a85de",
   "metadata": {
    "id": "b56a85de"
   },
   "outputs": [
    {
     "name": "stdout",
     "output_type": "stream",
     "text": [
      "Quantas pessoas serão analisadas: 4\n",
      "Informe a idade do 1º integrante: 17\n",
      "Informe a idade do 2º integrante: 85\n",
      "Informe a idade do 3º integrante: 46\n",
      "Informe a idade do 4º integrante: 23\n",
      "A equipe tem como média de idade 42.75 anos, sendo considerada uma equipe Sênior.\n"
     ]
    }
   ],
   "source": [
    "participantes = int(input('Quantas pessoas serão analisadas: '))\n",
    "total = 0\n",
    "\n",
    "for i in range(participantes):\n",
    "    idade = int(input(f'Informe a idade do {i + 1}º integrante: '))\n",
    "    total += idade\n",
    "\n",
    "media_idade = total / participantes\n",
    "\n",
    "if media_idade < 26:\n",
    "    print(f'A equipe tem como média de idade {media_idade} anos, sendo considerada uma equipe Júnior.')\n",
    "elif media_idade < 61:\n",
    "    print(f'A equipe tem como média de idade {media_idade} anos, sendo considerada uma equipe Sênior.')\n",
    "else:\n",
    "    print(f'A equipe tem como média de idade {media_idade} anos, sendo considerada uma equipe Idosa.')"
   ]
  },
  {
   "cell_type": "markdown",
   "id": "aad21b98",
   "metadata": {
    "id": "aad21b98"
   },
   "source": [
    "#### 9. Numa eleição existem três candidatos. Faça um programa que peça o número total de eleitores. Peça para cada eleitor votar e ao final mostrar o número de votos de cada candidato."
   ]
  },
  {
   "cell_type": "code",
   "execution_count": 33,
   "id": "84aa7a93",
   "metadata": {
    "id": "84aa7a93"
   },
   "outputs": [
    {
     "name": "stdout",
     "output_type": "stream",
     "text": [
      "Quantidade de eleitores: 10\n",
      "Digite o número do seu candidato: 1 | 2 | 3: \n",
      "1\n",
      "Digite o número do seu candidato: 1 | 2 | 3: \n",
      "3\n",
      "Digite o número do seu candidato: 1 | 2 | 3: \n",
      "4\n",
      "Digite o número do seu candidato: 1 | 2 | 3: \n",
      "2\n",
      "Digite o número do seu candidato: 1 | 2 | 3: \n",
      "1\n",
      "Digite o número do seu candidato: 1 | 2 | 3: \n",
      "1\n",
      "Digite o número do seu candidato: 1 | 2 | 3: \n",
      "2\n",
      "Digite o número do seu candidato: 1 | 2 | 3: \n",
      "3\n",
      "Digite o número do seu candidato: 1 | 2 | 3: \n",
      "1\n",
      "Digite o número do seu candidato: 1 | 2 | 3: \n",
      "2\n",
      "=*=* Eleições Tabajara *=*=\n",
      "Candidato 1 = 4 votos\n",
      "Candidato 2 = 3 votos\n",
      "Candidato 3 = 2 votos\n",
      "Branco/Nulos = 1 votos\n"
     ]
    }
   ],
   "source": [
    "total_eleitores = int(input('Quantidade de eleitores: '))\n",
    "\n",
    "candidato1 = 0\n",
    "candidato2 = 0\n",
    "candidato3 = 0\n",
    "branco_nulo = 0\n",
    "\n",
    "for i in range(total_eleitores):\n",
    "    voto = int(input('Digite o número do seu candidato: 1 | 2 | 3: \\n'))\n",
    "    if voto == 1:\n",
    "        candidato1 += 1\n",
    "    elif voto == 2:\n",
    "        candidato2 += 1\n",
    "    elif voto == 3:\n",
    "        candidato3 += 1\n",
    "    else:\n",
    "        branco_nulo += 1\n",
    "    \n",
    "print(f'''=*=* Eleições Tabajara *=*=\n",
    "Candidato 1 = {candidato1} votos\n",
    "Candidato 2 = {candidato2} votos\n",
    "Candidato 3 = {candidato3} votos\n",
    "Branco/Nulos = {branco_nulo} votos''')"
   ]
  },
  {
   "cell_type": "markdown",
   "id": "6e306453",
   "metadata": {
    "id": "6e306453"
   },
   "source": [
    "#### 10. Faça um programa que calcule o valor total investido por um colecionador em sua coleção de CDs e o valor médio gasto em cada um deles. O usuário deverá informar a quantidade de CDs e o valor para em cada um."
   ]
  },
  {
   "cell_type": "code",
   "execution_count": 2,
   "id": "6b7fa4a2",
   "metadata": {
    "id": "6b7fa4a2"
   },
   "outputs": [
    {
     "name": "stdout",
     "output_type": "stream",
     "text": [
      "Informe quantos CDs existem na sua coleção: 2\n",
      "Informe o valor do 1 CD: R$45\n",
      "Informe o valor do 2 CD: R$55\n",
      "O valor total investido na coleção foi de R$100,00 e o valor médio de cada CD ficou em torno de R$ 50.00.\n"
     ]
    }
   ],
   "source": [
    "cds = int(input('Informe quantos CDs existem na sua coleção: '))\n",
    "total_cds = 0\n",
    "\n",
    "for i in range(cds):\n",
    "    valor = float(input(f'Informe o valor do {i + 1} CD: R$'))\n",
    "    total_cds += valor\n",
    "    \n",
    "media_cds = total_cds / cds\n",
    "\n",
    "print(f'O valor total investido na coleção foi de R${total_cds:.0f},00 e o valor médio de cada CD ficou em torno de R$ {media_cds:.2f}.')\n"
   ]
  },
  {
   "cell_type": "markdown",
   "id": "f19c8d86",
   "metadata": {
    "id": "f19c8d86"
   },
   "source": [
    "#### 11. O Sr. Manoel Joaquim possui uma grande loja de artigos de R\\\\$ 1,99, com cerca de 10 caixas. Para agilizar o cálculo de quanto cada cliente deve pagar ele desenvolveu um tabela que contém o número de itens que o cliente comprou e ao lado o valor da conta. Desta forma a atendente do caixa precisa apenas contar quantos itens o cliente está levando e olhar na tabela de preços. Você foi contratado para desenvolver o programa que monta esta tabela de preços, que conterá os preços de 1 até 50 produtos, conforme o exemplo abaixo:\n",
    "<pre>\n",
    "Lojas Quase Dois - Tabela de preços\n",
    "1 - R$ 1.99\n",
    "2 - R$ 3.98\n",
    "...\n",
    "50 - R$ 99.50\n",
    "</pre>"
   ]
  },
  {
   "cell_type": "code",
   "execution_count": 4,
   "id": "4fc4d54d",
   "metadata": {
    "id": "4fc4d54d"
   },
   "outputs": [
    {
     "name": "stdout",
     "output_type": "stream",
     "text": [
      "=§=§=§= Tudo 1,99 - Tabela de Preços =§=§=§=\n",
      "\n",
      "1 - R$ 1.99\n",
      "2 - R$ 3.98\n",
      "3 - R$ 5.97\n",
      "4 - R$ 7.96\n",
      "5 - R$ 9.95\n",
      "6 - R$ 11.94\n",
      "7 - R$ 13.93\n",
      "8 - R$ 15.92\n",
      "9 - R$ 17.91\n",
      "10 - R$ 19.90\n",
      "11 - R$ 21.89\n",
      "12 - R$ 23.88\n",
      "13 - R$ 25.87\n",
      "14 - R$ 27.86\n",
      "15 - R$ 29.85\n",
      "16 - R$ 31.84\n",
      "17 - R$ 33.83\n",
      "18 - R$ 35.82\n",
      "19 - R$ 37.81\n",
      "20 - R$ 39.80\n",
      "21 - R$ 41.79\n",
      "22 - R$ 43.78\n",
      "23 - R$ 45.77\n",
      "24 - R$ 47.76\n",
      "25 - R$ 49.75\n",
      "26 - R$ 51.74\n",
      "27 - R$ 53.73\n",
      "28 - R$ 55.72\n",
      "29 - R$ 57.71\n",
      "30 - R$ 59.70\n",
      "31 - R$ 61.69\n",
      "32 - R$ 63.68\n",
      "33 - R$ 65.67\n",
      "34 - R$ 67.66\n",
      "35 - R$ 69.65\n",
      "36 - R$ 71.64\n",
      "37 - R$ 73.63\n",
      "38 - R$ 75.62\n",
      "39 - R$ 77.61\n",
      "40 - R$ 79.60\n",
      "41 - R$ 81.59\n",
      "42 - R$ 83.58\n",
      "43 - R$ 85.57\n",
      "44 - R$ 87.56\n",
      "45 - R$ 89.55\n",
      "46 - R$ 91.54\n",
      "47 - R$ 93.53\n",
      "48 - R$ 95.52\n",
      "49 - R$ 97.51\n",
      "50 - R$ 99.50\n"
     ]
    }
   ],
   "source": [
    "print('=§=§=§= Tudo 1,99 - Tabela de Preços =§=§=§=\\n')\n",
    "\n",
    "for i in range(50):\n",
    "    print(f'{i + 1} - R$ {(1.99 * (i + 1)):.2f}')"
   ]
  },
  {
   "cell_type": "markdown",
   "id": "6cd19c52",
   "metadata": {
    "id": "6cd19c52"
   },
   "source": [
    "#### 12. Um funcionário de uma empresa recebe aumento salarial anualmente: Sabe-se que:\n",
    "<pre>\n",
    "Esse funcionário foi contratado em 1995, com salário inicial de R$ 1.000,00;\n",
    "Em 1996 recebeu aumento de 1,5% sobre seu salário inicial;\n",
    "A partir de 1997 (inclusive), os aumentos salariais sempre correspondem ao dobro do percentual do ano anterior. Faça um programa que determine o salário desse funcionário em 2003. \n",
    "</pre>"
   ]
  },
  {
   "cell_type": "code",
   "execution_count": 13,
   "id": "98a4811b",
   "metadata": {
    "id": "98a4811b"
   },
   "outputs": [
    {
     "name": "stdout",
     "output_type": "stream",
     "text": [
      "O salário do funcionário em 2003 será de R$13036.15\n"
     ]
    }
   ],
   "source": [
    "salario = 1000\n",
    "aumento = 0.015\n",
    "novo_salario = salario * (aumento + 1)\n",
    "ano = 1997\n",
    "\n",
    "while ano < 2004:\n",
    "    aumento *= 2\n",
    "    novo_salario = novo_salario * (aumento + 1)\n",
    "    ano += 1\n",
    "\n",
    "print(f'O salário do funcionário em 2003 será de R${novo_salario:.2f}')\n"
   ]
  },
  {
   "cell_type": "markdown",
   "id": "227928d1",
   "metadata": {
    "id": "227928d1"
   },
   "source": [
    "#### 13. O cardápio de uma lanchonete é o seguinte:\n",
    "<pre>\n",
    "Especificação   Código  Preço\n",
    "Cachorro Quente 100     R$ 1,20\n",
    "Bauru Simples   101     R$ 1,30\n",
    "Bauru com ovo   102     R$ 1,50\n",
    "Hambúrguer      103     R$ 1,20\n",
    "Cheeseburguer   104     R$ 1,30\n",
    "Refrigerante    105     R$ 1,00\n",
    "Faça um programa que leia o código dos itens pedidos e as quantidades desejadas. Calcule e mostre o valor a ser pago por item (preço * quantidade) e o total geral do pedido. Considere que o cliente deve informar quando o pedido deve ser encerrado.\n",
    "</pre>"
   ]
  },
  {
   "cell_type": "code",
   "execution_count": 2,
   "id": "8a784b86",
   "metadata": {
    "id": "8a784b86",
    "scrolled": true
   },
   "outputs": [
    {
     "name": "stdout",
     "output_type": "stream",
     "text": [
      "Insira o código do produto (insira \"0\" para encerrar): 100\n",
      "Insira a quantidade: 1\n",
      "Insira o código do produto (insira \"0\" para encerrar): 101\n",
      "Insira a quantidade: 5\n",
      "Insira o código do produto (insira \"0\" para encerrar): 105\n",
      "Insira a quantidade: 4\n",
      "Insira o código do produto (insira \"0\" para encerrar): 0\n",
      "\n",
      "\n",
      "=§=§=§= Lanchonete Lanche Agora =§=§=§=\n",
      "Cachorro quente - R$1,20 * 1 = R$1.20\n",
      "Bauru Simples - R$1,30 * 5 = R$6.50\n",
      "Refrigerante - R$1,00 * 4 = R$4.00\n",
      "Valor total da compra = R$11.70\n"
     ]
    }
   ],
   "source": [
    "codigo = input('Insira o código do produto (insira \"0\" para encerrar): ')\n",
    "produto = 0\n",
    "total = 0\n",
    "compra = ''\n",
    "compras = []\n",
    "\n",
    "while codigo != '0':\n",
    "    qtde = int(input('Insira a quantidade: '))\n",
    "    \n",
    "    if codigo == '100':\n",
    "        produto = qtde * 1.2\n",
    "        compra = f'Cachorro quente - R$1,20 * {qtde} = R${produto:.2f}'\n",
    "        compras.append(compra)\n",
    "    elif codigo == '101':\n",
    "        produto = qtde * 1.3\n",
    "        compra = f'Bauru Simples - R$1,30 * {qtde} = R${produto:.2f}'\n",
    "        compras.append(compra)\n",
    "    elif codigo == '102':\n",
    "        produto = qtde * 1.5\n",
    "        compra = f'Bauru com ovo - R$1,50 * {qtde} = R${produto:.2f}'\n",
    "        compras.append(compra)\n",
    "    elif codigo == '103':\n",
    "        produto = qtde * 1.2\n",
    "        compra = f'Hambúrguer - R$1,20 * {qtde} = R${produto:.2f}'\n",
    "        compras.append(compra)\n",
    "    elif codigo == '104':\n",
    "        produto = qtde * 1.3\n",
    "        compra = f'Cheeseburguer - R$1,30 * {qtde} = R${produto:.2f}'\n",
    "        compras.append(compra)\n",
    "    elif codigo == '105':\n",
    "        produto = qtde * 1.0\n",
    "        compra = f'Refrigerante - R$1,00 * {qtde} = R${produto:.2f}'\n",
    "        compras.append(compra)\n",
    "    \n",
    "    total += produto\n",
    "    \n",
    "    codigo = input('Insira o código do produto (insira \"0\" para encerrar): ')\n",
    "\n",
    "print('\\n\\n=§=§=§= Lanchonete Lanche Agora =§=§=§=')\n",
    "print('\\n'.join(compras))\n",
    "print(f'Valor total da compra = R${total:.2f}')"
   ]
  },
  {
   "cell_type": "markdown",
   "id": "9877b8ba",
   "metadata": {
    "id": "9877b8ba"
   },
   "source": [
    "#### 14. Uma grande emissora de televisão quer fazer uma enquete entre os seus telespectadores para saber qual o melhor jogador após cada jogo. Para isto, faz-se necessário o desenvolvimento de um programa, que será utilizado pelas telefonistas, para a computação dos votos. Sua equipe foi contratada para desenvolver este programa, utilizando a linguagem de programação Python. Para computar cada voto, a telefonista digitará um número, entre 1 e 23, correspondente ao número da camisa do jogador. Um número de jogador igual zero, indica que a votação foi encerrada. Se um número inválido for digitado, o programa deve ignorá-lo, mostrando uma breve mensagem de aviso, e voltando a pedir outro número. Após o final da votação, o programa deverá exibir:\n",
    "<pre>a. O total de votos computados;\n",
    "b. Os números e respectivos votos de todos os jogadores que receberam votos;\n",
    "c. O percentual de votos de cada um destes jogadores;\n",
    "d. O número do jogador escolhido como o melhor jogador da partida, juntamente com o número de votos e o percentual de votos dados a ele.\n",
    "        Observe que os votos inválidos e o zero final não devem ser computados como votos. O resultado aparece ordenado pelo número do jogador. O programa deve fazer uso de arrays. O programa deverá executar o cálculo do percentual de cada jogador através de uma função. Esta função receberá dois parâmetros: o número de votos de um jogador e o total de votos. A função calculará o percentual e retornará o valor calculado. Abaixo segue uma tela de exemplo. O disposição das informações deve ser o mais próxima possível ao exemplo. Os dados são fictícios e podem mudar a cada execução do programa. Ao final, o programa deve ainda gravar os dados referentes ao resultado da votação em um arquivo texto no disco, obedecendo a mesma disposição apresentada na tela.</pre>\n",
    "```\n",
    "Enquete: Quem foi o melhor jogador?\n",
    "\n",
    "Número do jogador (0=fim): 9\n",
    "Número do jogador (0=fim): 10\n",
    "Número do jogador (0=fim): 9\n",
    "Número do jogador (0=fim): 10\n",
    "Número do jogador (0=fim): 11\n",
    "Número do jogador (0=fim): 10\n",
    "Número do jogador (0=fim): 50\n",
    "Informe um valor entre 1 e 23 ou 0 para sair!\n",
    "Número do jogador (0=fim): 9\n",
    "Número do jogador (0=fim): 9\n",
    "Número do jogador (0=fim): 0\n",
    "\n",
    "Resultado da votação:\n",
    "\n",
    "Foram computados 8 votos.\n",
    "\n",
    "Jogador Votos           %\n",
    "9               4               50,0%\n",
    "10              3               37,5%\n",
    "11              1               12,5%\n",
    "``` "
   ]
  },
  {
   "cell_type": "code",
   "execution_count": null,
   "id": "79b82364",
   "metadata": {
    "id": "79b82364"
   },
   "outputs": [],
   "source": [
    "votos = []\n",
    "print('Enquete: Quem foi o melhor jogador?')\n",
    "for i in range(23):\n",
    "    votos.append(0)\n",
    "\n",
    "while True:\n",
    "    numero = int(input('Número do jogador (0=fim): '))\n",
    "    if numero == 0:\n",
    "        break\n",
    "    elif not 1 <= numero <= 23:\n",
    "        print('Informe um valor entre 1 e 23 ou 0 para sair!')\n",
    "        continue\n",
    "    votos[numero - 1] += 1\n",
    "\n",
    "total = sum(votos)\n",
    "print('Foram computados', total, 'votos.')\n",
    "print('Jogador\\tVotos\\t%')\n",
    "for i, voto in enumerate(votos):\n",
    "    if voto > 0:\n",
    "        print(f'{i+1}\\t{voto}\\t{voto/total:.1%}')\n",
    "\n",
    "melhor = max(votos)\n",
    "i = votos.index(melhor)\n",
    "porcentagem = melhor/total\n",
    "print(f'O melhor jogador foi o número {i+1}, com {melhor} votos, correspondendo a {porcentagem:.0%} do total de votos.')"
   ]
  }
 ],
 "metadata": {
  "colab": {
   "collapsed_sections": [],
   "provenance": []
  },
  "kernelspec": {
   "display_name": "Python 3 (ipykernel)",
   "language": "python",
   "name": "python3"
  },
  "language_info": {
   "codemirror_mode": {
    "name": "ipython",
    "version": 3
   },
   "file_extension": ".py",
   "mimetype": "text/x-python",
   "name": "python",
   "nbconvert_exporter": "python",
   "pygments_lexer": "ipython3",
   "version": "3.10.13"
  }
 },
 "nbformat": 4,
 "nbformat_minor": 5
}
