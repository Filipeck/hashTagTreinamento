{
 "cells": [
  {
   "cell_type": "markdown",
   "id": "ac60394f",
   "metadata": {
    "id": "ac60394f"
   },
   "source": [
    "# Estruturas de repetição\n",
    "\n",
    "<span style=\"color: red;\"><b>Todos os exercícios são feitos partindo-se do pressuposto de que todas as entradas são dadas de forma correta. Casos limite não mencionados no enunciado não são abordados porque não fazem parte do exercício.</b></span>"
   ]
  },
  {
   "cell_type": "markdown",
   "id": "017affd0",
   "metadata": {
    "id": "017affd0"
   },
   "source": [
    "#### 1. Faça um programa que peça uma nota, entre zero e dez. Mostre uma mensagem caso o valor seja inválido e continue pedindo até que o usuário informe um valor válido."
   ]
  },
  {
   "cell_type": "code",
   "execution_count": 6,
   "id": "5f12870d",
   "metadata": {
    "id": "5f12870d"
   },
   "outputs": [
    {
     "name": "stdout",
     "output_type": "stream",
     "text": [
      "Insira uma nota entre 0 e 10: 50\n",
      "Nota inválida!\n",
      "Insira uma nota entre 0 e 10: 50\n",
      "Nota inválida!\n",
      "Insira uma nota entre 0 e 10: 44\n",
      "Nota inválida!\n",
      "Insira uma nota entre 0 e 10: 354\n",
      "Nota inválida!\n",
      "Insira uma nota entre 0 e 10: 5451651\n",
      "Nota inválida!\n",
      "Insira uma nota entre 0 e 10: 1\n",
      "A nota inserida foi 1.0\n"
     ]
    }
   ],
   "source": [
    "nota = input('Insira uma nota entre 0 e 10: ')\n",
    "\n",
    "if nota.isnumeric():\n",
    "    nota = float(nota)\n",
    "    while not (0 <= nota <= 10):\n",
    "        print('Nota inválida!')\n",
    "        nota = float(input('Insira uma nota entre 0 e 10: '))\n",
    "    print(f'A nota inserida foi {nota}')\n",
    "else:\n",
    "    print('Insira apenas números entre 0 e 10')"
   ]
  },
  {
   "cell_type": "markdown",
   "id": "dd0c6d56",
   "metadata": {
    "id": "dd0c6d56"
   },
   "source": [
    "#### 2. Faça um programa que leia um nome de usuário e a sua senha e não aceite a senha igual ao nome do usuário, mostrando uma mensagem de erro e voltando a pedir as informações."
   ]
  },
  {
   "cell_type": "code",
   "execution_count": 8,
   "id": "f6579866",
   "metadata": {
    "id": "f6579866"
   },
   "outputs": [
    {
     "name": "stdout",
     "output_type": "stream",
     "text": [
      "Nome de usuário: Kakaroto\n",
      "Senha: kakaROTO\n",
      "O login não pode ser igual à senha\n",
      "Nome de usuário: Kakaroto\n",
      "Senha: Goku\n"
     ]
    }
   ],
   "source": [
    "username = input('Nome de usuário: ')\n",
    "password = input('Senha: ')\n",
    "\n",
    "while username.upper() == password.upper():\n",
    "    print('O login não pode ser igual à senha')\n",
    "    username = input('Nome de usuário: ')\n",
    "    password = input('Senha: ')\n"
   ]
  },
  {
   "cell_type": "markdown",
   "id": "ed113a82",
   "metadata": {
    "id": "ed113a82"
   },
   "source": [
    "#### 3. Faça um programa que leia e valide as seguintes informações (e para cada uma delas, continue pedindo a informação até o usuário inserir corretamente):\n",
    "##### Nome: maior que 3 caracteres;\n",
    "##### Idade: entre 0 e 150;\n",
    "##### Salário: maior que zero;\n",
    "##### Sexo: 'f' ou 'm';\n",
    "##### Estado Civil: 's', 'c', 'v', 'd';"
   ]
  },
  {
   "cell_type": "code",
   "execution_count": 13,
   "id": "3284f187",
   "metadata": {
    "id": "3284f187"
   },
   "outputs": [
    {
     "name": "stdout",
     "output_type": "stream",
     "text": [
      "Insira o seu nome: Julio\n",
      "Informe a sua idade: 14\n",
      "A idade precisa estar entre 16 e 120 anos!\n",
      "Informe a sua idade: 18\n",
      "Informe o seu salário em R$ 400\n",
      "Salario precisa ser maior que 500\n",
      "Informe o seu salário em R$ 1500\n",
      "Informe seu gênero: Feminino [F], Masculino [M]S\n",
      "Insira um gênero válido!\n",
      "Informe seu gênero: Feminino [F], Masculino [M]m\n",
      "Informe o seu estado civil: Solteiro [S], Casado [C], Viúvo[V], Divorciado[D]: Curtindo\n",
      "Insira um estado civil válido!\n",
      "Informe o seu estado civil: Solteiro [S], Casado [C], Viúvo[V], Divorciado[D]: s\n",
      "Dados cadastrados com sucesso!\n"
     ]
    }
   ],
   "source": [
    "nome = input('Insira o seu nome: ')\n",
    "\n",
    "while len(nome) < 3 or nome.isnumeric():\n",
    "    print('Nome precisa ser maior que 3 caracteres e não conter números!')\n",
    "    nome = input('Insira o seu nome: ')\n",
    "\n",
    "idade = int(input('Informe a sua idade: '))\n",
    "\n",
    "while not (16 <= idade <= 120):\n",
    "    print('A idade precisa estar entre 16 e 120 anos!')\n",
    "    idade = int(input('Informe a sua idade: '))\n",
    "\n",
    "salario = float(input('Informe o seu salário em R$ '))\n",
    "\n",
    "while salario < 500:\n",
    "    print('Salario precisa ser maior que 500')\n",
    "    salario = float(input('Informe o seu salário em R$ '))\n",
    "\n",
    "genero = input('Informe seu gênero: Feminino [F], Masculino [M]')\n",
    "\n",
    "while not genero in 'fFmM':\n",
    "    print('Insira um gênero válido!')\n",
    "    genero = input('Informe seu gênero: Feminino [F], Masculino [M]')\n",
    "\n",
    "est_civil = input('Informe o seu estado civil: Solteiro [S], Casado [C], Viúvo[V], Divorciado[D]: ')\n",
    "\n",
    "while not est_civil in 'SsCcVvDd':\n",
    "    print('Insira um estado civil válido!')\n",
    "    est_civil = input('Informe o seu estado civil: Solteiro [S], Casado [C], Viúvo[V], Divorciado[D]: ')\n",
    "\n",
    "print('Dados cadastrados com sucesso!')"
   ]
  },
  {
   "cell_type": "markdown",
   "id": "2f25dceb",
   "metadata": {
    "id": "2f25dceb"
   },
   "source": [
    "#### 4. Supondo que a população de um país A seja da ordem de 80000 habitantes com uma taxa anual de crescimento de 3% e que a população de B seja 200000 habitantes com uma taxa de crescimento de 1.5%. Faça um programa que calcule e escreva o número de anos necessários para que a população do país A ultrapasse ou iguale a população do país B, mantidas as taxas de crescimento."
   ]
  },
  {
   "cell_type": "code",
   "execution_count": 15,
   "id": "7ad0f5e9",
   "metadata": {
    "id": "7ad0f5e9"
   },
   "outputs": [
    {
     "name": "stdout",
     "output_type": "stream",
     "text": [
      "Serão necessários 63 anos para que a população de A supere a população de B\n"
     ]
    }
   ],
   "source": [
    "A = 80000\n",
    "B = 200000\n",
    "cresce_A = 1.03\n",
    "cresce_B = 1.015\n",
    "anos = 0\n",
    "\n",
    "while A < B:\n",
    "    A = A * cresce_A\n",
    "    B = B * cresce_B\n",
    "    anos += 1\n",
    "\n",
    "print(f'Serão necessários {anos} anos para que a população de A supere ou iguale a população de B')"
   ]
  },
  {
   "cell_type": "markdown",
   "id": "e9626858",
   "metadata": {
    "id": "e9626858"
   },
   "source": [
    "   #### 5. Altere o programa anterior permitindo ao usuário informar as populações e as taxas de crescimento iniciais. Valide a entrada e permita repetir a operação."
   ]
  },
  {
   "cell_type": "code",
   "execution_count": 24,
   "id": "c7e250a4",
   "metadata": {
    "id": "c7e250a4"
   },
   "outputs": [
    {
     "name": "stdout",
     "output_type": "stream",
     "text": [
      "Informe a população do 1º país: 200000\n",
      "Informe a população do 2º país: 80000\n",
      "Informe a taxa de crescimento anual deste país (exemplo: entre 10 para 10%): 1.5\n",
      "Informe a taxa de crescimento anual deste país (exemplo: entre 10 para 10%): 3\n",
      "Serão necessários 63 anos para que o 2º país supere ou iguale a população do primeiro país\n",
      "Deseja analisar outros países? Digite \"s\" para sim, digite qualquer outra letra para finalizar. \n",
      "n\n"
     ]
    }
   ],
   "source": [
    "repete = 's'\n",
    "\n",
    "while repete in 'sS':\n",
    "\n",
    "    A = int(input('Informe a população do 1º país: '))\n",
    "    B = int(input('Informe a população do 2º país: '))\n",
    "    \n",
    "    while A < 0 or B < 0:\n",
    "        print('As populações precisam ser maiores que 0!')\n",
    "        A = int(input('Informe a população do 1º país: '))\n",
    "        B = int(input('Informe a população do 2º país: '))\n",
    "    \n",
    "    cresce_A = float(input('Informe a taxa de crescimento anual deste país (exemplo: entre 10 para 10%): '))    \n",
    "    cresce_B = float(input('Informe a taxa de crescimento anual deste país (exemplo: entre 10 para 10%): '))\n",
    "    \n",
    "    while cresce_A < 0 or cresce_B < 0:\n",
    "        print('As taxas de crescimento precisam ser maiores que 0!')\n",
    "        cresce_A = float(input('Informe a taxa de crescimento anual deste país (exemplo: entre 10 para 10%): '))    \n",
    "        cresce_B = float(input('Informe a taxa de crescimento anual deste país (exemplo: entre 10 para 10%): '))\n",
    "        \n",
    "    cresce_A = cresce_A / 100 + 1\n",
    "    cresce_B = cresce_B / 100 + 1    \n",
    "    anos = 0\n",
    "    \n",
    "    if A < B:\n",
    "        while A < B:\n",
    "            A *= cresce_A\n",
    "            B *= cresce_B\n",
    "            anos += 1\n",
    "        print(f'Serão necessários {anos} anos para que o 1º país supere ou iguale a população do segundo país')\n",
    "    else:\n",
    "        while A > B:\n",
    "            A *= cresce_A\n",
    "            B *= cresce_B\n",
    "            anos += 1\n",
    "        print(f'Serão necessários {anos} anos para que o 2º país supere ou iguale a população do primeiro país')\n",
    "    \n",
    "    repete = input('Deseja analisar outros países? Digite \"s\" para sim, digite qualquer outra letra para finalizar. \\n')\n"
   ]
  },
  {
   "cell_type": "markdown",
   "id": "b3d268b5",
   "metadata": {
    "id": "b3d268b5"
   },
   "source": [
    "#### 6. Faça um programa que peça para o usuário inserir o faturamento dos últimos 5 meses (individualmente) e informe o maior faturamento"
   ]
  },
  {
   "cell_type": "code",
   "execution_count": 27,
   "id": "8078e7a5",
   "metadata": {
    "id": "8078e7a5"
   },
   "outputs": [
    {
     "name": "stdout",
     "output_type": "stream",
     "text": [
      "Informe o faturamento do 1º mês: R$ 45000\n",
      "Informe o faturamento do 2º mês: R$ 55880\n",
      "Informe o faturamento do 3º mês: R$ 67000\n",
      "Informe o faturamento do 4º mês: R$ 75000\n",
      "Informe o faturamento do 5º mês: R$ 12500\n",
      "O 4 mês apresentou o faturamento de R$75000,00. Este é o maior faturamento do período analisado.\n"
     ]
    }
   ],
   "source": [
    "maior = 0\n",
    "mes = 0\n",
    "for i in range(5):\n",
    "    faturamento = float(input(f'Informe o faturamento do {i + 1}º mês: R$ '))\n",
    "    if faturamento > maior:\n",
    "        maior = faturamento\n",
    "        mes = i + 1\n",
    "print(f'O {mes} mês apresentou o faturamento de R${maior:.0f},00. Este é o maior faturamento do período analisado.')"
   ]
  },
  {
   "cell_type": "markdown",
   "id": "6407824c",
   "metadata": {
    "id": "6407824c"
   },
   "source": [
    "#### 7. Faça um programa que peça para o usuário inserir o faturamento dos últimos 5 meses (individualmente) e informe o faturamento total (soma) e o faturamento médio por mês (média)."
   ]
  },
  {
   "cell_type": "code",
   "execution_count": 30,
   "id": "a02320d1",
   "metadata": {
    "id": "a02320d1"
   },
   "outputs": [
    {
     "name": "stdout",
     "output_type": "stream",
     "text": [
      "Informe o faturamento do 1º mês: R$ 1\n",
      "Informe o faturamento do 2º mês: R$ 2\n",
      "Informe o faturamento do 3º mês: R$ 3\n",
      "Informe o faturamento do 4º mês: R$ 4\n",
      "Informe o faturamento do 5º mês: R$ 5\n",
      "O faturamento total foi de R$15,00 com a média mensal de R$3\n"
     ]
    }
   ],
   "source": [
    "total = 0\n",
    "contador = 0\n",
    "\n",
    "for i in range(5):\n",
    "    faturamento = float(input(f'Informe o faturamento do {i + 1}º mês: R$ '))\n",
    "    total += faturamento\n",
    "    contador += 1\n",
    "medio = total / contador\n",
    "\n",
    "print(f'O faturamento total foi de R${total:.0f},00 com a média mensal de R${medio:.0f}')"
   ]
  },
  {
   "cell_type": "markdown",
   "id": "703f3c4d",
   "metadata": {
    "id": "703f3c4d"
   },
   "source": [
    "#### 8. Faça um programa que consiga categorizar a idade das equipes de uma empresa. Faça um programa que peça para n pessoas a sua idade, ao final o programa devera verificar se a média de idade da equipe varia entre 0 e 25 (jovem) ,26 e 60 (sênior) e maior que 60 (idosa); e então, dizer se a equipe é jovem, sênior ou idosa, conforme a média calculada."
   ]
  },
  {
   "cell_type": "code",
   "execution_count": 31,
   "id": "b56a85de",
   "metadata": {
    "id": "b56a85de"
   },
   "outputs": [
    {
     "name": "stdout",
     "output_type": "stream",
     "text": [
      "Quantas pessoas serão analisadas: 4\n",
      "Informe a idade do 1º integrante: 17\n",
      "Informe a idade do 2º integrante: 85\n",
      "Informe a idade do 3º integrante: 46\n",
      "Informe a idade do 4º integrante: 23\n",
      "A equipe tem como média de idade 42.75 anos, sendo considerada uma equipe Sênior.\n"
     ]
    }
   ],
   "source": [
    "participantes = int(input('Quantas pessoas serão analisadas: '))\n",
    "total = 0\n",
    "\n",
    "for i in range(participantes):\n",
    "    idade = int(input(f'Informe a idade do {i + 1}º integrante: '))\n",
    "    total += idade\n",
    "\n",
    "media_idade = total / participantes\n",
    "\n",
    "if media_idade < 26:\n",
    "    print(f'A equipe tem como média de idade {media_idade} anos, sendo considerada uma equipe Júnior.')\n",
    "elif media_idade < 61:\n",
    "    print(f'A equipe tem como média de idade {media_idade} anos, sendo considerada uma equipe Sênior.')\n",
    "else:\n",
    "    print(f'A equipe tem como média de idade {media_idade} anos, sendo considerada uma equipe Idosa.')"
   ]
  },
  {
   "cell_type": "markdown",
   "id": "aad21b98",
   "metadata": {
    "id": "aad21b98"
   },
   "source": [
    "#### 9. Numa eleição existem três candidatos. Faça um programa que peça o número total de eleitores. Peça para cada eleitor votar e ao final mostrar o número de votos de cada candidato."
   ]
  },
  {
   "cell_type": "code",
   "execution_count": 33,
   "id": "84aa7a93",
   "metadata": {
    "id": "84aa7a93"
   },
   "outputs": [
    {
     "name": "stdout",
     "output_type": "stream",
     "text": [
      "Quantidade de eleitores: 10\n",
      "Digite o número do seu candidato: 1 | 2 | 3: \n",
      "1\n",
      "Digite o número do seu candidato: 1 | 2 | 3: \n",
      "3\n",
      "Digite o número do seu candidato: 1 | 2 | 3: \n",
      "4\n",
      "Digite o número do seu candidato: 1 | 2 | 3: \n",
      "2\n",
      "Digite o número do seu candidato: 1 | 2 | 3: \n",
      "1\n",
      "Digite o número do seu candidato: 1 | 2 | 3: \n",
      "1\n",
      "Digite o número do seu candidato: 1 | 2 | 3: \n",
      "2\n",
      "Digite o número do seu candidato: 1 | 2 | 3: \n",
      "3\n",
      "Digite o número do seu candidato: 1 | 2 | 3: \n",
      "1\n",
      "Digite o número do seu candidato: 1 | 2 | 3: \n",
      "2\n",
      "=*=* Eleições Tabajara *=*=\n",
      "Candidato 1 = 4 votos\n",
      "Candidato 2 = 3 votos\n",
      "Candidato 3 = 2 votos\n",
      "Branco/Nulos = 1 votos\n"
     ]
    }
   ],
   "source": [
    "total_eleitores = int(input('Quantidade de eleitores: '))\n",
    "\n",
    "candidato1 = 0\n",
    "candidato2 = 0\n",
    "candidato3 = 0\n",
    "branco_nulo = 0\n",
    "\n",
    "for i in range(total_eleitores):\n",
    "    voto = int(input('Digite o número do seu candidato: 1 | 2 | 3: \\n'))\n",
    "    if voto == 1:\n",
    "        candidato1 += 1\n",
    "    elif voto == 2:\n",
    "        candidato2 += 1\n",
    "    elif voto == 3:\n",
    "        candidato3 += 1\n",
    "    else:\n",
    "        branco_nulo += 1\n",
    "    \n",
    "print(f'''=*=* Eleições Tabajara *=*=\n",
    "Candidato 1 = {candidato1} votos\n",
    "Candidato 2 = {candidato2} votos\n",
    "Candidato 3 = {candidato3} votos\n",
    "Branco/Nulos = {branco_nulo} votos''')"
   ]
  },
  {
   "cell_type": "markdown",
   "id": "6e306453",
   "metadata": {
    "id": "6e306453"
   },
   "source": [
    "#### 10. Faça um programa que calcule o valor total investido por um colecionador em sua coleção de CDs e o valor médio gasto em cada um deles. O usuário deverá informar a quantidade de CDs e o valor para em cada um."
   ]
  },
  {
   "cell_type": "code",
   "execution_count": null,
   "id": "6b7fa4a2",
   "metadata": {
    "id": "6b7fa4a2"
   },
   "outputs": [],
   "source": []
  },
  {
   "cell_type": "markdown",
   "id": "f19c8d86",
   "metadata": {
    "id": "f19c8d86"
   },
   "source": [
    "#### 11. O Sr. Manoel Joaquim possui uma grande loja de artigos de R\\\\$ 1,99, com cerca de 10 caixas. Para agilizar o cálculo de quanto cada cliente deve pagar ele desenvolveu um tabela que contém o número de itens que o cliente comprou e ao lado o valor da conta. Desta forma a atendente do caixa precisa apenas contar quantos itens o cliente está levando e olhar na tabela de preços. Você foi contratado para desenvolver o programa que monta esta tabela de preços, que conterá os preços de 1 até 50 produtos, conforme o exemplo abaixo:\n",
    "<pre>\n",
    "Lojas Quase Dois - Tabela de preços\n",
    "1 - R$ 1.99\n",
    "2 - R$ 3.98\n",
    "...\n",
    "50 - R$ 99.50\n",
    "</pre>"
   ]
  },
  {
   "cell_type": "code",
   "execution_count": null,
   "id": "4fc4d54d",
   "metadata": {
    "id": "4fc4d54d"
   },
   "outputs": [],
   "source": []
  },
  {
   "cell_type": "markdown",
   "id": "6cd19c52",
   "metadata": {
    "id": "6cd19c52"
   },
   "source": [
    "#### 12. Um funcionário de uma empresa recebe aumento salarial anualmente: Sabe-se que:\n",
    "<pre>\n",
    "Esse funcionário foi contratado em 1995, com salário inicial de R$ 1.000,00;\n",
    "Em 1996 recebeu aumento de 1,5% sobre seu salário inicial;\n",
    "A partir de 1997 (inclusive), os aumentos salariais sempre correspondem ao dobro do percentual do ano anterior. Faça um programa que determine o salário desse funcionário em 2003. \n",
    "</pre>"
   ]
  },
  {
   "cell_type": "code",
   "execution_count": null,
   "id": "98a4811b",
   "metadata": {
    "id": "98a4811b"
   },
   "outputs": [],
   "source": []
  },
  {
   "cell_type": "markdown",
   "id": "227928d1",
   "metadata": {
    "id": "227928d1"
   },
   "source": [
    "#### 13. O cardápio de uma lanchonete é o seguinte:\n",
    "<pre>\n",
    "Especificação   Código  Preço\n",
    "Cachorro Quente 100     R$ 1,20\n",
    "Bauru Simples   101     R$ 1,30\n",
    "Bauru com ovo   102     R$ 1,50\n",
    "Hambúrguer      103     R$ 1,20\n",
    "Cheeseburguer   104     R$ 1,30\n",
    "Refrigerante    105     R$ 1,00\n",
    "Faça um programa que leia o código dos itens pedidos e as quantidades desejadas. Calcule e mostre o valor a ser pago por item (preço * quantidade) e o total geral do pedido. Considere que o cliente deve informar quando o pedido deve ser encerrado.\n",
    "</pre>"
   ]
  },
  {
   "cell_type": "code",
   "execution_count": null,
   "id": "8a784b86",
   "metadata": {
    "id": "8a784b86"
   },
   "outputs": [],
   "source": []
  },
  {
   "cell_type": "markdown",
   "id": "9877b8ba",
   "metadata": {
    "id": "9877b8ba"
   },
   "source": [
    "#### 14. Uma grande emissora de televisão quer fazer uma enquete entre os seus telespectadores para saber qual o melhor jogador após cada jogo. Para isto, faz-se necessário o desenvolvimento de um programa, que será utilizado pelas telefonistas, para a computação dos votos. Sua equipe foi contratada para desenvolver este programa, utilizando a linguagem de programação Python. Para computar cada voto, a telefonista digitará um número, entre 1 e 23, correspondente ao número da camisa do jogador. Um número de jogador igual zero, indica que a votação foi encerrada. Se um número inválido for digitado, o programa deve ignorá-lo, mostrando uma breve mensagem de aviso, e voltando a pedir outro número. Após o final da votação, o programa deverá exibir:\n",
    "<pre>a. O total de votos computados;\n",
    "b. Os números e respectivos votos de todos os jogadores que receberam votos;\n",
    "c. O percentual de votos de cada um destes jogadores;\n",
    "d. O número do jogador escolhido como o melhor jogador da partida, juntamente com o número de votos e o percentual de votos dados a ele.\n",
    "        Observe que os votos inválidos e o zero final não devem ser computados como votos. O resultado aparece ordenado pelo número do jogador. O programa deve fazer uso de arrays. O programa deverá executar o cálculo do percentual de cada jogador através de uma função. Esta função receberá dois parâmetros: o número de votos de um jogador e o total de votos. A função calculará o percentual e retornará o valor calculado. Abaixo segue uma tela de exemplo. O disposição das informações deve ser o mais próxima possível ao exemplo. Os dados são fictícios e podem mudar a cada execução do programa. Ao final, o programa deve ainda gravar os dados referentes ao resultado da votação em um arquivo texto no disco, obedecendo a mesma disposição apresentada na tela.</pre>\n",
    "```\n",
    "Enquete: Quem foi o melhor jogador?\n",
    "\n",
    "Número do jogador (0=fim): 9\n",
    "Número do jogador (0=fim): 10\n",
    "Número do jogador (0=fim): 9\n",
    "Número do jogador (0=fim): 10\n",
    "Número do jogador (0=fim): 11\n",
    "Número do jogador (0=fim): 10\n",
    "Número do jogador (0=fim): 50\n",
    "Informe um valor entre 1 e 23 ou 0 para sair!\n",
    "Número do jogador (0=fim): 9\n",
    "Número do jogador (0=fim): 9\n",
    "Número do jogador (0=fim): 0\n",
    "\n",
    "Resultado da votação:\n",
    "\n",
    "Foram computados 8 votos.\n",
    "\n",
    "Jogador Votos           %\n",
    "9               4               50,0%\n",
    "10              3               37,5%\n",
    "11              1               12,5%\n",
    "``` "
   ]
  },
  {
   "cell_type": "code",
   "execution_count": null,
   "id": "79b82364",
   "metadata": {
    "id": "79b82364"
   },
   "outputs": [],
   "source": []
  }
 ],
 "metadata": {
  "colab": {
   "collapsed_sections": [],
   "provenance": []
  },
  "kernelspec": {
   "display_name": "Python 3 (ipykernel)",
   "language": "python",
   "name": "python3"
  },
  "language_info": {
   "codemirror_mode": {
    "name": "ipython",
    "version": 3
   },
   "file_extension": ".py",
   "mimetype": "text/x-python",
   "name": "python",
   "nbconvert_exporter": "python",
   "pygments_lexer": "ipython3",
   "version": "3.10.13"
  }
 },
 "nbformat": 4,
 "nbformat_minor": 5
}
