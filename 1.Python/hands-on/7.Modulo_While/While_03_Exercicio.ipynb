{
 "cells": [
  {
   "cell_type": "markdown",
   "metadata": {},
   "source": [
    "# Exercícios\n",
    "\n",
    "## 1. Input até o usuário parar\n",
    "\n",
    "Vamos criar um sistema de vendas. Nosso programa deve registrar os produtos e as quantidades (2 inputs) e adicionar em uma lista.\n",
    "\n",
    "O programa deve continuar rodando até o input ser vazio, ou seja, o usuário apertar enter sem digitar nenhum produto ou quantidade.\n",
    "\n",
    "Ao final do programa, ele deve printar todos os produtos e quantidades vendidas.\n",
    "\n",
    "Obs: Caso queira, para o print ficar mais visual, pode usar o join para cada item ser printado em uma linha.\n",
    "Sugestão para sua lista de produtos vendidos:"
   ]
  },
  {
   "cell_type": "raw",
   "metadata": {},
   "source": [
    "vendas = [\n",
    "    ['maçã', 5],\n",
    "    ['banana', 15],\n",
    "    ['azeite', 1],\n",
    "    ['vinho', 3],\n",
    "]"
   ]
  },
  {
   "cell_type": "code",
   "execution_count": 12,
   "metadata": {},
   "outputs": [
    {
     "name": "stdout",
     "output_type": "stream",
     "text": [
      "Insira o nome do produto: Nabo\n",
      "Informe a quantidade: 7\n",
      "Nabo adicionado com sucesso!\n",
      "Insira o nome do produto: Maçã\n",
      "Informe a quantidade: 5\n",
      "Maçã adicionado com sucesso!\n",
      "Insira o nome do produto: Figo\n",
      "Informe a quantidade: 7\n",
      "Figo adicionado com sucesso!\n",
      "Insira o nome do produto: \n",
      "Informe a quantidade: \n",
      "Lista de compras: [['Nabo', '7'], ['Maçã', '5'], ['Figo', '7']]\n"
     ]
    }
   ],
   "source": [
    "#seu código aqui 1ª forma\n",
    "vendas = []\n",
    "# produto = input('Insira o nome do produto: ')\n",
    "# qtde = input('Informe a quantidade: ')\n",
    "\n",
    "# while produto and qtde:\n",
    "#     vendas.append([produto, qtde])\n",
    "#     print(f'{produto} adicionado com sucesso!')\n",
    "    \n",
    "#     produto = input('Insira o nome do produto: ')\n",
    "#     qtde = input('Informe a quantidade: ')\n",
    "\n",
    "# print(f'Lista de compras: {vendas}')"
   ]
  },
  {
   "cell_type": "code",
   "execution_count": 27,
   "metadata": {},
   "outputs": [
    {
     "name": "stdout",
     "output_type": "stream",
     "text": [
      "Informe o produto: Maçã\n",
      "Informe a quantidade: 15\n",
      "Item adicionado com sucesso!\n",
      "Informe o produto: Uva\n",
      "Informe a quantidade: 10\n",
      "Item adicionado com sucesso!\n",
      "Informe o produto: Laranja\n",
      "Informe a quantidade: 6\n",
      "Item adicionado com sucesso!\n",
      "Informe o produto: Pera\n",
      "Informe a quantidade: 8\n",
      "Item adicionado com sucesso!\n",
      "Informe o produto: Alface\n",
      "Informe a quantidade: 4\n",
      "Item adicionado com sucesso!\n",
      "Informe o produto: \n",
      "\n",
      "LISTA DE COMPRAS\n",
      "================\n",
      "Maçã       == 15\n",
      "Uva        == 10\n",
      "Laranja    == 6\n",
      "Pera       == 8\n",
      "Alface     == 4\n"
     ]
    }
   ],
   "source": [
    "# 2ª forma\n",
    "vendas = []\n",
    "produto = input('Informe o produto: ')\n",
    "\n",
    "while produto:\n",
    "    produto = f'{produto:<10}'\n",
    "    qtde = input('Informe a quantidade: ')\n",
    "    vendas.append(' == '.join([produto, qtde]))\n",
    "    print('Item adicionado com sucesso!')\n",
    "    \n",
    "    produto = input('Informe o produto: ')\n",
    "    \n",
    "print('\\nLista de compras'.upper() + '\\n' + '=' *16 + '\\n' + '\\n'.join(vendas))\n",
    "\n",
    "# vendas = []\n",
    "# qtde = ''\n",
    "\n",
    "# while True:\n",
    "#     produto = input('Qual o produto?')\n",
    "\n",
    "#     if not produto:\n",
    "#         break\n",
    "\n",
    "#     qtde = input('Qual a quantidade?')\n",
    "#     x = ' '.join([produto, qtde])\n",
    "#     vendas.append(x)\n",
    "\n",
    "# print('\\n'.join(vendas))"
   ]
  },
  {
   "cell_type": "markdown",
   "metadata": {},
   "source": [
    "### Obs: Podemos fazer o While de 2 maneiras:\n",
    "\n",
    "1. While com a condição que finalize o programa\n",
    "2. While rodando para sempre, mas com uma condição dentro do while que dê um break no código.\n",
    "\n",
    "Vamos mostrar as 2 opções"
   ]
  }
 ],
 "metadata": {
  "kernelspec": {
   "display_name": "Python 3 (ipykernel)",
   "language": "python",
   "name": "python3"
  },
  "language_info": {
   "codemirror_mode": {
    "name": "ipython",
    "version": 3
   },
   "file_extension": ".py",
   "mimetype": "text/x-python",
   "name": "python",
   "nbconvert_exporter": "python",
   "pygments_lexer": "ipython3",
   "version": "3.10.13"
  }
 },
 "nbformat": 4,
 "nbformat_minor": 4
}
