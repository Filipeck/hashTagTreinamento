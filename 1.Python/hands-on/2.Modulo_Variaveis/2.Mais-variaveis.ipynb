{
 "cells": [
  {
   "cell_type": "markdown",
   "id": "a508f595",
   "metadata": {},
   "source": [
    "#### Como foi feito na aula 3:"
   ]
  },
  {
   "cell_type": "code",
   "execution_count": 3,
   "id": "346479ce",
   "metadata": {},
   "outputs": [
    {
     "name": "stdout",
     "output_type": "stream",
     "text": [
      "O faturamento da loja foi 1000, O custo da loja foi 500. Assim, o lucro da loja foi de 500 reais\n"
     ]
    }
   ],
   "source": [
    "faturamento = 1000\n",
    "custo = 500\n",
    "lucro = faturamento - custo\n",
    "print('O faturamento da loja foi '+ str(faturamento), end=', ')\n",
    "print('O custo da loja foi ' + str(custo), end='. ')\n",
    "print('Assim, o lucro da loja foi de ' + str(lucro) + ' reais')"
   ]
  },
  {
   "cell_type": "code",
   "execution_count": null,
   "id": "19869163",
   "metadata": {},
   "outputs": [],
   "source": []
  }
 ],
 "metadata": {
  "kernelspec": {
   "display_name": "Python 3 (ipykernel)",
   "language": "python",
   "name": "python3"
  },
  "language_info": {
   "codemirror_mode": {
    "name": "ipython",
    "version": 3
   },
   "file_extension": ".py",
   "mimetype": "text/x-python",
   "name": "python",
   "nbconvert_exporter": "python",
   "pygments_lexer": "ipython3",
   "version": "3.10.9"
  }
 },
 "nbformat": 4,
 "nbformat_minor": 5
}
