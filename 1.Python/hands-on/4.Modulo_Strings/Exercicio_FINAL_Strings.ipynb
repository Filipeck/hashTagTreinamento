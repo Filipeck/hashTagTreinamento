{
 "cells": [
  {
   "cell_type": "markdown",
   "id": "2b04bbea",
   "metadata": {},
   "source": [
    "# Strings\n",
    "\n",
    "<span style=\"color: red;\"><b>Todos os exercícios são feitos partindo-se do pressuposto de que todas as entradas são dadas de forma correta. Casos limite não mencionados no enunciado não são abordados porque não fazem parte do exercício.</b></span>"
   ]
  },
  {
   "cell_type": "markdown",
   "id": "5b1f33b9",
   "metadata": {},
   "source": [
    "#### 1. Tamanho de strings. Faça um programa que leia 2 strings e informe o conteúdo delas seguido do seu comprimento. Informe também se as duas strings possuem o mesmo comprimento e são iguais ou diferentes no conteúdo.\n",
    "<pre>\n",
    "Compara duas strings\n",
    "String 1: Brasil Hexa 2006\n",
    "String 2: Brasil! Hexa 2006!\n",
    "Tamanho de \"Brasil Hexa 2006\": 16 caracteres\n",
    "Tamanho de \"Brasil! Hexa 2006!\": 18 caracteres\n",
    "As duas strings são de tamanhos diferentes.\n",
    "As duas strings possuem conteúdo diferente.\n",
    "</pre>"
   ]
  },
  {
   "cell_type": "code",
   "execution_count": 2,
   "id": "c492b657",
   "metadata": {},
   "outputs": [
    {
     "name": "stdout",
     "output_type": "stream",
     "text": [
      "Insira o primeiro texto: Olá Mundo\n",
      "Insira o segundo texto: Mundo Olá\n",
      "\n",
      "=*=* Comparador de textos *=*=\n",
      "\n",
      "Primeiro texto: Olá Mundo\n",
      "Segundo texto: Mundo Olá\n",
      "Tamanho de \"Olá Mundo\": 9 caracteres.\n",
      "Tamanho de \"Mundo Olá\": 9 caracteres.\n",
      "Os dois textos são do mesmo tamanho.\n",
      "Os dois textos têm conteúdos diferentes!\n"
     ]
    }
   ],
   "source": [
    "string1 = input('Insira o primeiro texto: ').strip()\n",
    "string2 = input('Insira o segundo texto: ').strip()\n",
    "\n",
    "tamanho1 = len(string1)\n",
    "tamanho2 = len(string2)\n",
    "\n",
    "print(f'''\\n=*=* Comparador de textos *=*=\n",
    "\n",
    "Primeiro texto: {string1}\n",
    "Segundo texto: {string2}\n",
    "Tamanho de \"{string1}\": {tamanho1} caracteres.\n",
    "Tamanho de \"{string2}\": {tamanho2} caracteres.''')\n",
    "\n",
    "if tamanho1 == tamanho2:\n",
    "    print('Os dois textos são do mesmo tamanho.')\n",
    "else:\n",
    "    print('Os dois textos são de tamanhos diferentes.')\n",
    "\n",
    "if string1.casefold() == string2.casefold():\n",
    "    print('Os dois textos têm o mesmo conteúdo!')\n",
    "else:\n",
    "    print('Os dois textos têm conteúdos diferentes!')"
   ]
  },
  {
   "cell_type": "markdown",
   "id": "c3068a53",
   "metadata": {},
   "source": [
    "#### 2. Valida e corrige número de telefone. Faça um programa que leia um número de telefone, e corrija o número no caso deste conter somente 8 dígitos, acrescentando o '9' na frente. O usuário pode informar o número com ou sem o traço separador.\n",
    "<pre>\n",
    "Valida e corrige número de telefone\n",
    "Telefone: 3461-0133\n",
    "Telefone possui 8 dígitos. Vou acrescentar o digito nove na frente.\n",
    "Telefone corrigido sem formatação: 934610133\n",
    "Telefone corrigido com formatação: 93461-0133\n",
    "</pre>"
   ]
  },
  {
   "cell_type": "code",
   "execution_count": 11,
   "id": "0308566d",
   "metadata": {},
   "outputs": [
    {
     "name": "stdout",
     "output_type": "stream",
     "text": [
      "Insira o número de telefone:     8888-5454\n",
      "O número informado contém 8 dígitos, irei acrescentar o 9 na frente...\n",
      "Número corrigido sem formatação -> 988885454\n",
      "Número corrigido e formatado - > 9 8888-5454\n"
     ]
    }
   ],
   "source": [
    "telefone = input('Insira o número de telefone: ').strip().replace(' ', '').replace('-', '')\n",
    "\n",
    "if len(telefone) == 8:\n",
    "    telefone = '9' + telefone\n",
    "    print(f'''O número informado contém 8 dígitos, irei acrescentar o 9 na frente...\n",
    "Número corrigido sem formatação -> {telefone}\n",
    "Número corrigido e formatado - > {telefone[0]} {telefone[1:5]}-{telefone[5:]}''')"
   ]
  }
 ],
 "metadata": {
  "kernelspec": {
   "display_name": "Python 3 (ipykernel)",
   "language": "python",
   "name": "python3"
  },
  "language_info": {
   "codemirror_mode": {
    "name": "ipython",
    "version": 3
   },
   "file_extension": ".py",
   "mimetype": "text/x-python",
   "name": "python",
   "nbconvert_exporter": "python",
   "pygments_lexer": "ipython3",
   "version": "3.10.13"
  }
 },
 "nbformat": 4,
 "nbformat_minor": 5
}
