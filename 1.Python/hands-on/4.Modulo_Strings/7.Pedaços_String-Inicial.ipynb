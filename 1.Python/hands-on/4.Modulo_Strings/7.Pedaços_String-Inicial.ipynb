{
 "cells": [
  {
   "cell_type": "markdown",
   "id": "4e5fa91b",
   "metadata": {},
   "source": [
    "### Forma Básica"
   ]
  },
  {
   "cell_type": "code",
   "execution_count": 7,
   "id": "fba45682",
   "metadata": {},
   "outputs": [],
   "source": [
    "precos = \"Jan: 25, Fev: 27, Mar: 29\"\n"
   ]
  },
  {
   "cell_type": "markdown",
   "id": "afe5dc17",
   "metadata": {},
   "source": [
    "### Posição Inicial e Final"
   ]
  },
  {
   "cell_type": "code",
   "execution_count": 13,
   "id": "c3488405",
   "metadata": {},
   "outputs": [
    {
     "name": "stdout",
     "output_type": "stream",
     "text": [
      "25 27 29\n"
     ]
    }
   ],
   "source": [
    "# precos_jan = precos[:7]\n",
    "# precos_fev = precos[9:16]\n",
    "# precos_mar = precos[-7:]\n",
    "# print(precos_jan, precos_fev, precos_mar)\n",
    "\n",
    "precos_jan = precos[5:7]\n",
    "precos_fev = precos[-11:-9]\n",
    "precos_mar = precos[-2:]\n",
    "\n",
    "print(precos_jan, precos_fev, precos_mar)"
   ]
  },
  {
   "cell_type": "markdown",
   "id": "bca6dfd4",
   "metadata": {},
   "source": [
    "### Posição Inicial e Final com Step"
   ]
  },
  {
   "cell_type": "code",
   "execution_count": 21,
   "id": "981224c2",
   "metadata": {},
   "outputs": [
    {
     "name": "stdout",
     "output_type": "stream",
     "text": [
      "...,,,..,.\n"
     ]
    }
   ],
   "source": [
    "codigo = \"1.2.3.4,5,1,2.3.4,7.9\"\n",
    "\n",
    "# pedaco_cod = codigo[::-2]\n",
    "# pedaco_cod = codigo[::4]\n",
    "# pedaco_cod = codigo[::-4]\n",
    "# pedaco_cod = codigo[-3:-12:-4]\n",
    "pedaco_cod = codigo[1:-1:2]\n",
    "print(pedaco_cod)"
   ]
  },
  {
   "cell_type": "code",
   "execution_count": null,
   "id": "e134a9b3",
   "metadata": {},
   "outputs": [],
   "source": []
  }
 ],
 "metadata": {
  "kernelspec": {
   "display_name": "Python 3 (ipykernel)",
   "language": "python",
   "name": "python3"
  },
  "language_info": {
   "codemirror_mode": {
    "name": "ipython",
    "version": 3
   },
   "file_extension": ".py",
   "mimetype": "text/x-python",
   "name": "python",
   "nbconvert_exporter": "python",
   "pygments_lexer": "ipython3",
   "version": "3.10.13"
  }
 },
 "nbformat": 4,
 "nbformat_minor": 5
}
