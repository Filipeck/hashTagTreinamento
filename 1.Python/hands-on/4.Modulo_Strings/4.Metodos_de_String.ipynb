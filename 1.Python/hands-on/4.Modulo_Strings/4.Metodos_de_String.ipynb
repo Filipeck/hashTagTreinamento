{
 "cells": [
  {
   "cell_type": "markdown",
   "metadata": {},
   "source": [
    "# \"Fórmulas\" de Texto - Métodos de String\n",
    "\n",
    "## Estrutura:\n",
    "\n",
    "- Normalmente usamos a estrutura texto.método() para fazer as modificações que queremos\n",
    "- Alguns métodos pedem \"argumentos\", que são informações que temos que passar para a fórmula (método) para ela funcionar. Esses argumentos são passados dentro do parênteses\n",
    "\n",
    "## Como usar:\n",
    "\n",
    "Não decore os métodos, os que você for mais usando com o tempo você vai decorar o que precisar.\n",
    "\n",
    "Mas a dica é: use essa lista para consulta e busque entender como os métodos funcionam e suas aplicações, para poder consultar e usar quando precisar."
   ]
  },
  {
   "cell_type": "markdown",
   "metadata": {},
   "source": [
    "- capitalize() -> Coloca a 1ª letra Maiúscula"
   ]
  },
  {
   "cell_type": "raw",
   "metadata": {},
   "source": [
    "    Uso: \n",
    "        texto = 'lira'\n",
    "        print(texto.capitalize())\n",
    "    Resultado: \n",
    "        'Lira'"
   ]
  },
  {
   "cell_type": "markdown",
   "metadata": {},
   "source": [
    "- casefold() -> Transforma todas as letras em minúsculas (existe lower() mas o casefold é melhor normalmente)"
   ]
  },
  {
   "cell_type": "raw",
   "metadata": {},
   "source": [
    "    Uso: \n",
    "        texto = 'Lira'\n",
    "        print(texto.casefold())\n",
    "    Resultado: \n",
    "        'lira'"
   ]
  },
  {
   "cell_type": "markdown",
   "metadata": {},
   "source": [
    "- count()\t-> Quantidade de vezes que um valor aparece na string"
   ]
  },
  {
   "cell_type": "raw",
   "metadata": {},
   "source": [
    "    Uso:\n",
    "        texto = 'lira@yahoo.com.br'\n",
    "        print(texto.count('.'))\n",
    "    Resultado:\n",
    "        2"
   ]
  },
  {
   "cell_type": "markdown",
   "metadata": {},
   "source": [
    "- endswith() -> Verifica se o texto termina com um valor específico e dá como resposta True ou False"
   ]
  },
  {
   "cell_type": "raw",
   "metadata": {},
   "source": [
    "    Uso:\n",
    "        texto = 'lira@gmail.com'\n",
    "        print(texto.endswith('gmail.com'))\n",
    "    Resultado:\n",
    "        True"
   ]
  },
  {
   "cell_type": "markdown",
   "metadata": {},
   "source": [
    "- find() -> Procura um texto dentro de outro texto e dá como resposta a posição do texto encontrado"
   ]
  },
  {
   "cell_type": "raw",
   "metadata": {},
   "source": [
    "    Uso:\n",
    "        texto = 'lira@gmail.com'\n",
    "        print(texto.find('@'))\n",
    "    Resultado:\n",
    "        4\n",
    "    Obs: lembrando como funciona a posição nas strings, então o @ está na posição 4\n",
    "    l i r a @ g m a i l  .  c  o  m\n",
    "    0 1 2 3 4 5 6 7 8 9 10 11 12 13"
   ]
  },
  {
   "cell_type": "markdown",
   "metadata": {},
   "source": [
    "- format() -> Formata uma string de acordo com os valores passados. Já usamos bastante ao longo do programa."
   ]
  },
  {
   "cell_type": "raw",
   "metadata": {},
   "source": [
    "    Uso:\n",
    "        faturamento = 1000\n",
    "        print('O faturamento da loja foi de {} reais'.format(faturamento))\n",
    "    Resultado:\n",
    "        'O faturamento da loja foi de 1000 reais'"
   ]
  },
  {
   "cell_type": "markdown",
   "metadata": {},
   "source": [
    "- isalnum() -> Verifica se um texto é todo feito com caracteres alfanuméricos (letras e números) -> letras com acento ou ç são considerados letras para essa função."
   ]
  },
  {
   "cell_type": "raw",
   "metadata": {},
   "source": [
    "    Uso:\n",
    "        texto = 'João123'\n",
    "        print(texto.isalnum())\n",
    "    Resultado:\n",
    "        True\n",
    "    Obs: se o texto fosse 'Jo~ao' ou então 'Joao#' o resultado seria False "
   ]
  },
  {
   "cell_type": "markdown",
   "metadata": {},
   "source": [
    "- isalpha() -> Verifica se um texto é todo feito de letras."
   ]
  },
  {
   "cell_type": "raw",
   "metadata": {},
   "source": [
    "    Uso:\n",
    "        texto = 'João'\n",
    "        print(texto.isalpha())\n",
    "    Resultado:\n",
    "        True\n",
    "    Obs: nesse caso se o texto fosse 'Joao123' o resultado seria False, porque 123 não são letras."
   ]
  },
  {
   "cell_type": "markdown",
   "metadata": {},
   "source": [
    "- isnumeric()\t-> Verifica se um texto é todo feito por números."
   ]
  },
  {
   "cell_type": "raw",
   "metadata": {},
   "source": [
    "    Uso:\n",
    "        texto = '123'\n",
    "        print(texto.isnumeric())\n",
    "    Resultado:\n",
    "        True\n",
    "    Obs: existem os métodos isdigit() e isdecimal() que tem variações pontuais em caracteres especiais tipo textos com frações e potências, mas para 99% dos casos eles não vão ser necessários."
   ]
  },
  {
   "cell_type": "markdown",
   "metadata": {},
   "source": [
    "- replace() -> Substitui um texto por um outro texto em uma string."
   ]
  },
  {
   "cell_type": "raw",
   "metadata": {},
   "source": [
    "    Uso:\n",
    "        texto = '1000.00'\n",
    "        print(texto.replace('.', ','))\n",
    "    Resultado\n",
    "        '1000,00'\n",
    "    Obs: o replace precisa de 2 argumentos para funcionar. O 1º é o texto que você quer trocar. O 2º é o texto que você quer colocar no lugar daquele texto que você está tirando."
   ]
  },
  {
   "cell_type": "markdown",
   "metadata": {},
   "source": [
    "- split()\t-> Separa uma string de acordo com um delimitador em vários textos diferentes."
   ]
  },
  {
   "cell_type": "raw",
   "metadata": {},
   "source": [
    "    Uso:\n",
    "        texto = 'lira@gmail.com'\n",
    "        print(texto.split('@'))\n",
    "    Resultado:\n",
    "        ['lira', 'gmail.com']\n"
   ]
  },
  {
   "cell_type": "markdown",
   "metadata": {},
   "source": [
    "- splitlines() -> separa um texto em vários textos de acordo com os \"enters\" do texto"
   ]
  },
  {
   "cell_type": "raw",
   "metadata": {},
   "source": [
    "    Uso:\n",
    "        texto = '''Olá, bom dia\n",
    "        Venho por meio desse e-mail lhe informar o faturamento da loja no dia de hoje.\n",
    "        Faturamento = R$2.500,00\n",
    "        '''\n",
    "        print(texto.splitlines())\n",
    "    Resultado:\n",
    "        ['Olá, bom dia', 'Venho por meio desse e-mail lhe informar o faturamento da loja no dia de hoje.', 'Faturamento = R$2.500,00']"
   ]
  },
  {
   "cell_type": "markdown",
   "metadata": {},
   "source": [
    "- startswith() -> Verifica se a string começa com determinado texto"
   ]
  },
  {
   "cell_type": "raw",
   "metadata": {},
   "source": [
    "    Uso:\n",
    "        texto = 'BEB123453'\n",
    "        print(texto.startswith('BEB'))\n",
    "    Resultado:\n",
    "        True"
   ]
  },
  {
   "cell_type": "markdown",
   "metadata": {},
   "source": [
    "- strip()\t-> Retira caracteres indesejados dos textos. Por padrão, retira espaços \"extras\" no início e no final"
   ]
  },
  {
   "cell_type": "raw",
   "metadata": {},
   "source": [
    "    Uso:\n",
    "        texto = ' BEB123453 '\n",
    "        print(texto.strip())\n",
    "    Resultado:\n",
    "        'BEB123453'"
   ]
  },
  {
   "cell_type": "markdown",
   "metadata": {},
   "source": [
    "- title() -> Coloca a 1ª letra de cada palavra em maiúscula"
   ]
  },
  {
   "cell_type": "raw",
   "metadata": {},
   "source": [
    "    Uso:\n",
    "        texto = 'joão paulo lira'\n",
    "        print(texto.title())\n",
    "    Resultado:\n",
    "        'João Paulo Lira'"
   ]
  },
  {
   "cell_type": "markdown",
   "metadata": {},
   "source": [
    "- upper()\t-> Coloca o texto todo em letra maiúscula"
   ]
  },
  {
   "cell_type": "raw",
   "metadata": {},
   "source": [
    "    Uso:\n",
    "        texto = 'beb12343'\n",
    "        print(texto.upper())\n",
    "    Resultado:\n",
    "        'BEB12343'"
   ]
  },
  {
   "cell_type": "markdown",
   "metadata": {},
   "source": [
    "## Exercitando"
   ]
  },
  {
   "cell_type": "code",
   "execution_count": 35,
   "metadata": {},
   "outputs": [
    {
     "name": "stdout",
     "output_type": "stream",
     "text": [
      "O faturamento foi de 2000\n",
      "Fui no parque para ver como é que é!\n",
      "Fui No Parque Para Ver Como É Que É!\n",
      "fui no parque para ver como é que é!\n",
      "FUI NO PARQUE PARA VER COMO É QUE É!\n",
      "2\n",
      "True\n",
      "True\n",
      "16\n",
      "True False False\n",
      "R$ 50000,00\n",
      "['huguinhoduck', 'outlook.com']\n",
      "BUBA3321\n"
     ]
    }
   ],
   "source": [
    "faturamento = 2000\n",
    "texto = 'O faturamento foi de {}'.format(faturamento)\n",
    "print(texto)\n",
    "\n",
    "#Capitalize - primeira maiúscula\n",
    "textao = 'fui no parque para ver como é que é!'.capitalize()\n",
    "print(textao)\n",
    "\n",
    "#title - coloca a 1ª letra de cada palavra em maiúscula\n",
    "textao = 'fui no parque para ver como é que é!'\n",
    "print(textao.title())\n",
    "\n",
    "#casefold - todas minúsculas\n",
    "textao = 'FUI NO PARQUE PARA VER COMO É que é!'.casefold()\n",
    "print(textao)\n",
    "\n",
    "#upper - Coloca o texto todo em letra maiúscula\n",
    "textao = 'fui no PARQUE para ver como é que é!'.upper()\n",
    "print(textao)\n",
    "\n",
    "#count - quantidade de vezes que valor aparece na string\n",
    "textao = 'Fui no parquE para ver como é que É'.count('e')\n",
    "print(textao)\n",
    "\n",
    "#endswith - verifica se string termina com valor especifico (true or false)\n",
    "email = 'carlinhoscalango@gmail.com'.endswith('gmail.com')\n",
    "print(email)\n",
    "\n",
    "#startswith - Verifica se a string começa com determinado texto\n",
    "codigo = 'BUBA1233342'.startswith('BUB')\n",
    "print(codigo)\n",
    "\n",
    "#find procura um texto dentro do texto e dá a posição dele\n",
    "email = 'carlinhoscoronga@gmail.com'.find('@')\n",
    "print(email)\n",
    "\n",
    "#isalnum - verifica se todos os caracteres são alfanuméricos\n",
    "texto = 'Jorginho123'.isalnum()\n",
    "texto1 = 'Jorginho'.isnumeric() #verifica se é todo numérico\n",
    "texto2 = '1, 2, feijão com arroz'.isalpha() #verifica se é composto apenas por letras\n",
    "print(texto, texto1, texto2)\n",
    "\n",
    "#replace - substitui um texto por outro em uma string\n",
    "valor = 'R$ 50000.00'.replace('.', ',')\n",
    "print(valor)\n",
    "\n",
    "#split - separa uma string de acordo com um delimitador informado\n",
    "email = 'huguinhoduck@outlook.com'.split('@')\n",
    "print(email)\n",
    "\n",
    "#strip - Retira caracteres indesejados dos textos. Por padrão, retira espaços \"extras\" no início e no final\n",
    "codigo = '  BUBA3321 '.strip()\n",
    "print(codigo)"
   ]
  },
  {
   "cell_type": "code",
   "execution_count": 27,
   "metadata": {},
   "outputs": [
    {
     "name": "stdout",
     "output_type": "stream",
     "text": [
      "['Olá, bom dia', 'Venho por meio desse e-mail lhe informar o faturamento da loja no dia de hoje.', 'Faturamento = R$2.500,00']\n"
     ]
    }
   ],
   "source": [
    "#splitlines() -> separa um texto em vários textos de acordo com os \"enters\" do texto\n",
    "texto = '''Olá, bom dia\n",
    "Venho por meio desse e-mail lhe informar o faturamento da loja no dia de hoje.\n",
    "Faturamento = R$2.500,00\n",
    "'''.splitlines()\n",
    "print(texto)"
   ]
  }
 ],
 "metadata": {
  "kernelspec": {
   "display_name": "Python 3 (ipykernel)",
   "language": "python",
   "name": "python3"
  },
  "language_info": {
   "codemirror_mode": {
    "name": "ipython",
    "version": 3
   },
   "file_extension": ".py",
   "mimetype": "text/x-python",
   "name": "python",
   "nbconvert_exporter": "python",
   "pygments_lexer": "ipython3",
   "version": "3.10.13"
  }
 },
 "nbformat": 4,
 "nbformat_minor": 4
}
