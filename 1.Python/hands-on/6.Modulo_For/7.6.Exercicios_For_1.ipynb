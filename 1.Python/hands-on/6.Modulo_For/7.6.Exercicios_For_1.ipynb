{
 "cells": [
  {
   "cell_type": "markdown",
   "metadata": {},
   "source": [
    "# Exercícios\n",
    "\n",
    "## 1. Criando um Registro de Hóspedes\n",
    "\n",
    "Digamos que você está criando o sistema para registrar a chegada de hóspedes em um hotel. No hotel, os hóspedes podem ter quartos com 1, 2, 3 e 4 pessoas. Seu sistema deve conseguir:\n",
    "\n",
    "1. Identificar quantas pessoas o hóspede que acabou de chegar vai ter no quarto (perguntando por meio de input)\n",
    "2. De acordo com a quantidade de pessoas do hóspede, ele deve fazer um for para perguntar o cpf e o nome de cada pessoa, a fim de registrá-la no quarto (2 inputs para cada pessoa, 1 para o cpf e outro para o nome)\n",
    "3. O seu programa então deve gerar uma lista com todas as pessoas que ficarão no quarto em que cada item dessa lista é o nome da pessoa e o cpf da pessoa, assim:"
   ]
  },
  {
   "cell_type": "raw",
   "metadata": {},
   "source": [
    "quarto = [\n",
    "    ['João', 'cpf:00000000000'],\n",
    "    ['Julia', 'cpf:11111111111'],\n",
    "    ['Marcus', 'cpf:22222222222'],\n",
    "    ['Maria', 'cpf:33333333333'],\n",
    "]"
   ]
  },
  {
   "cell_type": "markdown",
   "metadata": {},
   "source": [
    "- Para simplificar, não vamos nos preocupar com possibilidades de \"tentar colocar mais de 1 hóspede, digitar o cpf errado, etc. Nosso objetivo é treinar a criação de uma rotina de cadastro"
   ]
  },
  {
   "cell_type": "code",
   "execution_count": 1,
   "metadata": {},
   "outputs": [
    {
     "name": "stdout",
     "output_type": "stream",
     "text": [
      "Quantos hóspedes ficarão no quarto? \n",
      "5\n",
      "Os quartos só podem ter até 4 hóspedes.\n",
      "Quarto = []\n"
     ]
    }
   ],
   "source": [
    "#seu código aqui\n",
    "qtde_hospedes = int(input('Quantos hóspedes ficarão no quarto? \\n'))\n",
    "quarto = []\n",
    "\n",
    "if qtde_hospedes < 5:\n",
    "    for i in range(qtde_hospedes):\n",
    "        nome = input('Insira o nome do hóspede: ')\n",
    "        cpf = input('Insira o CPF: ')\n",
    "        hospedes = [nome, f'CPF: {cpf}']\n",
    "        quarto.append(hospedes)\n",
    "else:\n",
    "    print('Os quartos só podem ter até 4 hóspedes.')\n",
    "\n",
    "print(f'Quarto = {quarto}')\n",
    "    "
   ]
  },
  {
   "cell_type": "markdown",
   "metadata": {},
   "source": [
    "## 2. Análise de Vendas\n",
    "\n",
    "Nesse exercício vamos fazer uma \"análise simples\" de atingimento de Meta.\n",
    "\n",
    "Temos uma lista com os vendedores e os valores de vendas e queremos identificar (printar) quais os vendedores que bateram a meta e qual foi o valor que eles venderam."
   ]
  },
  {
   "cell_type": "code",
   "execution_count": 2,
   "metadata": {},
   "outputs": [
    {
     "name": "stdout",
     "output_type": "stream",
     "text": [
      "João alcançou a meta! Com o total de 15000 vendas!\n",
      "Julia alcançou a meta! Com o total de 27000 vendas!\n",
      "Ana alcançou a meta! Com o total de 10300 vendas!\n"
     ]
    }
   ],
   "source": [
    "meta = 10000\n",
    "vendas = [\n",
    "    ['João', 15000],\n",
    "    ['Julia', 27000],\n",
    "    ['Marcus', 9900],\n",
    "    ['Maria', 3750],\n",
    "    ['Ana', 10300],\n",
    "    ['Alon', 7870],\n",
    "]\n",
    "#seu código aqui\n",
    "for venda in vendas:\n",
    "    if venda[1] >= meta:\n",
    "        print(f'{venda[0]} alcançou a meta! Com o total de {venda[1]} vendas!')"
   ]
  },
  {
   "cell_type": "markdown",
   "metadata": {},
   "source": [
    "## 3. Comparação com Ano Anterior\n",
    "\n",
    "Digamos que você está analisando as vendas de produtos de um ecommerce e quer identificar quais produtos tiveram no ano de 2023 mais vendas do que no ano de 2022, para reportar isso para a diretoria.\n",
    "\n",
    "Sua resposta pode ser um print de cada produto, qual foi a venda de 2022, a venda de 2023 e o % de crescimento de 2023 para 2022.\n",
    "\n",
    "Lembrando, para calcular o % de crescimento de um produto de um ano para o outro, podemos fazer: (vendas_produto2023/vendas_produto2022 - 1)\n",
    "\n",
    "Dica: lembre do enumerate, ele pode facilitar seu \"for\""
   ]
  },
  {
   "cell_type": "code",
   "execution_count": 5,
   "metadata": {},
   "outputs": [
    {
     "name": "stdout",
     "output_type": "stream",
     "text": [
      "Vendas Iphone:\n",
      "2022: 558147 unidades\n",
      "2023: 951642 unidades\n",
      "Crescimento no período de 1 ano = 70.50%\n",
      "\n",
      "Vendas Tv:\n",
      "2022: 405252 unidades\n",
      "2023: 787604 unidades\n",
      "Crescimento no período de 1 ano = 94.35%\n",
      "\n",
      "Vendas Máquina De Café:\n",
      "2022: 718654 unidades\n",
      "2023: 867660 unidades\n",
      "Crescimento no período de 1 ano = 20.73%\n",
      "\n",
      "Vendas Notebook Dell:\n",
      "2022: 422760 unidades\n",
      "2023: 694913 unidades\n",
      "Crescimento no período de 1 ano = 64.38%\n",
      "\n",
      "Vendas Notebook Hp:\n",
      "2022: 154753 unidades\n",
      "2023: 539704 unidades\n",
      "Crescimento no período de 1 ano = 248.75%\n",
      "\n",
      "Vendas Microsoft Surface:\n",
      "2022: 438508 unidades\n",
      "2023: 667179 unidades\n",
      "Crescimento no período de 1 ano = 52.15%\n",
      "\n",
      "Vendas Webcam:\n",
      "2022: 237467 unidades\n",
      "2023: 295633 unidades\n",
      "Crescimento no período de 1 ano = 24.49%\n",
      "\n",
      "Vendas Caixa De Som:\n",
      "2022: 489705 unidades\n",
      "2023: 725316 unidades\n",
      "Crescimento no período de 1 ano = 48.11%\n",
      "\n",
      "Vendas Microfone:\n",
      "2022: 328311 unidades\n",
      "2023: 644622 unidades\n",
      "Crescimento no período de 1 ano = 96.34%\n",
      "\n",
      "Vendas Câmera Canon:\n",
      "2022: 591120 unidades\n",
      "2023: 994303 unidades\n",
      "Crescimento no período de 1 ano = 68.21%\n",
      "\n"
     ]
    }
   ],
   "source": [
    "produtos = ['iphone', 'galaxy', 'ipad', 'tv', 'máquina de café', 'kindle', 'geladeira', 'adega', 'notebook dell', 'notebook hp', 'notebook asus', 'microsoft surface', 'webcam', 'caixa de som', 'microfone', 'câmera canon']\n",
    "vendas2022 = [558147,712350,573823,405252,718654,531580,973139,892292,422760,154753,887061,438508,237467,489705,328311,591120]\n",
    "vendas2023 = [951642,244295,26964,787604,867660,78830,710331,646016,694913,539704,324831,667179,295633,725316,644622,994303]\n",
    "\n",
    "#seu código aqui\n",
    "\n",
    "for i, produto in enumerate(produtos):\n",
    "    if vendas2023[i] > vendas2022[i]:\n",
    "        crescimento = vendas2023[i]/vendas2022[i] - 1\n",
    "        print(f'''Vendas {produto.title()}:\n",
    "2022: {vendas2022[i]} unidades\n",
    "2023: {vendas2023[i]} unidades\n",
    "Crescimento no período de 1 ano = {crescimento:.2%}\\n''')"
   ]
  }
 ],
 "metadata": {
  "kernelspec": {
   "display_name": "Python 3 (ipykernel)",
   "language": "python",
   "name": "python3"
  },
  "language_info": {
   "codemirror_mode": {
    "name": "ipython",
    "version": 3
   },
   "file_extension": ".py",
   "mimetype": "text/x-python",
   "name": "python",
   "nbconvert_exporter": "python",
   "pygments_lexer": "ipython3",
   "version": "3.10.13"
  }
 },
 "nbformat": 4,
 "nbformat_minor": 4
}
