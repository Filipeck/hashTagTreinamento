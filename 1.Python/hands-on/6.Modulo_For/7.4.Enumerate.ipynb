{
 "cells": [
  {
   "cell_type": "markdown",
   "metadata": {},
   "source": [
    "# Enumerate\n",
    "\n",
    "### Estrutura:\n",
    "\n",
    "O enumerate permite que você percorra uma lista e ao mesmo tempo tenha em uma variável o índice daquele item.\n",
    "\n",
    "- for normalmente"
   ]
  },
  {
   "cell_type": "raw",
   "metadata": {},
   "source": [
    "for item in lista:\n",
    "    resto do código"
   ]
  },
  {
   "cell_type": "code",
   "execution_count": null,
   "metadata": {},
   "outputs": [],
   "source": [
    "funcionarios = ['Maria', 'José', 'Antônio', 'João', 'Francisco', 'Ana', 'Luiz', 'Paulo', 'Carlos', 'Manoel', 'Pedro', 'Francisca', 'Marcos', 'Raimundo', 'Sebastião', 'Antônia', 'Marcelo', 'Jorge', 'Márcia', 'Geraldo', 'Adriana', 'Sandra', 'Luis']\n",
    "for funcionario in funcionarios:\n",
    "    print(funcionario)"
   ]
  },
  {
   "cell_type": "raw",
   "metadata": {},
   "source": [
    "for i, item in enumerate(lista):\n",
    "    resto do código"
   ]
  },
  {
   "cell_type": "code",
   "execution_count": 2,
   "metadata": {
    "scrolled": false
   },
   "outputs": [
    {
     "name": "stdout",
     "output_type": "stream",
     "text": [
      "Índice 0 é o funcionário Maria\n",
      "Índice 1 é o funcionário José\n",
      "Índice 2 é o funcionário Antônio\n",
      "Índice 3 é o funcionário João\n",
      "Índice 4 é o funcionário Francisco\n",
      "Índice 5 é o funcionário Ana\n",
      "Índice 6 é o funcionário Luiz\n",
      "Índice 7 é o funcionário Paulo\n",
      "Índice 8 é o funcionário Carlos\n",
      "Índice 9 é o funcionário Manoel\n",
      "Índice 10 é o funcionário Pedro\n",
      "Índice 11 é o funcionário Francisca\n",
      "Índice 12 é o funcionário Marcos\n",
      "Índice 13 é o funcionário Raimundo\n",
      "Índice 14 é o funcionário Sebastião\n",
      "Índice 15 é o funcionário Antônia\n",
      "Índice 16 é o funcionário Marcelo\n",
      "Índice 17 é o funcionário Jorge\n",
      "Índice 18 é o funcionário Márcia\n",
      "Índice 19 é o funcionário Geraldo\n",
      "Índice 20 é o funcionário Adriana\n",
      "Índice 21 é o funcionário Sandra\n",
      "Índice 22 é o funcionário Luis\n"
     ]
    }
   ],
   "source": [
    "funcionarios = ['Maria', 'José', 'Antônio', 'João', 'Francisco', 'Ana', 'Luiz', 'Paulo', 'Carlos', 'Manoel', 'Pedro', 'Francisca', 'Marcos', 'Raimundo', 'Sebastião', 'Antônia', 'Marcelo', 'Jorge', 'Márcia', 'Geraldo', 'Adriana', 'Sandra', 'Luis']\n",
    "\n",
    "for i, funcionario in enumerate(funcionarios):\n",
    "    print('Índice {} é o funcionário {}'.format(i, funcionario))"
   ]
  },
  {
   "cell_type": "markdown",
   "metadata": {},
   "source": [
    "### Exemplo Prático\n",
    "\n",
    "Vamos pegar um exemplo de nível mínimo de estoque. Em uma fábrica você tem vários produtos e não pode deixar que os produtos fiquem em falta. Para isso, foi definido uma quantidade mínima de estoque que os produtos precisam ter:\n",
    "\n",
    "Identifique quais produtos estão abaixo do nível mínimo de estoque."
   ]
  },
  {
   "cell_type": "code",
   "execution_count": 6,
   "metadata": {},
   "outputs": [
    {
     "name": "stdout",
     "output_type": "stream",
     "text": [
      "Dolly precisa ser reabastecido, temos apenas 800 unidades em estoque.\n",
      "Red Bull precisa ser reabastecido, temos apenas 800 unidades em estoque.\n",
      "Cachaça precisa ser reabastecido, temos apenas 800 unidades em estoque.\n",
      "Vodka precisa ser reabastecido, temos apenas 800 unidades em estoque.\n",
      "Matte precisa ser reabastecido, temos apenas 800 unidades em estoque.\n"
     ]
    }
   ],
   "source": [
    "estoque = [1200, 300, 800, 1500, 1900, 2750, 400, 20, 23, 70, 90, 80, 1100, 999, 900, 880, 870, 50, 1111, 120, 300, 450, 800]\n",
    "produtos = ['coca', 'pepsi', 'guarana', 'skol', 'brahma', 'agua', 'del valle', 'dolly', 'red bull', 'cachaça', 'vinho tinto', 'vodka', 'vinho branco', 'tequila', 'champagne', 'gin', 'guaracamp', 'matte', 'leite de castanha', 'leite', 'jurupinga', 'sprite', 'fanta']\n",
    "nivel_minimo = 90\n",
    "\n",
    "for i, qtdade in enumerate(estoque):\n",
    "    if qtdade < nivel_minimo:\n",
    "        print(f'{produtos[i].title()} precisa ser reabastecido, temos apenas {meta} unidades em estoque.')\n"
   ]
  }
 ],
 "metadata": {
  "kernelspec": {
   "display_name": "Python 3 (ipykernel)",
   "language": "python",
   "name": "python3"
  },
  "language_info": {
   "codemirror_mode": {
    "name": "ipython",
    "version": 3
   },
   "file_extension": ".py",
   "mimetype": "text/x-python",
   "name": "python",
   "nbconvert_exporter": "python",
   "pygments_lexer": "ipython3",
   "version": "3.10.13"
  }
 },
 "nbformat": 4,
 "nbformat_minor": 4
}
