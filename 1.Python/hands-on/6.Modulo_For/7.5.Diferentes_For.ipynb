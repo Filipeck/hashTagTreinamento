{
 "cells": [
  {
   "cell_type": "code",
   "execution_count": 2,
   "id": "f384c181",
   "metadata": {},
   "outputs": [],
   "source": [
    "produtos = [\"iphone\", \"ipad\", \"airpod\", \"macbook\"]\n",
    "precos = [7000, 10000, 2500, 14000]"
   ]
  },
  {
   "cell_type": "markdown",
   "id": "ed0a699c",
   "metadata": {},
   "source": [
    "### For item in lista"
   ]
  },
  {
   "cell_type": "code",
   "execution_count": 6,
   "id": "3053355f",
   "metadata": {},
   "outputs": [
    {
     "name": "stdout",
     "output_type": "stream",
     "text": [
      "7700.000000000001\n",
      "11000.0\n",
      "2750.0\n",
      "15400.000000000002\n"
     ]
    }
   ],
   "source": [
    "# preco com imposto de 10%\n",
    "for preco in precos:\n",
    "    print(f'{preco * 1.1}')"
   ]
  },
  {
   "cell_type": "markdown",
   "id": "80aa8d07",
   "metadata": {},
   "source": [
    "### For i in range"
   ]
  },
  {
   "cell_type": "code",
   "execution_count": 8,
   "id": "74b8e12d",
   "metadata": {},
   "outputs": [
    {
     "name": "stdout",
     "output_type": "stream",
     "text": [
      "Iphone 7000\n",
      "Ipad 10000\n",
      "Airpod 2500\n",
      "Macbook 14000\n"
     ]
    }
   ],
   "source": [
    "# preco de cada produto\n",
    "for i in range(len(precos)):\n",
    "    produto = produtos[i]\n",
    "    preco = precos[i]\n",
    "    print(produto.title(), preco)\n",
    "    "
   ]
  },
  {
   "cell_type": "markdown",
   "id": "ba0b37d3",
   "metadata": {},
   "source": [
    "### For item in lista com enumerate"
   ]
  },
  {
   "cell_type": "code",
   "execution_count": 14,
   "id": "38271545",
   "metadata": {},
   "outputs": [
    {
     "name": "stdout",
     "output_type": "stream",
     "text": [
      "Iphone com 10% de imposto = R$ 7.700,00\n",
      "Ipad com 10% de imposto = R$ 11.000,00\n",
      "Airpod com 10% de imposto = R$ 2.750,00\n",
      "Macbook com 10% de imposto = R$ 15.400,00\n"
     ]
    }
   ],
   "source": [
    "# preco de cada produto com imposto\n",
    "for i, preco in enumerate(precos):\n",
    "    preco = preco * 1.1\n",
    "    preco = f'{preco:_.2f}'.replace('.', ',').replace('_','.')\n",
    "    produto = produtos[i]\n",
    "    print(f'{produto.title()} com 10% de imposto = R$ {preco}')"
   ]
  },
  {
   "cell_type": "code",
   "execution_count": 1,
   "id": "827fc0d0",
   "metadata": {},
   "outputs": [
    {
     "name": "stdout",
     "output_type": "stream",
     "text": [
      "[0.35, 1.23, 3.32]\n"
     ]
    }
   ],
   "source": [
    "lista = [0.345234, 1.231234, 3.32432423]\n",
    "arredondados = []\n",
    "\n",
    "for valor in lista:\n",
    "    arredondado = float(format(valor, '.2f'))\n",
    "    arredondados.append(arredondado)\n",
    "\n",
    "print(arredondados)"
   ]
  }
 ],
 "metadata": {
  "kernelspec": {
   "display_name": "Python 3 (ipykernel)",
   "language": "python",
   "name": "python3"
  },
  "language_info": {
   "codemirror_mode": {
    "name": "ipython",
    "version": 3
   },
   "file_extension": ".py",
   "mimetype": "text/x-python",
   "name": "python",
   "nbconvert_exporter": "python",
   "pygments_lexer": "ipython3",
   "version": "3.10.13"
  }
 },
 "nbformat": 4,
 "nbformat_minor": 5
}
