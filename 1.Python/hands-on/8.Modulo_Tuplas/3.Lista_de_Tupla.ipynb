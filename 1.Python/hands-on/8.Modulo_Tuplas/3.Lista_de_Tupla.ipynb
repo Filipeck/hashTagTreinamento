{
 "cells": [
  {
   "cell_type": "markdown",
   "metadata": {},
   "source": [
    "# Aplicação de Tupla - Lista de Tuplas\n",
    "\n",
    "### Estrutura:\n",
    "\n",
    "Além de casos como o do enumerate, em que usamos uma função para transformar itens em tuplas porque isso ajuda o nosso código, temos também listas de tuplas como algo comum dentro do Python."
   ]
  },
  {
   "cell_type": "raw",
   "metadata": {},
   "source": [
    "lista = [\n",
    "    tupla1,\n",
    "    tupla2,\n",
    "    tupla3,\n",
    "    ]\n",
    "    \n",
    "ou seja\n",
    "\n",
    "lista = [\n",
    "    (valor1, valor2, valor3),\n",
    "    (valor4, valor5, valor6),\n",
    "    (valor7, valor8, valor9),\n",
    "    ]"
   ]
  },
  {
   "cell_type": "markdown",
   "metadata": {},
   "source": [
    "### Exemplo:\n",
    "\n",
    "Digamos que você está analisando as vendas do Banco de Dados de um e-commerce.\n",
    "\n",
    "Em um determinado dia, você extraiu as vendas do Banco de Dados e elas vieram nesse formato:"
   ]
  },
  {
   "cell_type": "code",
   "execution_count": 1,
   "metadata": {},
   "outputs": [],
   "source": [
    "vendas = [\n",
    "    ('20/08/2020', 'iphone x', 'azul', '128gb', 350, 4000),\n",
    "    ('20/08/2020', 'iphone x', 'prata', '128gb', 1500, 4000),\n",
    "    ('20/08/2020', 'ipad', 'prata', '256gb', 127, 6000),\n",
    "    ('20/08/2020', 'ipad', 'prata', '128gb', 981, 5000),\n",
    "    ('21/08/2020', 'iphone x', 'azul', '128gb', 397, 4000),\n",
    "    ('21/08/2020', 'iphone x', 'prata', '128gb', 1017, 4000),\n",
    "    ('21/08/2020', 'ipad', 'prata', '256gb', 50, 6000),\n",
    "    ('21/08/2020', 'ipad', 'prata', '128gb', 4000, 5000),\n",
    "]"
   ]
  },
  {
   "cell_type": "markdown",
   "metadata": {},
   "source": [
    "- Qual foi o faturamento de IPhone no dia 20/08/2020?\n",
    "- Qual foi o produto mais vendido (em unidades) no dia 21/08/2020?"
   ]
  },
  {
   "cell_type": "code",
   "execution_count": 10,
   "metadata": {},
   "outputs": [
    {
     "name": "stdout",
     "output_type": "stream",
     "text": [
      "O faturamnto de Iphone no dia 20/08/202 foi de R$7400000,00\n"
     ]
    }
   ],
   "source": [
    "# Caso 1\n",
    "faturamento = 0\n",
    "for item in vendas:\n",
    "    data, produto, cor, capacidade, unidades, preco = item\n",
    "#     print(produto)\n",
    "    if produto == 'iphone x' and data == '20/08/2020':\n",
    "        faturamento += unidades * preco\n",
    "    \n",
    "print(f'O faturamento de Iphone no dia 20/08/202 foi de R${faturamento:.0f},00')\n",
    "\n",
    "# data, produto, cor, capacidade, unidades, preco = vendas[0]\n",
    "# faturamento = unidades * preco\n",
    "# print(faturamento)"
   ]
  },
  {
   "cell_type": "code",
   "execution_count": 16,
   "metadata": {},
   "outputs": [
    {
     "name": "stdout",
     "output_type": "stream",
     "text": [
      "O produto mais vendido no dia 21/08/2020 foi o ipad com 4000 unidades vendidas. Cor:prata e capacidade de 128gb\n"
     ]
    }
   ],
   "source": [
    "# caso 2\n",
    "# primeira forma\n",
    "# mais_vendido = 0\n",
    "\n",
    "# for data, produto, cor, capacidade, unidades, preco in vendas:\n",
    "#     if data == '21/08/2020':\n",
    "#         if unidades > mais_vendido:\n",
    "#             mais_vendido = unidades\n",
    "#             produto_mais = (produto, cor, capacidade)\n",
    "# print(f'O produto {produto_mais[0].title()}, {produto_mais[1].title()} de {produto_mais[2]} foi o mais vendido com {mais_vendido} unidades')\n",
    "\n",
    "# segunda forma\n",
    "\n",
    "produto_mais = ''\n",
    "unidade_mais = 0\n",
    "cor_mais = ''\n",
    "capacidade_mais = ''\n",
    "\n",
    "for item in vendas:\n",
    "    data, produto, cor, capacidade, unidades, preco = item\n",
    "    if data == '21/08/2020':\n",
    "        if unidades > unidade_mais:\n",
    "            unidade_mais = unidades\n",
    "            produto_mais = produto\n",
    "            cor_mais = cor\n",
    "            capacidade_mais = capacidade\n",
    "            \n",
    "print(f'O produto mais vendido no dia 21/08/2020 foi o {produto_mais} com {unidade_mais} unidades vendidas. Cor: {cor_mais} e capacidade de {capacidade_mais}')"
   ]
  }
 ],
 "metadata": {
  "kernelspec": {
   "display_name": "Python 3 (ipykernel)",
   "language": "python",
   "name": "python3"
  },
  "language_info": {
   "codemirror_mode": {
    "name": "ipython",
    "version": 3
   },
   "file_extension": ".py",
   "mimetype": "text/x-python",
   "name": "python",
   "nbconvert_exporter": "python",
   "pygments_lexer": "ipython3",
   "version": "3.10.13"
  }
 },
 "nbformat": 4,
 "nbformat_minor": 4
}
