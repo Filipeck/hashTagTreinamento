{
 "cells": [
  {
   "cell_type": "markdown",
   "metadata": {},
   "source": [
    "# Exercícios\n",
    "\n",
    "São exercícios bem parecidos com os que fizemos com listas. Mas na tupla, podemos não só trabalhar com índices, mas fazer o \"unpacking\" das tuplas, o que pode facilitar nossos códigos.\n",
    "\n",
    "## 1. Análise de Vendas\n",
    "\n",
    "Nesse exercício vamos fazer uma \"análise simples\" de atingimento de Meta.\n",
    "\n",
    "Temos uma lista com os vendedores e os valores de vendas e queremos identificar (printar) quais os vendedores que bateram a meta e qual foi o valor que eles venderam."
   ]
  },
  {
   "cell_type": "code",
   "execution_count": 1,
   "metadata": {},
   "outputs": [
    {
     "name": "stdout",
     "output_type": "stream",
     "text": [
      "João bateu a meta, vendeu 15000 unidades.\n",
      "Julia bateu a meta, vendeu 27000 unidades.\n",
      "Ana bateu a meta, vendeu 10300 unidades.\n"
     ]
    }
   ],
   "source": [
    "meta = 10000\n",
    "vendas = [\n",
    "    ('João', 15000),\n",
    "    ('Julia', 27000),\n",
    "    ('Marcus', 9900),\n",
    "    ('Maria', 3750),\n",
    "    ('Ana', 10300),\n",
    "    ('Alon', 7870),\n",
    "]\n",
    "\n",
    "for vendedor, venda in vendas:\n",
    "    if venda > meta:\n",
    "        print(f'{vendedor} bateu a meta, vendeu {venda} unidades.')"
   ]
  },
  {
   "cell_type": "markdown",
   "metadata": {},
   "source": [
    "## 2. Comparação com Ano Anterior\n",
    "\n",
    "Digamos que você está analisando as vendas de produtos de um ecommerce e quer identificar quais produtos tiveram no ano de 2020 mais vendas do que no ano de 2019, para reportar isso para a diretoria.\n",
    "\n",
    "Sua resposta pode ser um print de cada produto, qual foi a venda de 2019, a venda de 2020 e o % de crescimento de 2020 para 2019.\n",
    "\n",
    "Lembrando, para calcular o % de crescimento de um produto de um ano para o outro, podemos fazer: (vendas_produto2020/vendas_produto2019 - 1)\n",
    "\n",
    "A lógica da tupla é: (produto, vendas2019, vendas2020)"
   ]
  },
  {
   "cell_type": "code",
   "execution_count": 5,
   "metadata": {},
   "outputs": [
    {
     "name": "stdout",
     "output_type": "stream",
     "text": [
      "Em 2020 Iphone apresentou crescimento de 70.50% nas suas vendas, em comparação com 2019. Foram 951.642 vendas em 2020 enquanto que em 2019 tivemos 558.147 vendas\n",
      "Em 2020 Tv apresentou crescimento de 94.35% nas suas vendas, em comparação com 2019. Foram 787.604 vendas em 2020 enquanto que em 2019 tivemos 405.252 vendas\n",
      "Em 2020 Máquina De Café apresentou crescimento de 20.73% nas suas vendas, em comparação com 2019. Foram 867.660 vendas em 2020 enquanto que em 2019 tivemos 718.654 vendas\n",
      "Em 2020 Notebook Dell apresentou crescimento de 64.38% nas suas vendas, em comparação com 2019. Foram 694.913 vendas em 2020 enquanto que em 2019 tivemos 422.760 vendas\n",
      "Em 2020 Notebook Hp apresentou crescimento de 248.75% nas suas vendas, em comparação com 2019. Foram 539.704 vendas em 2020 enquanto que em 2019 tivemos 154.753 vendas\n",
      "Em 2020 Microsoft Surface apresentou crescimento de 52.15% nas suas vendas, em comparação com 2019. Foram 667.179 vendas em 2020 enquanto que em 2019 tivemos 438.508 vendas\n",
      "Em 2020 Webcam apresentou crescimento de 24.49% nas suas vendas, em comparação com 2019. Foram 295.633 vendas em 2020 enquanto que em 2019 tivemos 237.467 vendas\n",
      "Em 2020 Caixa De Som apresentou crescimento de 48.11% nas suas vendas, em comparação com 2019. Foram 725.316 vendas em 2020 enquanto que em 2019 tivemos 489.705 vendas\n",
      "Em 2020 Microfone apresentou crescimento de 96.34% nas suas vendas, em comparação com 2019. Foram 644.622 vendas em 2020 enquanto que em 2019 tivemos 328.311 vendas\n",
      "Em 2020 Câmera Canon apresentou crescimento de 68.21% nas suas vendas, em comparação com 2019. Foram 994.303 vendas em 2020 enquanto que em 2019 tivemos 591.120 vendas\n"
     ]
    }
   ],
   "source": [
    "vendas_produtos = [('iphone', 558147, 951642), ('galaxy', 712350, 244295), ('ipad', 573823, 26964), ('tv', 405252, 787604), ('máquina de café', 718654, 867660), ('kindle', 531580, 78830), ('geladeira', 973139, 710331), ('adega', 892292, 646016), ('notebook dell', 422760, 694913), ('notebook hp', 154753, 539704), ('notebook asus', 887061, 324831), ('microsoft surface', 438508, 667179), ('webcam', 237467, 295633), ('caixa de som', 489705, 725316), ('microfone', 328311, 644622), ('câmera canon', 591120, 994303)]\n",
    "\n",
    "#seu código aqui\n",
    "\n",
    "for produto, vendas2019, vendas2020 in vendas_produtos:\n",
    "    if vendas2020 > vendas2019:\n",
    "        crescimento = (vendas2020 / vendas2019 - 1)\n",
    "        vendas2020 = f'{vendas2020:_}'\n",
    "        vendas2020 = vendas2020.replace('_', '.')\n",
    "        vendas2019 = f'{vendas2019:_}'\n",
    "        vendas2019 = vendas2019.replace('_', '.')\n",
    "        print(f'Em 2020 {produto.title()} apresentou crescimento de {crescimento:.2%} nas suas vendas, em comparação com 2019. Foram {vendas2020} vendas em 2020 enquanto que em 2019 tivemos {vendas2019} vendas')\n"
   ]
  }
 ],
 "metadata": {
  "kernelspec": {
   "display_name": "Python 3 (ipykernel)",
   "language": "python",
   "name": "python3"
  },
  "language_info": {
   "codemirror_mode": {
    "name": "ipython",
    "version": 3
   },
   "file_extension": ".py",
   "mimetype": "text/x-python",
   "name": "python",
   "nbconvert_exporter": "python",
   "pygments_lexer": "ipython3",
   "version": "3.10.13"
  }
 },
 "nbformat": 4,
 "nbformat_minor": 4
}
