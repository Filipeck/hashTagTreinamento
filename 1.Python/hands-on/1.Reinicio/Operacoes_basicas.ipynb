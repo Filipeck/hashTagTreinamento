{
 "cells": [
  {
   "cell_type": "code",
   "execution_count": 5,
   "id": "8ce9d254",
   "metadata": {},
   "outputs": [
    {
     "name": "stdout",
     "output_type": "stream",
     "text": [
      "370\n",
      "446\n",
      "684\n",
      "684.0\n",
      "0.6666666666666666\n",
      "1\n"
     ]
    }
   ],
   "source": [
    "print(137+233)\n",
    "print(525-79)\n",
    "print(9*76)\n",
    "print(9.0*76) #quando colocamos a casa decimal o Py retorna um resultado com casa decimal\n",
    "print(2/3)\n",
    "print(7%3) # irá imprimir o resto da divisão de 7 por 3"
   ]
  },
  {
   "cell_type": "code",
   "execution_count": 7,
   "id": "dee9aff6",
   "metadata": {},
   "outputs": [
    {
     "name": "stdout",
     "output_type": "stream",
     "text": [
      "5.0\n",
      "-3\n"
     ]
    }
   ],
   "source": [
    "#ordem das operações\n",
    "print(1 + 2 * 6 / 3)\n",
    "print((1+2) * (5-2 *3))"
   ]
  }
 ],
 "metadata": {
  "kernelspec": {
   "display_name": "Python 3 (ipykernel)",
   "language": "python",
   "name": "python3"
  },
  "language_info": {
   "codemirror_mode": {
    "name": "ipython",
    "version": 3
   },
   "file_extension": ".py",
   "mimetype": "text/x-python",
   "name": "python",
   "nbconvert_exporter": "python",
   "pygments_lexer": "ipython3",
   "version": "3.10.13"
  }
 },
 "nbformat": 4,
 "nbformat_minor": 5
}
