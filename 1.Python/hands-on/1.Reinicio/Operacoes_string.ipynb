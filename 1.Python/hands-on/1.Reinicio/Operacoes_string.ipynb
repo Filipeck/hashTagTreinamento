{
 "cells": [
  {
   "cell_type": "code",
   "execution_count": 3,
   "id": "5c4b723e",
   "metadata": {},
   "outputs": [
    {
     "name": "stdout",
     "output_type": "stream",
     "text": [
      "Abc\n",
      "DEF\n"
     ]
    }
   ],
   "source": [
    "print('Abc')\n",
    "print(\"DEF\")"
   ]
  },
  {
   "cell_type": "code",
   "execution_count": 6,
   "id": "2affe5a4",
   "metadata": {},
   "outputs": [
    {
     "name": "stdout",
     "output_type": "stream",
     "text": [
      "Meu nome é Filipe\n",
      "False\n",
      "True\n"
     ]
    }
   ],
   "source": [
    "print('Meu nome é ' + \"Filipe\")\n",
    "print('f' in 'Filipe') # a verificação é case sensitive\n",
    "print('F' in 'Filipe')"
   ]
  }
 ],
 "metadata": {
  "kernelspec": {
   "display_name": "Python 3 (ipykernel)",
   "language": "python",
   "name": "python3"
  },
  "language_info": {
   "codemirror_mode": {
    "name": "ipython",
    "version": 3
   },
   "file_extension": ".py",
   "mimetype": "text/x-python",
   "name": "python",
   "nbconvert_exporter": "python",
   "pygments_lexer": "ipython3",
   "version": "3.10.13"
  }
 },
 "nbformat": 4,
 "nbformat_minor": 5
}
