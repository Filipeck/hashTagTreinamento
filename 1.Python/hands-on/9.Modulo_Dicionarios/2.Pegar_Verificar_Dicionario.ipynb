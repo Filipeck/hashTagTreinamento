{
 "cells": [
  {
   "cell_type": "markdown",
   "metadata": {},
   "source": [
    "# Não confie na ordem dos dicionários, use as chaves\n",
    "\n",
    "### Python Versões Antigas x Versões Novas\n",
    "\n",
    "- Dicionários eram \"sem ordem\". Atualmente tem ordem, mas o certo é usar as chaves\n",
    "- 2 formas de pegar um valor:\n",
    "    - dicionario[chave]\n",
    "    - .get(chave)"
   ]
  },
  {
   "cell_type": "code",
   "execution_count": 5,
   "metadata": {},
   "outputs": [],
   "source": [
    "mais_vendidos = {'tecnologia': 'iphone', 'refrigeracao': 'ar consul 12000 btu', 'livros': 'o alquimista', 'eletrodoméstico': 'geladeira', 'lazer': 'prancha surf'}\n",
    "\n",
    "vendas_tecnologia = {'iphone': 15000, 'samsung galaxy': 12000, 'tv samsung': 10000, 'ps5': 14300, 'tablet': 1720, 'ipad': 1000, 'tv philco': 2500, 'notebook hp': 1000, 'notebook dell': 17000, 'notebook asus': 2450}"
   ]
  },
  {
   "cell_type": "markdown",
   "metadata": {},
   "source": [
    "- Qual foi o item mais vendido nas categorias 'livros' e 'lazer'?\n",
    "- Quanto foi vendido de 'notebook asus' e de 'ipad'?"
   ]
  },
  {
   "cell_type": "code",
   "execution_count": 6,
   "metadata": {
    "scrolled": true
   },
   "outputs": [
    {
     "name": "stdout",
     "output_type": "stream",
     "text": [
      "o alquimista prancha surf\n",
      "1000\n",
      "Vendemos 2450 notebook asus\n"
     ]
    }
   ],
   "source": [
    "# respondendo com a chave, igual a aula anterior\n",
    "print(mais_vendidos['livros'], mais_vendidos['lazer'])\n",
    "# respondendo com o método get\n",
    "print(vendas_tecnologia.get('ipad'))\n",
    "print(f\"Vendemos {vendas_tecnologia.get('notebook asus')} notebook asus\")"
   ]
  },
  {
   "cell_type": "code",
   "execution_count": 7,
   "metadata": {},
   "outputs": [
    {
     "name": "stdout",
     "output_type": "stream",
     "text": [
      "None\n"
     ]
    },
    {
     "ename": "KeyError",
     "evalue": "'ipads'",
     "output_type": "error",
     "traceback": [
      "\u001b[1;31m---------------------------------------------------------------------------\u001b[0m",
      "\u001b[1;31mKeyError\u001b[0m                                  Traceback (most recent call last)",
      "Cell \u001b[1;32mIn[7], line 2\u001b[0m\n\u001b[0;32m      1\u001b[0m \u001b[38;5;28mprint\u001b[39m(vendas_tecnologia\u001b[38;5;241m.\u001b[39mget(\u001b[38;5;124m'\u001b[39m\u001b[38;5;124mipads\u001b[39m\u001b[38;5;124m'\u001b[39m)) \u001b[38;5;66;03m# caso não encontre a chave, o método get tem como retorno None, já o outro retorna um erro\u001b[39;00m\n\u001b[1;32m----> 2\u001b[0m \u001b[38;5;28mprint\u001b[39m(\u001b[43mvendas_tecnologia\u001b[49m\u001b[43m[\u001b[49m\u001b[38;5;124;43m'\u001b[39;49m\u001b[38;5;124;43mipads\u001b[39;49m\u001b[38;5;124;43m'\u001b[39;49m\u001b[43m]\u001b[49m)\n",
      "\u001b[1;31mKeyError\u001b[0m: 'ipads'"
     ]
    }
   ],
   "source": [
    "print(vendas_tecnologia.get('ipads')) # caso não encontre a chave, o método get tem como retorno None, já o outro retorna um erro\n",
    "print(vendas_tecnologia['ipads'])"
   ]
  },
  {
   "cell_type": "markdown",
   "metadata": {},
   "source": [
    "### Verificar se item está no dicionário:\n",
    "\n",
    "- if\n",
    "- .get(chave) = None\n",
    "\n",
    "Se tentarmos procurar as vendas de \"copo\" na lista de vendas tecnologia, o que acontece?"
   ]
  },
  {
   "cell_type": "code",
   "execution_count": 8,
   "metadata": {},
   "outputs": [
    {
     "name": "stdout",
     "output_type": "stream",
     "text": [
      "Copo não está dentro da lista de produtos.\n"
     ]
    }
   ],
   "source": [
    "# 1\n",
    "# if 'copo' in vendas_tecnologia:\n",
    "#     print('Uhul')\n",
    "# else:\n",
    "#     print('Copo não está dentro da lista de produtos.')\n",
    "\n",
    "# 2\n",
    "if vendas_tecnologia.get('copo') == None:\n",
    "    print('Copo não está dentro da lista de produtos.')\n",
    "else:\n",
    "    print(vendas_tecnologia.get('copo'))"
   ]
  }
 ],
 "metadata": {
  "kernelspec": {
   "display_name": "Python 3 (ipykernel)",
   "language": "python",
   "name": "python3"
  },
  "language_info": {
   "codemirror_mode": {
    "name": "ipython",
    "version": 3
   },
   "file_extension": ".py",
   "mimetype": "text/x-python",
   "name": "python",
   "nbconvert_exporter": "python",
   "pygments_lexer": "ipython3",
   "version": "3.10.13"
  }
 },
 "nbformat": 4,
 "nbformat_minor": 4
}
