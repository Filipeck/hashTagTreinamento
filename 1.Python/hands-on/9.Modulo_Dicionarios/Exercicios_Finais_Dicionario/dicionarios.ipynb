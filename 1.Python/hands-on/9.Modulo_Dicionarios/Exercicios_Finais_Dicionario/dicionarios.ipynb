{
 "cells": [
  {
   "cell_type": "markdown",
   "metadata": {},
   "source": [
    "### Exercício 1\n",
    "Crie um sistema de consulta de preços\n",
    "Seu sistema deve:\n",
    "- Pedir para o usuário o nome de um produto\n",
    "- Caso o produto exista na lista de produtos, o programa deve retornar o preço do produto como resposta\n",
    "       - Ex: O produto celular custa R$1500\n",
    "- Caso o produto não exista na lista de produtos, o programa deve printar uma mensagem para o usuário tentar novamente\n"
   ]
  },
  {
   "cell_type": "code",
   "execution_count": 11,
   "metadata": {},
   "outputs": [
    {
     "name": "stdout",
     "output_type": "stream",
     "text": [
      "Digite o nome do produto que deseja consultar o preço: \n",
      "camera\n",
      "O produto Camera custa R$1.000,00\n"
     ]
    }
   ],
   "source": [
    "precos = {\"celular\": 1500, \"camera\": 1000, \"fone de ouvido\": 800, \"monitor\": 2000}\n",
    "\n",
    "consulta = input('Digite o nome do produto que deseja consultar o preço: \\n').strip().casefold()\n",
    "\n",
    "if consulta in precos:\n",
    "    preco = f'{precos[consulta]:_.2f}'\n",
    "    preco = preco.replace('.', ',').replace('_', '.')\n",
    "    print(f'O produto {consulta.title()} custa R${preco}')\n",
    "else:\n",
    "    print('Produto não existe em nosso estoque, por favor tente novamente.')"
   ]
  },
  {
   "cell_type": "markdown",
   "metadata": {},
   "source": [
    "\n",
    "### Exercício 2\n",
    "Agora edite o programa anterior para fazer com que, caso não exista o produto, o programa pergunte se o usuário quer cadastrar o produto\n",
    "<br>Se ele responder sim, o programa deve pedir o nome do produto e o preco do produto e cadastrar no dicionário de preços\n",
    "<br>Em seguida do cadastro bem sucedido, o programa deve printar o dicionário de precos atualizado\n"
   ]
  },
  {
   "cell_type": "code",
   "execution_count": 12,
   "metadata": {},
   "outputs": [
    {
     "name": "stdout",
     "output_type": "stream",
     "text": [
      "Digite o nome do produto que deseja consultar o preço: \n",
      "capa\n",
      "Produto não registrado em nosso BD, deseja adicioná-lo? [S/N]\n",
      "s\n",
      "Informe o valor do produto (digite apenas números): 120\n",
      "{'celular': 1500, 'camera': 1000, 'fone de ouvido': 800, 'monitor': 2000, 'capa': 120.0}\n"
     ]
    }
   ],
   "source": [
    "consulta = input('Digite o nome do produto que deseja consultar o preço: \\n').strip().casefold()\n",
    "\n",
    "if consulta in precos:\n",
    "    preco = f'{precos[consulta]:_.2f}'\n",
    "    preco = preco.replace('.', ',').replace('_', '.')\n",
    "    print(f'O produto {consulta.title()} custa R${preco}')\n",
    "else:\n",
    "    registro = input('Produto não registrado em nosso BD, deseja adicioná-lo? [S/N]\\n')    \n",
    "    if registro.casefold() == 's':\n",
    "        preco = float(input('Informe o valor do produto (digite apenas números): '))\n",
    "        precos[consulta] = preco\n",
    "        print(precos)\n",
    "    else:\n",
    "        print('Fim do programa.')"
   ]
  },
  {
   "cell_type": "markdown",
   "metadata": {},
   "source": [
    "### Exercício 3\n",
    "Dada a lista de preços de produtos, uma loja resolveu fazer um reajuste nos preços dos produtos. \n",
    "calcule o novo valor dos produtos com base nas seguintes regras:\n",
    "- Preços até 1.000 vão ter um reajuste de 10% (ou seja, o novo preço será 110% do preço atual)\n",
    "- Preços até maiores que 1.000 até 2.000 vão ter reajuste de 15%\n",
    "- Preços acima de 2.000 vão ter reajuste de 20%"
   ]
  },
  {
   "cell_type": "code",
   "execution_count": 13,
   "metadata": {},
   "outputs": [
    {
     "name": "stdout",
     "output_type": "stream",
     "text": [
      "Celular, novo valor = R$1725.00\n",
      "Camera, novo valor = R$1100.00\n",
      "Fone De Ouvido, novo valor = R$880.00\n",
      "Monitor, novo valor = R$3600.00\n"
     ]
    }
   ],
   "source": [
    "precos = {\"celular\": 1500, \"camera\": 1000, \"fone de ouvido\": 800, \"monitor\": 3000}\n",
    "\n",
    "for produto in precos:\n",
    "    if precos[produto] > 2000:\n",
    "        preco = precos[produto] * 1.2\n",
    "    elif precos[produto] > 1000:\n",
    "        preco = precos[produto] * 1.15\n",
    "    else:\n",
    "        preco = precos[produto] * 1.1\n",
    "    print(f'{produto.title()}, novo valor = R${preco:.2f}')\n"
   ]
  },
  {
   "cell_type": "markdown",
   "metadata": {},
   "source": [
    "### Exercício 4\n",
    " - Edite o programa antigo para ter os 2 dicionários, o de preços originais e o de novos preços\n",
    " - Em seguida calcule o valor total de reajuste em R$ que teve entre a lista de produtos original e a lista final\n"
   ]
  },
  {
   "cell_type": "code",
   "execution_count": 31,
   "metadata": {},
   "outputs": [
    {
     "name": "stdout",
     "output_type": "stream",
     "text": [
      "Celular, novo valor = R$1725.00\n",
      "Camera, novo valor = R$1100.00\n",
      "Fone De Ouvido, novo valor = R$880.00\n",
      "Monitor, novo valor = R$3600.00\n",
      "O reajuste total foi de R$1005.00\n",
      "=*=*=*=*=*=*=*=*=*=*=*=*=*=*=*=*=*=*=*=*=*=*=*=*=*=*=*=*=*=*=*=*=*=*=*=*=*=*=*=*\n",
      "{'celular': 1500, 'camera': 1000, 'fone de ouvido': 800, 'monitor': 3000}\n",
      "{'celular': 1725, 'camera': 1100, 'fone de ouvido': 880, 'monitor': 3600}\n"
     ]
    }
   ],
   "source": [
    "precos = {\"celular\": 1500, \"camera\": 1000, \"fone de ouvido\": 800, \"monitor\": 3000}\n",
    "novos_precos.update(precos)\n",
    "\n",
    "for produto in novos_precos:\n",
    "    if novos_precos[produto] > 2000:\n",
    "        preco = precos[produto] * 1.2\n",
    "    elif precos[produto] > 1000:\n",
    "        preco = precos[produto] * 1.15\n",
    "    else:\n",
    "        preco = precos[produto] * 1.1 \n",
    "    novos_precos[produto] = int(round(preco, 2)) \n",
    "    print(f'{produto.title()}, novo valor = R${preco:.2f}')\n",
    "\n",
    "valor_original = sum(precos.values())\n",
    "valor_novo = sum(novos_precos.values())\n",
    "reajuste_total = valor_novo - valor_original\n",
    "print(f'O reajuste total foi de R${reajuste_total:.2f}')\n",
    "\n",
    "print('=*' * 40)\n",
    "print(precos)\n",
    "print(novos_precos)"
   ]
  },
  {
   "cell_type": "markdown",
   "metadata": {},
   "source": [
    "\n",
    "### Exercício 5\n",
    "- Uma empresa está analisando os resultados de vendas do 1º semestre de 2022 e 2023\n",
    "- Qual foi o % de crescimento de cada mês de 2023 em relação a 2022?\n",
    "- Depois de calcular isso, calcule o valor total de crescimento de 2023 em relação a 2022"
   ]
  },
  {
   "cell_type": "code",
   "execution_count": 2,
   "metadata": {},
   "outputs": [
    {
     "name": "stdout",
     "output_type": "stream",
     "text": [
      "Em Jan, a variação foi de 13.33%\n",
      "Em Fev, a variação foi de -3.23%\n",
      "Em Mar, a variação foi de 25.00%\n",
      "Em Abr, a variação foi de 1.81%\n",
      "Em Mai, a variação foi de -1.84%\n",
      "Em Jun, a variação foi de 8.82%\n",
      "Em comparação com 2022 tivemos o crescimento de R$6500.00 em vendas. O que equivale a um aumento de 6.89%\n"
     ]
    }
   ],
   "source": [
    "vendas_22 = {\"jan\": 15000, \"fev\": 15500, \"mar\": 14000, \"abr\": 16600, \"mai\": 16300, \"jun\": 17000}\n",
    "vendas_23 = {\"jan\": 17000, \"fev\": 15000, \"mar\": 17500, \"abr\": 16900, \"mai\": 16000, \"jun\": 18500}\n",
    "\n",
    "for mes in vendas_23:\n",
    "    total_22 = vendas_22[mes]\n",
    "    total_23 = vendas_23[mes]\n",
    "    crescimento = total_23 / total_22 -1\n",
    "    print(f'Em {mes.title()}, a variação foi de {crescimento:.2%}')\n",
    "\n",
    "valor_total_22 = sum(vendas_22.values())\n",
    "valor_total_23 = sum(vendas_23.values())\n",
    "crescimento_total = valor_total_23 - valor_total_22\n",
    "percentual_total = valor_total_23 / valor_total_22 - 1\n",
    "print(f'Em comparação com 2022 tivemos o crescimento de R${crescimento_total:.2f} em vendas. O que equivale a um aumento de {percentual_total:.2%}')\n"
   ]
  },
  {
   "cell_type": "markdown",
   "metadata": {},
   "source": [
    "### Exercício 6 - Desafio\n",
    "- No final da reunião de apresentação dos números, seu chefe perguntou:\n",
    "- E se nos meses de 2023 que a gente vendeu menos do que 2022 a gente tivesse pelo menos empatado com 2022 (ou seja, se nos meses de 2023 em que as vendas foram menores do que o mesmo mês em 2022, o valor de vendas tivesse sido igual a 2022)\n",
    "- Qual teria sido o nosso crescimento de 2023 frente a 2022?"
   ]
  },
  {
   "cell_type": "code",
   "execution_count": 5,
   "metadata": {},
   "outputs": [
    {
     "name": "stdout",
     "output_type": "stream",
     "text": [
      "O mês de Jan teve o crescimento de 13.33% em comparação com o ano anterior.\n",
      "O mês de Fev teve o crescimento de 0.00% em comparação com o ano anterior.\n",
      "O mês de Mar teve o crescimento de 25.00% em comparação com o ano anterior.\n",
      "O mês de Abr teve o crescimento de 1.81% em comparação com o ano anterior.\n",
      "O mês de Mai teve o crescimento de 0.00% em comparação com o ano anterior.\n",
      "O mês de Jun teve o crescimento de 8.82% em comparação com o ano anterior.\n",
      "Em comparação com 2022 tivemos o crescimento de R$7300.00 em vendas. O que equivale a um aumento de 7.73%\n"
     ]
    }
   ],
   "source": [
    "vendas_22 = {\"jan\": 15000, \"fev\": 15500, \"mar\": 14000, \"abr\": 16600, \"mai\": 16300, \"jun\": 17000}\n",
    "vendas_23 = {\"jan\": 17000, \"fev\": 15000, \"mar\": 17500, \"abr\": 16900, \"mai\": 16000, \"jun\": 18500}\n",
    "\n",
    "for mes in vendas_22:\n",
    "    mes_22 = vendas_22[mes]\n",
    "    mes_23 = vendas_23[mes]\n",
    "    if mes_22 > mes_23:\n",
    "        vendas_23[mes] = mes_22\n",
    "        mes_23 = mes_22\n",
    "    percentual = mes_23 / mes_22 - 1\n",
    "    print(f'O mês de {mes.title()} teve o crescimento de {percentual:.2%} em comparação com o ano anterior.')\n",
    "\n",
    "total_vendas_22 = sum(vendas_22.values())\n",
    "total_vendas_23 = sum(vendas_23.values())\n",
    "percentual_total = total_vendas_23 / total_vendas_22 - 1\n",
    "crescimento_total = total_vendas_23 - total_vendas_22\n",
    "print(f'Em comparação com 2022 tivemos o crescimento de R${crescimento_total:.2f} em vendas. O que equivale a um aumento de {percentual_total:.2%}')\n",
    "    "
   ]
  }
 ],
 "metadata": {
  "kernelspec": {
   "display_name": "Python 3 (ipykernel)",
   "language": "python",
   "name": "python3"
  },
  "language_info": {
   "codemirror_mode": {
    "name": "ipython",
    "version": 3
   },
   "file_extension": ".py",
   "mimetype": "text/x-python",
   "name": "python",
   "nbconvert_exporter": "python",
   "pygments_lexer": "ipython3",
   "version": "3.10.13"
  }
 },
 "nbformat": 4,
 "nbformat_minor": 2
}
