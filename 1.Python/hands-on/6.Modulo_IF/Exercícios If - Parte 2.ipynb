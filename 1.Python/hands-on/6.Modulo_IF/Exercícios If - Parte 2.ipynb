{
 "cells": [
  {
   "cell_type": "markdown",
   "metadata": {},
   "source": [
    "# Exercícios"
   ]
  },
  {
   "cell_type": "markdown",
   "metadata": {},
   "source": [
    "## 1. Criando um mini sistema de controle de estoque\n",
    "\n",
    "- Crie um sistema para ser usado pelo time de controle de estoque de um centro de distribuição.\n",
    "- Imagine que ao fim de todo dia, o time conta quantas unidades de produto existem no estoque. Se tivermos um estoque abaixo do estoque permitido para aquela categoria do produto, o time deve ser avisado (print) para fazer um novo pedido daquele produto.\n",
    "- Cada categoria de produto tem um estoque mínimo diferente, segundo a regra abaixo:\n",
    "\n",
    "- alimentos -> Estoque mínimo: 50\n",
    "- bebidas -> Estoque mínimo: 75\n",
    "- limpeza -> Estoque mínimo: 30\n",
    "\n",
    "Para isso vamos criar um programa que pede 3 inputs do usuário: nome do produto, categoria e quantidade atual em estoque.\n",
    "\n",
    "Se o produto tiver abaixo do estoque mínimo da categoria dele, o programa deve printar a mensagem \"Solicitar {produto} à equipe de compras, temos apenas {unidades} em estoque\"\n",
    "\n",
    "Exemplo: Se o usuário preenche os inputs com: bebidas, dolly, 90, o programa não deve exibir nenhuma mensagem.<br>\n",
    "Agora, se o usuário preenche os inputs com: bebidas, guaraná, 60, o programa deve exibir a mensagem \"Solicitar guaraná à equipe de compras, temos apenas 60 unidades em estoque.\n",
    "\n",
    "Obs: lembre de usar o int() para transformar o número inserido pelo usuário no input de string para int.<br>\n",
    "Obs2: Caso o usuário não preencha alguma das 3 informações, o programa deve exibir uma mensagem para avisá-lo de preencher corretamente."
   ]
  },
  {
   "cell_type": "code",
   "execution_count": 25,
   "metadata": {},
   "outputs": [
    {
     "name": "stdout",
     "output_type": "stream",
     "text": [
      "Informe o nome do produto: JU\n",
      "Categoria do produto: ALIMENTOS\n",
      "Informe a quantidade em estoque do produto: 45\n",
      "Solicitar JU à equipe de compras, temos apenas 45 em estoque\n"
     ]
    }
   ],
   "source": [
    "#seu código aqui\n",
    "\n",
    "nome_produto = input('Informe o nome do produto: ')\n",
    "categoria = input('Categoria do produto: ')\n",
    "qtdade_estoque = int(input('Informe a quantidade em estoque do produto: '))\n",
    "\n",
    "if nome_produto and categoria and qtdade_estoque:\n",
    "    if 'ALIMENTOS' in categoria or 'BEBIDAS' in categoria or 'LIMPEZA' in categoria and qtdade_estoque >= 0:\n",
    "        if 'ALIMENTOS' in categoria and qtdade_estoque < 50:\n",
    "            print(f'Solicitar {nome_produto} à equipe de compras, temos apenas {qtdade_estoque} em estoque')\n",
    "        else:\n",
    "            pass\n",
    "        if 'BEBIDAS' in categoria and qtdade_estoque < 75:\n",
    "            print(f'Solicitar {nome_produto} à equipe de compras, temos apenas {qtdade_estoque} em estoque')\n",
    "        else:\n",
    "            pass\n",
    "        if 'LIMPEZA' in categoria and qtdade_estoque < 30:\n",
    "            print(f'Solicitar {nome_produto} à equipe de compras, temos apenas {qtdade_estoque} em estoque')\n",
    "        else:\n",
    "            pass\n",
    "    else:\n",
    "        print('O produto precisa ser de uma das seguintes categorias BEBIDAS, ALIMENTOS ou LIMPEZA e o estoque precisa conter um número!')\n",
    "else:\n",
    "    print('Por favor, verifique se preencheu todos os campos!')\n",
    "        "
   ]
  }
 ],
 "metadata": {
  "kernelspec": {
   "display_name": "Python 3 (ipykernel)",
   "language": "python",
   "name": "python3"
  },
  "language_info": {
   "codemirror_mode": {
    "name": "ipython",
    "version": 3
   },
   "file_extension": ".py",
   "mimetype": "text/x-python",
   "name": "python",
   "nbconvert_exporter": "python",
   "pygments_lexer": "ipython3",
   "version": "3.10.13"
  }
 },
 "nbformat": 4,
 "nbformat_minor": 4
}
