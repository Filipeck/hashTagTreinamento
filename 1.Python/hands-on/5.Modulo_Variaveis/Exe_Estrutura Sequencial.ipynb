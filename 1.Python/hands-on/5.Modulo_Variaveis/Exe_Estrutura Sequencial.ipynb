{
 "cells": [
  {
   "cell_type": "markdown",
   "id": "bb0f9514",
   "metadata": {
    "id": "bb0f9514"
   },
   "source": [
    "# Lista de Estrutura Sequencial"
   ]
  },
  {
   "cell_type": "markdown",
   "id": "4e7a8c30",
   "metadata": {
    "id": "4e7a8c30"
   },
   "source": [
    "#### 1. Faça um Programa que mostre a mensagem (print) \"Alo mundo\" na tela."
   ]
  },
  {
   "cell_type": "code",
   "execution_count": 1,
   "id": "883bfe85",
   "metadata": {
    "id": "883bfe85"
   },
   "outputs": [
    {
     "name": "stdout",
     "output_type": "stream",
     "text": [
      "Alo mundo! Também conhecido como HELLO WORLD!\n"
     ]
    }
   ],
   "source": [
    "print('Alo mundo! Também conhecido como HELLO WORLD!')"
   ]
  },
  {
   "cell_type": "markdown",
   "id": "71d6d6a2",
   "metadata": {
    "id": "71d6d6a2"
   },
   "source": [
    "#### 2. Faça um Programa que peça um número (input) e então mostre a mensagem: \"O número informado foi [número].\""
   ]
  },
  {
   "cell_type": "code",
   "execution_count": 2,
   "id": "30cfffcf",
   "metadata": {
    "id": "30cfffcf"
   },
   "outputs": [
    {
     "name": "stdout",
     "output_type": "stream",
     "text": [
      "Insira um número qualquer: 15\n",
      "O número digitado foi 15\n"
     ]
    }
   ],
   "source": [
    "numero = input('Insira um número qualquer: ')\n",
    "print('O número digitado foi ' + numero)"
   ]
  },
  {
   "cell_type": "markdown",
   "id": "c5e43160",
   "metadata": {
    "id": "c5e43160"
   },
   "source": [
    "#### 3. Faça um Programa que peça dois números e imprima a soma."
   ]
  },
  {
   "cell_type": "code",
   "execution_count": 3,
   "id": "b0e79590",
   "metadata": {
    "id": "b0e79590"
   },
   "outputs": [
    {
     "name": "stdout",
     "output_type": "stream",
     "text": [
      "Insira o 1º número: 15\n",
      "Insira o 2º número: 7\n",
      "A soma entre 15.0 e 7.0 é de 22.0!\n"
     ]
    }
   ],
   "source": [
    "num1 = float(input('Insira o 1º número: '))\n",
    "num2 = float(input('Insira o 2º número: '))\n",
    "\n",
    "soma = num1 + num2\n",
    "\n",
    "print(f'A soma entre {num1} e {num2} é de {soma}!')"
   ]
  },
  {
   "cell_type": "markdown",
   "id": "17826987",
   "metadata": {
    "id": "17826987"
   },
   "source": [
    "#### 4. Faça um Programa que peça as 4 notas bimestrais de um aluno e mostre a média de todas as notas."
   ]
  },
  {
   "cell_type": "code",
   "execution_count": 4,
   "id": "23b66762",
   "metadata": {
    "id": "23b66762"
   },
   "outputs": [
    {
     "name": "stdout",
     "output_type": "stream",
     "text": [
      "Insira a 1ª nota: 5\n",
      "Insira a 2ª nota: 8\n",
      "Insira a 3ª nota: 7\n",
      "Insira a 4ª nota: 9\n",
      "A média do aluno foi de 7.25\n"
     ]
    }
   ],
   "source": [
    "nota1 = float(input('Insira a 1ª nota: '))\n",
    "nota2 = float(input('Insira a 2ª nota: '))\n",
    "nota3 = float(input('Insira a 3ª nota: '))\n",
    "nota4 = float(input('Insira a 4ª nota: '))\n",
    "\n",
    "media = (nota1 + nota2 + nota3 + nota4)/4\n",
    "\n",
    "print(f'A média do aluno foi de {media}')"
   ]
  },
  {
   "cell_type": "markdown",
   "id": "62d461c5",
   "metadata": {
    "id": "62d461c5"
   },
   "source": [
    "#### 5. Faça um Programa que converta metros para centímetros. Você pode pedir o comprimento em metros para o usuário (input)."
   ]
  },
  {
   "cell_type": "code",
   "execution_count": 2,
   "id": "d642f1ba",
   "metadata": {
    "id": "d642f1ba"
   },
   "outputs": [
    {
     "name": "stdout",
     "output_type": "stream",
     "text": [
      "Insira a unidade em metros, o programa irá converter para centímetros: 1\n",
      "1.0m(s) equivale à 100.0cm(s)!\n"
     ]
    }
   ],
   "source": [
    "metro = float(input(\"Insira a unidade em metros, o programa irá converter para centímetros: \"))\n",
    "para_centimetros = metro * 100\n",
    "\n",
    "print(f'{metro}m(s) equivale à {para_centimetros}cm(s)!')"
   ]
  },
  {
   "cell_type": "markdown",
   "id": "f1311697",
   "metadata": {
    "id": "f1311697"
   },
   "source": [
    "#### 6. Faça um Programa que calcule a área de uma sala de um apartamento. Para isso, o seu programa precisa pedir a largura da sala, o comprimento da sala e imprimir a área em m² da sala."
   ]
  },
  {
   "cell_type": "code",
   "execution_count": 5,
   "id": "612ea24b",
   "metadata": {
    "id": "612ea24b"
   },
   "outputs": [
    {
     "name": "stdout",
     "output_type": "stream",
     "text": [
      "Informe a largura do cômodo em m: 6\n",
      "Informe o comprimento do cômodo em m: 4\n",
      "A área do cômodo é de 24.0 m²\n"
     ]
    }
   ],
   "source": [
    "largura = float(input('Informe a largura do cômodo em m: '))\n",
    "comprimento = float(input('Informe o comprimento do cômodo em m: '))\n",
    "\n",
    "area = largura * comprimento\n",
    "\n",
    "print(f'A área do cômodo é de {area} m²')"
   ]
  },
  {
   "cell_type": "markdown",
   "id": "2a285929",
   "metadata": {
    "id": "2a285929"
   },
   "source": [
    "#### 7. Faça um Programa que pergunte quanto você ganha por hora e o número de horas trabalhadas no mês. Calcule e mostre o total do seu salário no referido mês."
   ]
  },
  {
   "cell_type": "code",
   "execution_count": 7,
   "id": "359e2232",
   "metadata": {
    "id": "359e2232"
   },
   "outputs": [
    {
     "name": "stdout",
     "output_type": "stream",
     "text": [
      "Insira o seu ganho por hora: R$8\n",
      "Insira quantas horas você trabalhou dentro de um mês: 150\n",
      "Em 1 mês onde você trabalhou 150.0 horas, o seu salário é de R$1200.0\n"
     ]
    }
   ],
   "source": [
    "hora = float(input('Insira o seu ganho por hora: R$'))\n",
    "horas_mes = float(input('Insira quantas horas você trabalhou dentro de um mês: '))\n",
    "salario = hora * horas_mes\n",
    "\n",
    "print(f'Em 1 mês onde você trabalhou {horas_mes} horas, o seu salário é de R${salario}')"
   ]
  },
  {
   "cell_type": "markdown",
   "id": "7e2d4615",
   "metadata": {
    "id": "7e2d4615"
   },
   "source": [
    "#### 8. Vamos criar um conversor de temperatura. Faça um Programa que peça a temperatura em graus Fahrenheit, transforme e mostre a temperatura em graus Celsius.\n",
    "$C = \\frac{5}{9}(F-32)$"
   ]
  },
  {
   "cell_type": "code",
   "execution_count": 8,
   "id": "82daf9fd",
   "metadata": {
    "id": "82daf9fd"
   },
   "outputs": [
    {
     "name": "stdout",
     "output_type": "stream",
     "text": [
      "Informe a temperatura em graus Fahrenheit: 150\n",
      "150.0ºF equivalem a 65.55555555555556ºC\n"
     ]
    }
   ],
   "source": [
    "fahren = float(input('Informe a temperatura em graus Fahrenheit: '))\n",
    "\n",
    "celsius = 5/9 * (fahren - 32)\n",
    "\n",
    "print(f'{fahren}ºF equivalem a {celsius}ºC')"
   ]
  },
  {
   "cell_type": "markdown",
   "id": "20708b1c",
   "metadata": {
    "id": "20708b1c"
   },
   "source": [
    "#### 9. Faça um Programa que peça a temperatura em graus Celsius, transforme e mostre em graus Fahrenheit.\n",
    "$F = \\frac{9}{5}C + 32$"
   ]
  },
  {
   "cell_type": "code",
   "execution_count": 10,
   "id": "c73cfb38",
   "metadata": {
    "id": "c73cfb38"
   },
   "outputs": [
    {
     "name": "stdout",
     "output_type": "stream",
     "text": [
      "Informe a temperatura em graus Celsius: 65\n",
      "65.0ºC equivalem a 149.0ºF\n"
     ]
    }
   ],
   "source": [
    "celsius = float(input('Informe a temperatura em graus Celsius: '))\n",
    "\n",
    "fahren = 9/5 * celsius + 32\n",
    "\n",
    "print(f'{celsius}ºC equivalem a {fahren}ºF')"
   ]
  },
  {
   "cell_type": "markdown",
   "id": "b263a9dc",
   "metadata": {
    "id": "b263a9dc"
   },
   "source": [
    "#### 10. Tendo como dados de entrada a altura (h) de uma pessoa, construa um algoritmo que calcule seu peso ideal, usando a seguinte fórmula:\n",
    "$P = 72,7h - 58$\n",
    "\n",
    "Lembrando que \"algoritmo\" nada mais é do que um programa, como todos os outros que você vem fazendo"
   ]
  },
  {
   "cell_type": "code",
   "execution_count": 12,
   "id": "9a9b8dca",
   "metadata": {
    "id": "9a9b8dca"
   },
   "outputs": [
    {
     "name": "stdout",
     "output_type": "stream",
     "text": [
      "Para sabermos o seu peso ideal, por favor infore a sua altura (em m): 1.8\n",
      "Para uma pessoa com altura de 1.8 o peso ideal é de 72.86000000000001Kg\n"
     ]
    }
   ],
   "source": [
    "altura = float(input('Para sabermos o seu peso ideal, por favor infore a sua altura (em m): '))\n",
    "peso = 72.7 * altura -58\n",
    "\n",
    "print(f'Para uma pessoa com altura de {altura} o peso ideal é de {peso}Kg')"
   ]
  },
  {
   "cell_type": "markdown",
   "id": "13bb40d7",
   "metadata": {
    "id": "13bb40d7"
   },
   "source": [
    "#### 11. Tendo como dado de entrada a altura (h) de uma pessoa, construa um algoritmo que calcule seu peso ideal, utilizando as seguintes fórmulas:\n",
    "##### a. Para homens: $P = 72,7h - 58$\n",
    "##### b. Para mulheres: $P = 62,1h - 44,7$"
   ]
  },
  {
   "cell_type": "code",
   "execution_count": 18,
   "id": "bf82dc8c",
   "metadata": {
    "id": "bf82dc8c"
   },
   "outputs": [
    {
     "name": "stdout",
     "output_type": "stream",
     "text": [
      "Para sabermos o seu peso ideal, por favor infore a sua altura (em m): 1.8\n",
      "Para uma pessoa com altura de 1.8m o peso ideal é de 72.86000000000001Kg se for homem, ou 67.08 se for mulher.\n"
     ]
    }
   ],
   "source": [
    "altura = float(input('Para sabermos o seu peso ideal, por favor infore a sua altura (em m): '))\n",
    "pesoH = 72.7 * altura -58\n",
    "pesoM = 62.1 * altura - 44.7\n",
    "\n",
    "print(f'Para uma pessoa com altura de {altura}m o peso ideal é de {pesoH}Kg se for homem, ou {pesoM} se for mulher.')"
   ]
  },
  {
   "cell_type": "markdown",
   "id": "f208ef89",
   "metadata": {
    "id": "f208ef89"
   },
   "source": [
    "#### 12. Faça um Programa que pergunte quanto você ganha por hora e o número de horas trabalhadas no mês."
   ]
  },
  {
   "cell_type": "code",
   "execution_count": 22,
   "id": "2d5b23e0",
   "metadata": {
    "id": "2d5b23e0"
   },
   "outputs": [
    {
     "name": "stdout",
     "output_type": "stream",
     "text": [
      "Qual o seu ganho hora: R$8\n",
      "Aproximadamente quantas horas você trabalhou no último mês: 152\n"
     ]
    }
   ],
   "source": [
    "ganho_hora = float(input('Qual o seu ganho hora: R$'))\n",
    "horas_trabalho = float(input('Aproximadamente quantas horas você trabalhou no último mês: '))"
   ]
  },
  {
   "cell_type": "markdown",
   "id": "607dee3c",
   "metadata": {
    "id": "607dee3c"
   },
   "source": [
    "#####  Calcule o salário bruto (horas * salario por hora)"
   ]
  },
  {
   "cell_type": "code",
   "execution_count": 23,
   "id": "7f80ccbb",
   "metadata": {
    "id": "7f80ccbb"
   },
   "outputs": [
    {
     "name": "stdout",
     "output_type": "stream",
     "text": [
      "1216.0\n"
     ]
    }
   ],
   "source": [
    "bruto = horas_trabalho * ganho_hora\n",
    "print(bruto)"
   ]
  },
  {
   "cell_type": "markdown",
   "id": "2ed93cb0",
   "metadata": {
    "id": "2ed93cb0"
   },
   "source": [
    "##### Calcule o desconto do IR (11% do salário bruto)"
   ]
  },
  {
   "cell_type": "code",
   "execution_count": 24,
   "id": "3363e22f",
   "metadata": {
    "id": "3363e22f"
   },
   "outputs": [
    {
     "name": "stdout",
     "output_type": "stream",
     "text": [
      "133.76\n"
     ]
    }
   ],
   "source": [
    "irenda = bruto * 0.11\n",
    "print(irenda)"
   ]
  },
  {
   "cell_type": "markdown",
   "id": "0994b2c0",
   "metadata": {
    "id": "0994b2c0"
   },
   "source": [
    "##### Calcule o desconto do INSS (8% do salário bruto)"
   ]
  },
  {
   "cell_type": "code",
   "execution_count": 26,
   "id": "748c6088",
   "metadata": {
    "id": "748c6088"
   },
   "outputs": [
    {
     "name": "stdout",
     "output_type": "stream",
     "text": [
      "97.28\n"
     ]
    }
   ],
   "source": [
    "inss = bruto * 0.08\n",
    "print(inss)"
   ]
  },
  {
   "cell_type": "markdown",
   "id": "06e8dae4",
   "metadata": {
    "id": "06e8dae4"
   },
   "source": [
    "##### Calcule o desconto do sindicato (5% do salário bruto)"
   ]
  },
  {
   "cell_type": "code",
   "execution_count": 27,
   "id": "21b95b15",
   "metadata": {
    "id": "21b95b15",
    "scrolled": true
   },
   "outputs": [
    {
     "name": "stdout",
     "output_type": "stream",
     "text": [
      "60.800000000000004\n"
     ]
    }
   ],
   "source": [
    "sind = bruto * 0.05\n",
    "print(sind)"
   ]
  },
  {
   "cell_type": "markdown",
   "id": "bb14ce36",
   "metadata": {
    "id": "bb14ce36"
   },
   "source": [
    "##### Calcule o salário líquido (salário bruto - descontos)"
   ]
  },
  {
   "cell_type": "code",
   "execution_count": 28,
   "id": "56317086",
   "metadata": {
    "id": "56317086"
   },
   "outputs": [
    {
     "name": "stdout",
     "output_type": "stream",
     "text": [
      "O salário líquido é de R$924.1600000000001\n"
     ]
    }
   ],
   "source": [
    "liquido = bruto - sind - inss - irenda\n",
    "print(f'O salário líquido é de R${liquido}')"
   ]
  },
  {
   "cell_type": "markdown",
   "id": "cfbfcc87",
   "metadata": {
    "id": "cfbfcc87"
   },
   "source": [
    "#### 13. Faça um programa para uma loja de tintas. O programa deverá pedir o tamanho em metros quadrados da área a ser pintada. Considere que a cobertura da tinta é de 1 litro para cada 3 metros quadrados e que a tinta é vendida em latas de 18 litros, que custam R\\$ 80,00. Informe ao usuário a quantidades de latas de tinta a serem compradas e o preço total. (para simplificação nesse momento, não se preocupe em arredondar a quantidade de latas a serem compradas - vamos trabalhar isso em breve)"
   ]
  },
  {
   "cell_type": "code",
   "execution_count": 36,
   "id": "fb6a083b",
   "metadata": {
    "id": "fb6a083b"
   },
   "outputs": [
    {
     "name": "stdout",
     "output_type": "stream",
     "text": [
      "Informe a largura da área em metros: 18\n",
      "Informe o comprimento da área em metros: 3\n",
      "Será necessário 1.0 lata(s) de tinta(s) para pintar 54.0m², o que custará R$80.0\n"
     ]
    }
   ],
   "source": [
    "largura = float(input('Informe a largura da área em metros: '))\n",
    "comprimento = float(input('Informe o comprimento da área em metros: '))\n",
    "\n",
    "area = largura * comprimento\n",
    "litro_tinta = area / 3 #quantidade de litros necessários\n",
    "litro_lata = 18 #litros em uma lata\n",
    "lata_tinta = litro_tinta / litro_lata #quantidade de latas necessárias\n",
    "custo_tinta = lata_tinta * 80 #custo baseado na quantidade de latas\n",
    "\n",
    "print(f'Será necessário {lata_tinta} lata(s) de tinta(s) para pintar {area}m², o que custará R${custo_tinta}')"
   ]
  },
  {
   "cell_type": "markdown",
   "id": "d6503c92",
   "metadata": {
    "id": "d6503c92"
   },
   "source": [
    "#### 14. Faça um programa que peça o tamanho de um arquivo para download (em MB) e a velocidade de um link de Internet (em Mbps), calcule e informe o tempo aproximado de download do arquivo usando este link (em minutos).\n",
    "\n",
    "Detalhe: MB significa megabyte, Mb (com b minúsculo) significa megabit. Um megabit é 1/8 de um megabyte. "
   ]
  },
  {
   "cell_type": "code",
   "execution_count": 34,
   "id": "0563aa62",
   "metadata": {
    "id": "0563aa62"
   },
   "outputs": [
    {
     "name": "stdout",
     "output_type": "stream",
     "text": [
      "Informe o tamanho do arquivo em MB: 1500\n",
      "Informe a velocidade da internet em Mbps: 128\n",
      "1.5625minutos\n"
     ]
    }
   ],
   "source": [
    "MB = float(input('Informe o tamanho do arquivo em MB: '))\n",
    "mbps = float(input('Informe a velocidade da internet em Mbps: '))\n",
    "\n",
    "download = MB / (mbps / 8) /60 #neste caso converti mbps em MB, dividi MB por MB para achar em segundos e dividi por 60 para minutos.\n",
    "print(f'{download} minutos')"
   ]
  }
 ],
 "metadata": {
  "colab": {
   "provenance": []
  },
  "kernelspec": {
   "display_name": "Python 3 (ipykernel)",
   "language": "python",
   "name": "python3"
  },
  "language_info": {
   "codemirror_mode": {
    "name": "ipython",
    "version": 3
   },
   "file_extension": ".py",
   "mimetype": "text/x-python",
   "name": "python",
   "nbconvert_exporter": "python",
   "pygments_lexer": "ipython3",
   "version": "3.10.13"
  }
 },
 "nbformat": 4,
 "nbformat_minor": 5
}
