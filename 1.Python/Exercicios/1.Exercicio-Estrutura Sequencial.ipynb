{
 "cells": [
  {
   "cell_type": "markdown",
   "id": "bb0f9514",
   "metadata": {
    "id": "bb0f9514"
   },
   "source": [
    "# Lista de Estrutura Sequencial"
   ]
  },
  {
   "cell_type": "markdown",
   "id": "4e7a8c30",
   "metadata": {
    "id": "4e7a8c30"
   },
   "source": [
    "#### 1. Faça um Programa que mostre a mensagem (print) \"Alo mundo\" na tela."
   ]
  },
  {
   "cell_type": "code",
   "execution_count": 36,
   "id": "883bfe85",
   "metadata": {
    "id": "883bfe85"
   },
   "outputs": [
    {
     "name": "stdout",
     "output_type": "stream",
     "text": [
      "Alo mundo!\n"
     ]
    }
   ],
   "source": [
    "print('Alo mundo!')"
   ]
  },
  {
   "cell_type": "markdown",
   "id": "71d6d6a2",
   "metadata": {
    "id": "71d6d6a2"
   },
   "source": [
    "#### 2. Faça um Programa que peça um número (input) e então mostre a mensagem: \"O número informado foi [número].\""
   ]
  },
  {
   "cell_type": "code",
   "execution_count": 37,
   "id": "30cfffcf",
   "metadata": {
    "id": "30cfffcf"
   },
   "outputs": [
    {
     "name": "stdout",
     "output_type": "stream",
     "text": [
      "Digite um número: 15\n",
      "O número informado foi 15\n"
     ]
    }
   ],
   "source": [
    "numero = input('Digite um número: ')\n",
    "print(f'O número informado foi {numero}')"
   ]
  },
  {
   "cell_type": "markdown",
   "id": "c5e43160",
   "metadata": {
    "id": "c5e43160"
   },
   "source": [
    "#### 3. Faça um Programa que peça dois números e imprima a soma."
   ]
  },
  {
   "cell_type": "code",
   "execution_count": 38,
   "id": "b0e79590",
   "metadata": {
    "id": "b0e79590"
   },
   "outputs": [
    {
     "name": "stdout",
     "output_type": "stream",
     "text": [
      "Digite o primeiro número: 15\n",
      "Digite o segundo número: 85\n",
      "A soma entre 15.0 e 85.0 é de 100.0\n"
     ]
    }
   ],
   "source": [
    "n1 = float(input('Digite o primeiro número: '))\n",
    "n2 = float(input('Digite o segundo número: '))\n",
    "soma = n1 + n2\n",
    "print(f'A soma entre {n1} e {n2} é de {soma}')"
   ]
  },
  {
   "cell_type": "markdown",
   "id": "17826987",
   "metadata": {
    "id": "17826987"
   },
   "source": [
    "#### 4. Faça um Programa que peça as 4 notas bimestrais de um aluno e mostre a média de todas as notas."
   ]
  },
  {
   "cell_type": "code",
   "execution_count": 39,
   "id": "23b66762",
   "metadata": {
    "id": "23b66762"
   },
   "outputs": [
    {
     "name": "stdout",
     "output_type": "stream",
     "text": [
      "Informe a 1ª nota: 5\n",
      "Informe a 2ª nota: 7\n",
      "Informe a 3ª nota: 8.5\n",
      "Informe a 4ª nota: 4.5\n",
      "A média do aluno é de 6.25\n"
     ]
    }
   ],
   "source": [
    "n1 = float(input('Informe a 1ª nota: '))\n",
    "n2 = float(input('Informe a 2ª nota: '))\n",
    "n3 = float(input('Informe a 3ª nota: '))\n",
    "n4 = float(input('Informe a 4ª nota: '))\n",
    "media = (n1 + n2 + n3 + n4)/4\n",
    "print(f'A média do aluno é de {media}')"
   ]
  },
  {
   "cell_type": "markdown",
   "id": "62d461c5",
   "metadata": {
    "id": "62d461c5"
   },
   "source": [
    "#### 5. Faça um Programa que converta metros para centímetros. Você pode pedir o comprimento em metros para o usuário (input)."
   ]
  },
  {
   "cell_type": "code",
   "execution_count": 40,
   "id": "d642f1ba",
   "metadata": {
    "id": "d642f1ba"
   },
   "outputs": [
    {
     "name": "stdout",
     "output_type": "stream",
     "text": [
      "Informe quantos metros você deseja converter em centímetros: 500\n",
      "500.0 metro(s) equivale(m) a 50000.0 centimetro(s)!\n"
     ]
    }
   ],
   "source": [
    "metro = float(input('Informe quantos metros você deseja converter em centímetros: '))\n",
    "centimetro = metro * 100\n",
    "print(f'{metro} metro(s) equivale(m) a {centimetro} centimetro(s)!')"
   ]
  },
  {
   "cell_type": "markdown",
   "id": "f1311697",
   "metadata": {
    "id": "f1311697"
   },
   "source": [
    "#### 6. Faça um Programa que calcule a área de uma sala de um apartamento. Para isso, o seu programa precisa pedir a largura da sala, o comprimento da sala e imprimir a área em m² da sala."
   ]
  },
  {
   "cell_type": "code",
   "execution_count": 41,
   "id": "612ea24b",
   "metadata": {
    "id": "612ea24b"
   },
   "outputs": [
    {
     "name": "stdout",
     "output_type": "stream",
     "text": [
      "Qual a largura do cômodo? 8\n",
      "Qual o comprimento do cômodo? 6\n",
      "O cômodo tem 48.0m²!\n"
     ]
    }
   ],
   "source": [
    "largura = float(input('Qual a largura do cômodo? '))\n",
    "comprimento = float(input('Qual o comprimento do cômodo? '))\n",
    "m2 = largura * comprimento\n",
    "print(f'O cômodo tem {m2}m²!')"
   ]
  },
  {
   "cell_type": "markdown",
   "id": "2a285929",
   "metadata": {
    "id": "2a285929"
   },
   "source": [
    "#### 7. Faça um Programa que pergunte quanto você ganha por hora e o número de horas trabalhadas no mês. Calcule e mostre o total do seu salário no referido mês."
   ]
  },
  {
   "cell_type": "code",
   "execution_count": 42,
   "id": "359e2232",
   "metadata": {
    "id": "359e2232"
   },
   "outputs": [
    {
     "name": "stdout",
     "output_type": "stream",
     "text": [
      "Qual o seu ganho por hora? 5\n",
      "Quantas horas você trabalha ao mês? 120\n",
      "O seu salário é de R$600.00\n"
     ]
    }
   ],
   "source": [
    "ganho = float(input('Qual o seu ganho por hora? '))\n",
    "hora = int(input('Quantas horas você trabalha ao mês? '))\n",
    "salario = ganho * hora\n",
    "print(f'O seu salário é de R${salario:.2f}')"
   ]
  },
  {
   "cell_type": "markdown",
   "id": "7e2d4615",
   "metadata": {
    "id": "7e2d4615"
   },
   "source": [
    "#### 8. Vamos criar um conversor de temperatura. Faça um Programa que peça a temperatura em graus Fahrenheit, transforme e mostre a temperatura em graus Celsius.\n",
    "$C = \\frac{5}{9}(F-32)$"
   ]
  },
  {
   "cell_type": "code",
   "execution_count": 43,
   "id": "82daf9fd",
   "metadata": {
    "id": "82daf9fd"
   },
   "outputs": [
    {
     "name": "stdout",
     "output_type": "stream",
     "text": [
      "Graus em Fahrenheit: 110\n",
      "110.0 em graus Fahrenheit equivalem a 43.33 em graus Celsius.\n"
     ]
    }
   ],
   "source": [
    "fah = float(input('Graus em Fahrenheit: '))\n",
    "C = (5/9)*(fah - 32)\n",
    "print(f'{fah} em graus Fahrenheit equivalem a {C:.2f} em graus Celsius.')"
   ]
  },
  {
   "cell_type": "markdown",
   "id": "20708b1c",
   "metadata": {
    "id": "20708b1c"
   },
   "source": [
    "#### 9. Faça um Programa que peça a temperatura em graus Celsius, transforme e mostre em graus Fahrenheit.\n",
    "$F = \\frac{9}{5}C + 32$"
   ]
  },
  {
   "cell_type": "code",
   "execution_count": 44,
   "id": "c73cfb38",
   "metadata": {
    "id": "c73cfb38"
   },
   "outputs": [
    {
     "name": "stdout",
     "output_type": "stream",
     "text": [
      "Graus em Celsius: 29\n",
      "29.0 em graus Celsius equivalem a 84.20 em graus Fahrenheit.\n"
     ]
    }
   ],
   "source": [
    "celsius = float(input('Graus em Celsius: '))\n",
    "fah = (9/5*celsius) + 32\n",
    "print(f'{celsius} em graus Celsius equivalem a {fah:.2f} em graus Fahrenheit.')"
   ]
  },
  {
   "cell_type": "markdown",
   "id": "b263a9dc",
   "metadata": {
    "id": "b263a9dc"
   },
   "source": [
    "#### 10. Tendo como dados de entrada a altura (h) de uma pessoa, construa um algoritmo que calcule seu peso ideal, usando a seguinte fórmula:\n",
    "$P = 72,7h - 58$\n",
    "\n",
    "Lembrando que \"algoritmo\" nada mais é do que um programa, como todos os outros que você vem fazendo"
   ]
  },
  {
   "cell_type": "code",
   "execution_count": 45,
   "id": "9a9b8dca",
   "metadata": {
    "id": "9a9b8dca"
   },
   "outputs": [
    {
     "name": "stdout",
     "output_type": "stream",
     "text": [
      "Informe a sua altura: 1.80\n",
      "O peso ideal para uma pessoa que tem 1.8m é de 72.86Kg.\n"
     ]
    }
   ],
   "source": [
    "altura = float(input('Informe a sua altura: '))\n",
    "peso = 72.7*altura - 58\n",
    "print(f'O peso ideal para uma pessoa que tem {altura}m é de {peso:.2f}Kg.')"
   ]
  },
  {
   "cell_type": "markdown",
   "id": "13bb40d7",
   "metadata": {
    "id": "13bb40d7"
   },
   "source": [
    "#### 11. Tendo como dado de entrada a altura (h) de uma pessoa, construa um algoritmo que calcule seu peso ideal, utilizando as seguintes fórmulas:\n",
    "##### a. Para homens: $P = 72,7h - 58$\n",
    "##### b. Para mulheres: $P = 62,1h - 44,7$"
   ]
  },
  {
   "cell_type": "code",
   "execution_count": 46,
   "id": "bf82dc8c",
   "metadata": {
    "id": "bf82dc8c"
   },
   "outputs": [
    {
     "name": "stdout",
     "output_type": "stream",
     "text": [
      "Informe a sua altura: 1.80\n",
      "O peso ideal para um homem que tem 1.8m é de 72.86Kg. Já uma mulher com a mesma altura teria 67.08Kg como o peso ideal.\n"
     ]
    }
   ],
   "source": [
    "altura = float(input('Informe a sua altura: '))\n",
    "pesoH = 72.7 * altura - 58\n",
    "pesoM = 62.1 * altura - 44.7\n",
    "print(f'O peso ideal para um homem que tem {altura}m é de {pesoH:.2f}Kg. Já uma mulher com a mesma altura teria {pesoM:.2f}Kg como o peso ideal.')"
   ]
  },
  {
   "cell_type": "markdown",
   "id": "f208ef89",
   "metadata": {
    "id": "f208ef89"
   },
   "source": [
    "#### 12. Faça um Programa que pergunte quanto você ganha por hora e o número de horas trabalhadas no mês."
   ]
  },
  {
   "cell_type": "code",
   "execution_count": 47,
   "id": "2d5b23e0",
   "metadata": {
    "id": "2d5b23e0"
   },
   "outputs": [
    {
     "name": "stdout",
     "output_type": "stream",
     "text": [
      "Qual o seu ganho por hora? 15\n",
      "Quantas horas você trabalha ao mês? 120\n"
     ]
    }
   ],
   "source": [
    "ganho = float(input('Qual o seu ganho por hora? '))\n",
    "hora = int(input('Quantas horas você trabalha ao mês? '))"
   ]
  },
  {
   "cell_type": "markdown",
   "id": "607dee3c",
   "metadata": {
    "id": "607dee3c"
   },
   "source": [
    "#####  Calcule o salário bruto (horas * salario por hora)"
   ]
  },
  {
   "cell_type": "code",
   "execution_count": 48,
   "id": "7f80ccbb",
   "metadata": {
    "id": "7f80ccbb"
   },
   "outputs": [
    {
     "name": "stdout",
     "output_type": "stream",
     "text": [
      "Salário bruto é de R$1800.00.\n"
     ]
    }
   ],
   "source": [
    "salario_bruto = hora * ganho\n",
    "print(f'Salário bruto é de R${salario_bruto:.2f}.')"
   ]
  },
  {
   "cell_type": "markdown",
   "id": "2ed93cb0",
   "metadata": {
    "id": "2ed93cb0"
   },
   "source": [
    "##### Calcule o desconto do IR (11% do salário bruto)"
   ]
  },
  {
   "cell_type": "code",
   "execution_count": 49,
   "id": "3363e22f",
   "metadata": {
    "id": "3363e22f"
   },
   "outputs": [
    {
     "name": "stdout",
     "output_type": "stream",
     "text": [
      "O desconto do IR é de R$198.00\n"
     ]
    }
   ],
   "source": [
    "imposto_renda = salario_bruto * 11/100\n",
    "print(f'O desconto do IR é de R${imposto_renda:.2f}')"
   ]
  },
  {
   "cell_type": "markdown",
   "id": "0994b2c0",
   "metadata": {
    "id": "0994b2c0"
   },
   "source": [
    "##### Calcule o desconto do INSS (8% do salário bruto)"
   ]
  },
  {
   "cell_type": "code",
   "execution_count": 50,
   "id": "748c6088",
   "metadata": {
    "id": "748c6088"
   },
   "outputs": [
    {
     "name": "stdout",
     "output_type": "stream",
     "text": [
      "O desconto do INSS é de R$144.00\n"
     ]
    }
   ],
   "source": [
    "inss = salario_bruto * 8/100\n",
    "print(f'O desconto do INSS é de R${inss:.2f}')"
   ]
  },
  {
   "cell_type": "markdown",
   "id": "06e8dae4",
   "metadata": {
    "id": "06e8dae4"
   },
   "source": [
    "##### Calcule o desconto do sindicato (5% do salário bruto)"
   ]
  },
  {
   "cell_type": "code",
   "execution_count": 51,
   "id": "21b95b15",
   "metadata": {
    "id": "21b95b15",
    "scrolled": true
   },
   "outputs": [
    {
     "name": "stdout",
     "output_type": "stream",
     "text": [
      "O desconto do Sindicato é de R$90.00\n"
     ]
    }
   ],
   "source": [
    "sind = salario_bruto * 5/100\n",
    "print(f'O desconto do Sindicato é de R${sind:.2f}')"
   ]
  },
  {
   "cell_type": "markdown",
   "id": "bb14ce36",
   "metadata": {
    "id": "bb14ce36"
   },
   "source": [
    "##### Calcule o salário líquido (salário bruto - descontos)"
   ]
  },
  {
   "cell_type": "code",
   "execution_count": 52,
   "id": "56317086",
   "metadata": {
    "id": "56317086"
   },
   "outputs": [
    {
     "name": "stdout",
     "output_type": "stream",
     "text": [
      "O salário líquido é de R$1368.00.\n"
     ]
    }
   ],
   "source": [
    "salario_liquido = salario_bruto - (sind + inss + imposto_renda)\n",
    "print(f'O salário líquido é de R${salario_liquido:.2f}.')"
   ]
  },
  {
   "cell_type": "markdown",
   "id": "cfbfcc87",
   "metadata": {
    "id": "cfbfcc87"
   },
   "source": [
    "#### 13. Faça um programa para uma loja de tintas. O programa deverá pedir o tamanho em metros quadrados da área a ser pintada. Considere que a cobertura da tinta é de 1 litro para cada 3 metros quadrados e que a tinta é vendida em latas de 18 litros, que custam R\\$ 80,00. Informe ao usuário a quantidades de latas de tinta a serem compradas e o preço total. (para simplificação nesse momento, não se preocupe em arredondar a quantidade de latas a serem compradas - vamos trabalhar isso em breve)"
   ]
  },
  {
   "cell_type": "code",
   "execution_count": 53,
   "id": "fb6a083b",
   "metadata": {
    "id": "fb6a083b"
   },
   "outputs": [
    {
     "name": "stdout",
     "output_type": "stream",
     "text": [
      "Informe o tamanho da área a ser pintada: 100\n",
      "Para pintar a área de 100.0m² será necessário 1.9 lata(s) de tinta. Custando no total R$148.15\n"
     ]
    }
   ],
   "source": [
    "area = float(input('Informe o tamanho da área a ser pintada: '))\n",
    "\n",
    "tinta = area / 3\n",
    "lata = tinta / 18\n",
    "preco = lata * 80\n",
    "\n",
    "print(f'Para pintar a área de {area}m² será necessário {lata:.1f} lata(s) de tinta. Custando no total R${preco:.2f}')"
   ]
  },
  {
   "cell_type": "markdown",
   "id": "d6503c92",
   "metadata": {
    "id": "d6503c92"
   },
   "source": [
    "#### 14. Faça um programa que peça o tamanho de um arquivo para download (em MB) e a velocidade de um link de Internet (em Mbps), calcule e informe o tempo aproximado de download do arquivo usando este link (em minutos).\n",
    "\n",
    "Detalhe: MB significa megabyte, Mb (com b minúsculo) significa megabit. Um megabit é 1/8 de um megabyte. "
   ]
  },
  {
   "cell_type": "code",
   "execution_count": 54,
   "id": "0563aa62",
   "metadata": {
    "id": "0563aa62"
   },
   "outputs": [
    {
     "name": "stdout",
     "output_type": "stream",
     "text": [
      "Informe o tamanho do arquivo em MB: 50000\n",
      "Informe a velocidade de download em Mbps: 94\n",
      "O arquivo no tamanho de 50000.0MB, na velocidade de 94.0Mbps levará 70 minutos e 55 segundos para completar o seu download.\n"
     ]
    }
   ],
   "source": [
    "mbyte = float(input('Informe o tamanho do arquivo em MB: '))\n",
    "velocidade = float(input('Informe a velocidade de download em Mbps: '))\n",
    "tamanho_mb = mbyte * 8 \n",
    "tempo = tamanho_mb / velocidade  # segundos para o download\n",
    "minutos = 0\n",
    "segundos = 0\n",
    "while True:\n",
    "    if tempo >= 60:\n",
    "        tempo = tempo - 60\n",
    "        minutos += 1\n",
    "    elif tempo < 60:\n",
    "        segundos = tempo\n",
    "        break\n",
    "print(f'O arquivo no tamanho de {mbyte}MB, na velocidade de {velocidade}Mbps levará {minutos} minutos e {segundos:.0f} segundos para completar o seu download.')\n",
    "    "
   ]
  }
 ],
 "metadata": {
  "colab": {
   "provenance": []
  },
  "kernelspec": {
   "display_name": "Python 3 (ipykernel)",
   "language": "python",
   "name": "python3"
  },
  "language_info": {
   "codemirror_mode": {
    "name": "ipython",
    "version": 3
   },
   "file_extension": ".py",
   "mimetype": "text/x-python",
   "name": "python",
   "nbconvert_exporter": "python",
   "pygments_lexer": "ipython3",
   "version": "3.10.9"
  }
 },
 "nbformat": 4,
 "nbformat_minor": 5
}
