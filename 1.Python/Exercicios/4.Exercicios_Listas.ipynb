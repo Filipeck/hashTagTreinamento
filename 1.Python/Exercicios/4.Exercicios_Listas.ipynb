{
 "cells": [
  {
   "cell_type": "markdown",
   "metadata": {},
   "source": [
    "# Exercícios\n",
    "\n",
    "## 1. Faturamento do Melhor e do Pior Mês do Ano\n",
    "\n",
    "Qual foi o valor de vendas do melhor mês do Ano?\n",
    "E valor do pior mês do ano?"
   ]
  },
  {
   "cell_type": "code",
   "execution_count": 3,
   "metadata": {},
   "outputs": [
    {
     "name": "stdout",
     "output_type": "stream",
     "text": [
      "O mês que teve maior vendas apresentou o valor de 49051 vendas e o menor número de vendas foi de 9650 vendas.\n"
     ]
    }
   ],
   "source": [
    "meses = ['jan', 'fev', 'mar', 'abr', 'mai', 'jun', 'jul', 'ago', 'set', 'out', 'nov', 'dez']\n",
    "vendas_1sem = [25000, 29000, 22200, 17750, 15870, 19900]\n",
    "vendas_2sem = [19850, 20120, 17540, 15555, 49051, 9650]\n",
    "# código\n",
    "vendas_ano = vendas_1sem + vendas_2sem\n",
    "maior_venda = max(vendas_ano)\n",
    "menor_venda = min(vendas_ano)\n",
    "print(f'O mês que teve maior vendas apresentou o valor de {maior_venda} vendas e o menor número de vendas foi de {menor_venda} vendas.')"
   ]
  },
  {
   "cell_type": "markdown",
   "metadata": {},
   "source": [
    "## 2. Continuação\n",
    "\n",
    "Agora relacione as duas listas para printar 'O melhor mês do ano foi {} com {} vendas' e o mesmo para o pior mês do ano.\n",
    "\n",
    "Calcule também o faturamento total do Ano e quanto que o melhor mês representou do faturamento total.\n",
    "\n",
    "Obs: Para o faturamento total, pode usar a função sum(lista) que soma todos os itens de uma lista"
   ]
  },
  {
   "cell_type": "code",
   "execution_count": 37,
   "metadata": {},
   "outputs": [
    {
     "name": "stdout",
     "output_type": "stream",
     "text": [
      "O melhor mês do ano foi \u001b[32mnov\u001b[m com 49051 vendas. O pior mês do ano foi \u001b[31mdez\u001b[m com 9650 vendas.\n",
      "O faturamento total do ano foi de 261486 vendas. O mês de nov representou 18.8%\n"
     ]
    }
   ],
   "source": [
    "mes_maior_venda = vendas_ano.index(maior_venda)\n",
    "mes_menor_venda = vendas_ano.index(menor_venda)\n",
    "faturamento_total = sum(vendas_ano)\n",
    "porcentagem_maior =maior_venda / faturamento_total * 100\n",
    "print(f'O melhor mês do ano foi \\033[32m{meses[mes_maior_venda]}\\033[m com {maior_venda} vendas. O pior mês do ano foi \\033[31m{meses[mes_menor_venda]}\\033[m com {menor_venda} vendas.')\n",
    "print(f'O faturamento total do ano foi de {faturamento_total} vendas. O mês de {meses[mes_maior_venda]} representou {porcentagem_maior:.1f}% das vendas totais.')"
   ]
  },
  {
   "cell_type": "markdown",
   "metadata": {},
   "source": [
    "## 3. Crie uma lista com o top 3 valores de vendas do ano (sem fazer \"no olho\")\n",
    "\n",
    "Dica: o método remove retira um item da lista."
   ]
  },
  {
   "cell_type": "code",
   "execution_count": 2,
   "metadata": {},
   "outputs": [],
   "source": [
    "top3 = []"
   ]
  }
 ],
 "metadata": {
  "kernelspec": {
   "display_name": "Python 3 (ipykernel)",
   "language": "python",
   "name": "python3"
  },
  "language_info": {
   "codemirror_mode": {
    "name": "ipython",
    "version": 3
   },
   "file_extension": ".py",
   "mimetype": "text/x-python",
   "name": "python",
   "nbconvert_exporter": "python",
   "pygments_lexer": "ipython3",
   "version": "3.10.9"
  }
 },
 "nbformat": 4,
 "nbformat_minor": 4
}
