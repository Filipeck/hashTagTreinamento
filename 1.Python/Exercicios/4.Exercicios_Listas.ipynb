{
 "cells": [
  {
   "cell_type": "markdown",
   "metadata": {},
   "source": [
    "# Exercícios\n",
    "\n",
    "## 1. Faturamento do Melhor e do Pior Mês do Ano\n",
    "\n",
    "Qual foi o valor de vendas do melhor mês do Ano?\n",
    "E valor do pior mês do ano?"
   ]
  },
  {
   "cell_type": "code",
   "execution_count": 1,
   "metadata": {},
   "outputs": [
    {
     "name": "stdout",
     "output_type": "stream",
     "text": [
      "O mês que teve maior vendas apresentou o valor de 49051 vendas e o menor número de vendas foi de 9650 vendas.\n"
     ]
    }
   ],
   "source": [
    "meses = ['jan', 'fev', 'mar', 'abr', 'mai', 'jun', 'jul', 'ago', 'set', 'out', 'nov', 'dez']\n",
    "vendas_1sem = [25000, 29000, 22200, 17750, 15870, 19900]\n",
    "vendas_2sem = [19850, 20120, 17540, 15555, 49051, 9650]\n",
    "\n",
    "# código vendas_1sem.extend(vendas_2sem)\n",
    "vendas_ano = vendas_1sem + vendas_2sem\n",
    "maior_venda = max(vendas_ano)\n",
    "menor_venda = min(vendas_ano)\n",
    "print(f'O mês que teve maior vendas apresentou o valor de {maior_venda} vendas e o menor número de vendas foi de {menor_venda} vendas.')"
   ]
  },
  {
   "cell_type": "markdown",
   "metadata": {},
   "source": [
    "## 2. Continuação\n",
    "\n",
    "Agora relacione as duas listas para printar 'O melhor mês do ano foi {} com {} vendas' e o mesmo para o pior mês do ano.\n",
    "\n",
    "Calcule também o faturamento total do Ano e quanto que o melhor mês representou do faturamento total.\n",
    "\n",
    "Obs: Para o faturamento total, pode usar a função sum(lista) que soma todos os itens de uma lista"
   ]
  },
  {
   "cell_type": "code",
   "execution_count": 4,
   "metadata": {},
   "outputs": [
    {
     "name": "stdout",
     "output_type": "stream",
     "text": [
      "O melhor mês do ano foi \u001b[32mnov\u001b[m com 49051 vendas. O pior mês do ano foi \u001b[31mdez\u001b[m com 9650 vendas.\n",
      "O faturamento total do ano foi de R$261486.00 vendas. O mês de nov representou 18.76% das vendas totais.\n"
     ]
    }
   ],
   "source": [
    "mes_maior_venda = vendas_ano.index(maior_venda)\n",
    "mes_menor_venda = vendas_ano.index(menor_venda)\n",
    "\n",
    "print(f'O melhor mês do ano foi \\033[32m{meses[mes_maior_venda]}\\033[m com {maior_venda} vendas. O pior mês do ano foi \\033[31m{meses[mes_menor_venda]}\\033[m com {menor_venda} vendas.')\n",
    "\n",
    "faturamento_total = sum(vendas_ano)\n",
    "porcentagem = maior_venda / faturamento_total\n",
    "print(f'O faturamento total do ano foi de R${faturamento_total:.2f} vendas. O mês de {meses[mes_maior_venda]} representou {porcentagem:.2%} das vendas totais.')"
   ]
  },
  {
   "cell_type": "markdown",
   "metadata": {},
   "source": [
    "## 3. Crie uma lista com o top 3 valores de vendas do ano\n",
    "\n",
    "Dica: o método remove retira um item da lista."
   ]
  },
  {
   "cell_type": "code",
   "execution_count": 17,
   "metadata": {},
   "outputs": [
    {
     "name": "stdout",
     "output_type": "stream",
     "text": [
      "As vendas do ano foram: [17750, 15870, 19900, 19850, 20120, 17540, 15555, 9650]\n",
      "As 3 maiores vendas do ano foram consecutivamente> [20120, 19900, 19850]\n"
     ]
    }
   ],
   "source": [
    "top3 = []\n",
    "\n",
    "print(f'As vendas do ano foram: {vendas_ano}')\n",
    "maior_valor = max(vendas_ano)\n",
    "top3.append(maior_valor)\n",
    "\n",
    "vendas_ano.remove(maior_valor)\n",
    "\n",
    "maior_valor = max(vendas_ano)\n",
    "top3.append(maior_valor)\n",
    "vendas_ano.remove(maior_valor)\n",
    "maior_valor = max(vendas_ano)\n",
    "top3.append(maior_valor)\n",
    "print(f'As 3 maiores vendas do ano foram consecutivamente> {top3}')"
   ]
  }
 ],
 "metadata": {
  "kernelspec": {
   "display_name": "Python 3 (ipykernel)",
   "language": "python",
   "name": "python3"
  },
  "language_info": {
   "codemirror_mode": {
    "name": "ipython",
    "version": 3
   },
   "file_extension": ".py",
   "mimetype": "text/x-python",
   "name": "python",
   "nbconvert_exporter": "python",
   "pygments_lexer": "ipython3",
   "version": "3.10.9"
  }
 },
 "nbformat": 4,
 "nbformat_minor": 4
}
